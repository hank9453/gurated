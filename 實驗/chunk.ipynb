{
 "cells": [
  {
   "cell_type": "code",
   "execution_count": 1,
   "metadata": {},
   "outputs": [
    {
     "name": "stderr",
     "output_type": "stream",
     "text": [
      "c:\\Users\\hank\\AppData\\Local\\Programs\\Python\\Python38\\lib\\site-packages\\sentence_transformers\\cross_encoder\\CrossEncoder.py:13: TqdmWarning: IProgress not found. Please update jupyter and ipywidgets. See https://ipywidgets.readthedocs.io/en/stable/user_install.html\n",
      "  from tqdm.autonotebook import tqdm, trange\n"
     ]
    }
   ],
   "source": [
    "from sentence_transformers import SentenceTransformer, util\n",
    "import fitz\n",
    "import os\n",
    "\n",
    "# 初始化嵌入模型\n",
    "embed_model = SentenceTransformer(\"BAAI/bge-m3\")\n",
    "\n",
    "\n",
    "\n",
    "\n",
    "local_chunk_set = []\n",
    "\n",
    "\n",
    "def read_pdf(pdf_path):\n",
    "    \"\"\"讀取 PDF 檔案並依據文本頁數返回其內容\"\"\"\n",
    "    page_content= []\n",
    "    doc = fitz.open(pdf_path)\n",
    "    for page_num, page in enumerate(doc):\n",
    "        text = page.get_text()\n",
    "        page_content.append({'page':page_num+1,'content':text})\n",
    "    doc.close()\n",
    "    return page_content\n",
    "\n",
    "\n",
    "def chunk_text(pages, chunk_size):\n",
    "    \"\"\"將文本拆分為指定大小的 chunks，允許 chunk 跨越頁數，並標記 chunk 涉及的頁數範圍\"\"\"\n",
    "    chunks = []\n",
    "    current_chunk = []\n",
    "    current_pages = set()\n",
    "    current_length = 0\n",
    "    max_token_length = chunk_size  \n",
    "\n",
    "    for page in pages:\n",
    "        text = page['content']\n",
    "        text_tokens = embed_model.tokenizer.tokenize(text)\n",
    "\n",
    "        while text_tokens:\n",
    "            space_left = max_token_length - current_length\n",
    "\n",
    "            # 如果當前 chunk 還有空間\n",
    "            if space_left > 0:\n",
    "                tokens_to_add = text_tokens[:space_left]\n",
    "                text_tokens = text_tokens[space_left:]\n",
    "\n",
    "                current_chunk.extend(tokens_to_add)\n",
    "                current_pages.add(page['page'])\n",
    "                current_length += len(tokens_to_add)\n",
    "\n",
    "            # 當 chunk 滿了，就存入 chunks，並重置變數\n",
    "            if current_length >= max_token_length or (current_length > 0 and len(text_tokens) > 0):\n",
    "                chunks.append({\n",
    "                    'pages': sorted(current_pages),\n",
    "                    'content': embed_model.tokenizer.convert_tokens_to_string(current_chunk)\n",
    "                })\n",
    "                current_chunk = []\n",
    "                current_pages = set()\n",
    "                current_length = 0\n",
    "\n",
    "    # 處理最後一個未滿的 chunk\n",
    "    if current_length > 0:\n",
    "        chunks.append({\n",
    "            'pages': sorted(current_pages),\n",
    "            'content': embed_model.tokenizer.convert_tokens_to_string(current_chunk)\n",
    "        })\n",
    "\n",
    "    return chunks\n"
   ]
  },
  {
   "cell_type": "code",
   "execution_count": 3,
   "metadata": {},
   "outputs": [],
   "source": [
    "folder_path = '../pdf'\n",
    "pdf_files = [f for f in os.listdir(folder_path) if f.lower().endswith('.pdf')]\n"
   ]
  },
  {
   "cell_type": "markdown",
   "metadata": {},
   "source": [
    "原始的chunk"
   ]
  },
  {
   "cell_type": "code",
   "execution_count": null,
   "metadata": {},
   "outputs": [
    {
     "name": "stdout",
     "output_type": "stream",
     "text": [
      "已儲存 4940 筆資料到 FAISS\n"
     ]
    },
    {
     "name": "stderr",
     "output_type": "stream",
     "text": [
      "Featurizing p: 100%|██████████| 105/105 [00:01<00:00, 62.34it/s]\n",
      "Featurizing q: 100%|██████████| 154/154 [00:02<00:00, 62.93it/s]\n"
     ]
    },
    {
     "name": "stdout",
     "output_type": "stream",
     "text": [
      "問題：如何在教育機構資安通報平台修改資安長的資料？\n",
      "參考答案：請單位的資安連絡人登錄「教育機構資安通報平台」(https://info.cert.tanet.edu.tw)後，點選左方功能列之「修改資安長資料」功能項，輸入單位的資安長相關連絡資訊，點選「送出」以儲存資料。\n",
      "生成答案：在教育機構資安通報平台修改資安長的資料，請單位的資安連絡人登錄「教育機構資安通報平台」(https://info.cert.tanet.edu.tw)後，點選左方功能列之「修改資安長資料」功能項。輸入單位的資安長相關連絡資訊（包含資安長姓名、資安長公務電話及資安長公務e-mail），點選「送出」以儲存資料。\n",
      "ROUGE-L：0.803088803088803\n"
     ]
    },
    {
     "name": "stderr",
     "output_type": "stream",
     "text": [
      "Featurizing p: 100%|██████████| 38/38 [00:00<00:00, 61.86it/s]\n",
      "Featurizing q: 100%|██████████| 36/36 [00:00<00:00, 64.51it/s]\n"
     ]
    },
    {
     "name": "stdout",
     "output_type": "stream",
     "text": [
      "問題：資安長的聯絡資訊需要包含哪些內容？\n",
      "參考答案：資安長的聯絡資訊需要包含資安長姓名、資安長公務電話及資安長公務e-mail。\n",
      "生成答案：資安長的聯絡資訊需要包含資安長姓名、資安長公務電話及資安長公務電子郵件。\n",
      "ROUGE-L：0.8648648648648649\n"
     ]
    },
    {
     "name": "stderr",
     "output_type": "stream",
     "text": [
      "Featurizing p: 100%|██████████| 57/57 [00:00<00:00, 64.69it/s]\n",
      "Featurizing q: 100%|██████████| 106/106 [00:01<00:00, 64.66it/s]\n"
     ]
    },
    {
     "name": "stdout",
     "output_type": "stream",
     "text": [
      "問題：在資安事件發生時，臺灣學術網路各級學校應如何確保正常運作？\n",
      "參考答案：在資安事件發生時，臺灣學術網路各級學校應迅速通報及緊急應變處置，以確保正常運作，並符合「資通安全管理法」相關規範。\n",
      "生成答案：在資安事件發生時,臺灣學術網路各級學校應遵循「臺灣學術網路管理規範」及各單位內部備份管理辦法,迅速通報並進行緊急應變處置。若系統損壞程度嚴重,得先行中斷該系統的網路連線,待完成通報應變改善作為後,始得恢復其連線。\n",
      "ROUGE-L：0.3803680981595092\n"
     ]
    },
    {
     "name": "stderr",
     "output_type": "stream",
     "text": [
      "Featurizing p: 100%|██████████| 55/55 [00:00<00:00, 64.79it/s]\n",
      "Featurizing q: 100%|██████████| 106/106 [00:01<00:00, 64.31it/s]\n"
     ]
    },
    {
     "name": "stdout",
     "output_type": "stream",
     "text": [
      "問題：資安事件發生後，應變作業包括哪些具體機制？\n",
      "參考答案：應變作業包括各級學校、教育及研究機構之事前安全防護、事中緊急應變、事後復原作業之具體機制及相關應變作業檢討等。\n",
      "生成答案：各級學校、學術機構及連線單位應建立資安事件之「事前安全防護」、「事中緊急應變」及「事後復原」作業之具體機制,並至少包含下列各項: (一) 事前安全防護 (二) 事中緊急應變 (三) 事後情況(Aftermath)\n",
      "ROUGE-L：0.422360248447205\n"
     ]
    },
    {
     "name": "stderr",
     "output_type": "stream",
     "text": [
      "Featurizing p: 100%|██████████| 42/42 [00:00<00:00, 62.73it/s]\n",
      "Featurizing q: 100%|██████████| 110/110 [00:01<00:00, 64.65it/s]\n"
     ]
    },
    {
     "name": "stdout",
     "output_type": "stream",
     "text": [
      "問題：資安演練作業的目的為何？\n",
      "參考答案：資安演練作業的目的是檢驗區、縣（市）網路中心及所屬連線單位之資安通報機制及應變能力。\n",
      "生成答案：資安演練的目的包括：檢驗「區、縣(市)網路中心」及所屬連線單位之資安作業、更換密碼並檢查資安聯絡人資料是否正確、進行「告知通報」形式的資安演練事件通知簡訊及郵件、檢驗區、縣(市)網路中心及所屬連線單位之資安通報應變作業。\n",
      "ROUGE-L：0.4342105263157895\n"
     ]
    },
    {
     "name": "stderr",
     "output_type": "stream",
     "text": [
      "Featurizing p: 100%|██████████| 28/28 [00:00<00:00, 65.08it/s]\n",
      "Featurizing q: 100%|██████████| 205/205 [00:03<00:00, 65.18it/s]\n"
     ]
    },
    {
     "name": "stdout",
     "output_type": "stream",
     "text": [
      "問題：獎懲及減責標準中包含哪些內容？\n",
      "參考答案：獎懲及減責標準中包含提報獎勵標準、懲處規定及減責規定等。\n",
      "生成答案：獎懲及減責標準包含以下內容：\n",
      "一、 獎勵標準\n",
      "(一) 公務機關依「公務機關資通安全事件處理規範」第 6 條規定，於事件發生後 8 小時內完成通報，並於 24 小時內完成初步評估及通報主管機關。\n",
      "\n",
      "二、 權責\n",
      "演練報告經本部資通安全長核定，於每次演練完成後 1 個月內主動送行政院國家資通安全會報備查。\n",
      "\n",
      "三、 減責標準\n",
      "遵循本作業程序規定確實辦理資安事件通報及應變作業並提供資安紀錄，仍致政府或民眾權益受損時，\n",
      "ROUGE-L：0.18025751072961374\n"
     ]
    },
    {
     "name": "stderr",
     "output_type": "stream",
     "text": [
      "Featurizing p: 100%|██████████| 43/43 [00:00<00:00, 65.29it/s]\n",
      "Featurizing q: 100%|██████████| 41/41 [00:00<00:00, 63.36it/s]\n"
     ]
    },
    {
     "name": "stdout",
     "output_type": "stream",
     "text": [
      "問題：在臺灣學術網路通報應變架構中，第一線人員的職責是什麼？\n",
      "參考答案：第一線人員指各連線單位之網管、資安人員，其職掌範圍為其所管轄單位之資安事件通報與處理。\n",
      "生成答案：在臺灣學術網路通報應變架構中，第一線人員的職責是其所管轄單位之資安事件通報與處理。\n",
      "ROUGE-L：0.5476190476190476\n"
     ]
    },
    {
     "name": "stderr",
     "output_type": "stream",
     "text": [
      "Featurizing p: 100%|██████████| 30/30 [00:00<00:00, 63.94it/s]\n",
      "Featurizing q: 100%|██████████| 23/23 [00:00<00:00, 64.09it/s]\n"
     ]
    },
    {
     "name": "stdout",
     "output_type": "stream",
     "text": [
      "問題：誰負責指揮與監督重大資安事件之通報應變？\n",
      "參考答案：教育部資訊及科技教育司負責指揮與監督重大資安事件之通報應變。\n",
      "生成答案：主管機關負責指揮與監督重大資安事件之通報應變。\n",
      "ROUGE-L：0.7169811320754716\n"
     ]
    },
    {
     "name": "stderr",
     "output_type": "stream",
     "text": [
      "Featurizing p: 100%|██████████| 60/60 [00:00<00:00, 64.72it/s]\n",
      "Featurizing q: 100%|██████████| 60/60 [00:00<00:00, 64.33it/s]\n"
     ]
    },
    {
     "name": "stdout",
     "output_type": "stream",
     "text": [
      "問題：各級學校資安通報應變小組的職掌範圍是什麼？\n",
      "參考答案：各級學校資安通報應變小組的職掌範圍為負責各級學校資安通報平台之營運，審核所有資安事件，協調資安事件通報、處理與支援事項。\n",
      "生成答案：各級學校資安通報應變小組的職掌範圍為負責各級學校資安通報平台之營運,審核所有資安事件,協調資安事件通報、處理與支援事項。\n",
      "ROUGE-L：0.9666666666666667\n"
     ]
    },
    {
     "name": "stderr",
     "output_type": "stream",
     "text": [
      "Featurizing p: 100%|██████████| 64/64 [00:00<00:00, 64.68it/s]\n",
      "Featurizing q: 100%|██████████| 19/19 [00:00<00:00, 64.49it/s]\n"
     ]
    },
    {
     "name": "stdout",
     "output_type": "stream",
     "text": [
      "問題：如果國家機密遭洩漏，這屬於哪一級的資通安全事件？\n",
      "參考答案：符合下列任一情形者，屬4 級事件：1. 一般公務機密、敏感資訊或涉及關鍵基礎設施維運之核心業務資訊遭嚴重洩漏，或國家機密遭洩漏。\n",
      "生成答案：國家機密遭洩漏屬於第四級資通安全事件。\n",
      "ROUGE-L：0.1927710843373494\n"
     ]
    },
    {
     "name": "stderr",
     "output_type": "stream",
     "text": [
      "Featurizing p: 100%|██████████| 58/58 [00:00<00:00, 65.53it/s]\n",
      "Featurizing q: 100%|██████████| 10/10 [00:00<00:00, 64.32it/s]\n"
     ]
    },
    {
     "name": "stdout",
     "output_type": "stream",
     "text": [
      "問題：當核心業務資訊遭輕微洩漏，但不涉及關鍵基礎設施維運時，這屬於哪一級事件？\n",
      "參考答案：符合下列任一情形者，屬2 級事件：1. 非核心業務資訊遭嚴重洩漏，或未涉及關鍵基礎設施維運之核心業務資訊遭輕微洩漏。\n",
      "生成答案：這屬於 2 級事件。\n",
      "ROUGE-L：0.2058823529411765\n"
     ]
    },
    {
     "name": "stderr",
     "output_type": "stream",
     "text": [
      "Featurizing p: 100%|██████████| 120/120 [00:01<00:00, 65.65it/s]\n",
      "Featurizing q: 100%|██████████| 8/8 [00:00<00:00, 64.50it/s]\n"
     ]
    },
    {
     "name": "stdout",
     "output_type": "stream",
     "text": [
      "問題：如果核心業務或核心資通系統的運作受影響，但能在可容忍中斷時間內恢復，這屬於哪一級事件？\n",
      "參考答案：符合下列任一情形者，屬3 級事件：3. 未涉及關鍵基礎設施維運之核心業務或核心資通系統之運作受影響或停頓，無法於可容忍中斷時間內回復正常運作，或涉及關鍵基礎設施維運之核心業務或核心資通系統之運作受影響或停頓，於可容忍中斷時間內回復正常運作。\n",
      "生成答案：這屬於4級事件。\n",
      "ROUGE-L：0.078125\n"
     ]
    },
    {
     "name": "stderr",
     "output_type": "stream",
     "text": [
      "Featurizing p: 100%|██████████| 28/28 [00:00<00:00, 64.60it/s]\n",
      "Featurizing q: 100%|██████████| 56/56 [00:00<00:00, 62.97it/s]\n"
     ]
    },
    {
     "name": "stdout",
     "output_type": "stream",
     "text": [
      "問題：如果需要通報資安事件，應該在哪個網站進行登錄作業？\n",
      "參考答案：應該至各級學校資安通報平台（通報應變網站）進行登錄作業。\n",
      "生成答案：應該在教育機構資安通報應變網站 (https://info.cert.tanet.edu.tw) 進行登錄作業。\n",
      "ROUGE-L：0.40476190476190477\n"
     ]
    },
    {
     "name": "stderr",
     "output_type": "stream",
     "text": [
      "Featurizing p: 100%|██████████| 20/20 [00:00<00:00, 65.43it/s]\n",
      "Featurizing q: 100%|██████████| 42/42 [00:00<00:00, 64.59it/s]\n"
     ]
    },
    {
     "name": "stdout",
     "output_type": "stream",
     "text": [
      "問題：誰負責營運維護資安事件通報管理及技術支援服務？\n",
      "參考答案：由本部委託臺灣學術網路危機處理中心負責。\n",
      "生成答案：臺灣學術網路危機處理中心(TACERT)負責營運維護資安事件通報管理及技術支援服務。\n",
      "ROUGE-L：0.48387096774193544\n"
     ]
    },
    {
     "name": "stderr",
     "output_type": "stream",
     "text": [
      "Featurizing p: 100%|██████████| 37/37 [00:00<00:00, 64.14it/s]\n",
      "Featurizing q: 100%|██████████| 71/71 [00:01<00:00, 64.01it/s]\n"
     ]
    },
    {
     "name": "stdout",
     "output_type": "stream",
     "text": [
      "問題：若需要聯繫技術支援，應該使用哪個電子郵件地址？\n",
      "參考答案：應該使用電子郵件地址 service@cert.tanet.edu.tw。\n",
      "生成答案：若需要聯繫技術支援，應該使用以下電子郵件地址：yongloun@tutanota.com 或 anygrishevich@yandex.ru。\n",
      "ROUGE-L：0.42592592592592593\n"
     ]
    },
    {
     "name": "stderr",
     "output_type": "stream",
     "text": [
      "Featurizing p: 100%|██████████| 37/37 [00:00<00:00, 64.12it/s]\n",
      "Featurizing q: 100%|██████████| 45/45 [00:00<00:00, 62.87it/s]\n"
     ]
    },
    {
     "name": "stdout",
     "output_type": "stream",
     "text": [
      "問題：通報資安事件時，可以撥打哪個電話號碼進行聯繫？\n",
      "參考答案：可以撥打聯絡電話 (07)525-0211 或網路電話 98400000。\n",
      "生成答案：您可以撥打 mis.nsysu.edu.tw 諮詢專線:(07)5250211 進行聯繫。\n",
      "ROUGE-L：0.43902439024390244\n"
     ]
    },
    {
     "name": "stderr",
     "output_type": "stream",
     "text": [
      "Featurizing p: 100%|██████████| 40/40 [00:00<00:00, 64.39it/s]\n",
      "Featurizing q: 100%|██████████| 13/13 [00:00<00:00, 62.52it/s]\n"
     ]
    },
    {
     "name": "stdout",
     "output_type": "stream",
     "text": [
      "問題：如果發現資安事件，應在多長時間內通報登錄資安事件細節？\n",
      "參考答案：須於1小時內，至通報應變網站通報登錄資安事件細節、影響等級及是否申請支援等資訊。\n",
      "生成答案：知悉後,一小時內進行通報。\n",
      "ROUGE-L：0.22641509433962265\n"
     ]
    },
    {
     "name": "stderr",
     "output_type": "stream",
     "text": [
      "Featurizing p: 100%|██████████| 76/76 [00:01<00:00, 64.52it/s]\n",
      "Featurizing q: 100%|██████████| 168/168 [00:02<00:00, 65.33it/s]\n"
     ]
    },
    {
     "name": "stdout",
     "output_type": "stream",
     "text": [
      "問題：在網路或電力中斷的情況下，如何處理資安事件通報？\n",
      "參考答案：須於確認資安事件條件成立後1小時內，與所屬區、縣（市）網路中心及通報應變小組聯繫，先行提供事件細節，待網路通訊恢復正常後，仍須至通報應變網站補登錄通報。\n",
      "生成答案：在網路或電力中斷的情況下,若無法上網填報資安事件,應於確認資安事件條件成立後立即通報登錄資安事件細節、影響等級及是否申請支援等資訊。對於「4」、「3」級事件,須於通報後2小時內完成審核;「2」、「1」級事件則須於1小時內與所屬區、縣(市)網路中心及通報應變小組聯繫,先行提供事件細節。待網路通訊恢復正常後,仍須至通報應變網站補登錄通報。\n",
      "ROUGE-L：0.5655737704918034\n"
     ]
    },
    {
     "name": "stderr",
     "output_type": "stream",
     "text": [
      "Featurizing p: 100%|██████████| 29/29 [00:00<00:00, 64.67it/s]\n",
      "Featurizing q: 100%|██████████| 29/29 [00:00<00:00, 65.09it/s]\n"
     ]
    },
    {
     "name": "stdout",
     "output_type": "stream",
     "text": [
      "問題：「4」、「3」級資安事件需要在多長時間內完成損害控制或復原？\n",
      "參考答案：「4」、「3」級資安事件須於36小時內完成損害控制或復原。\n",
      "生成答案：「4」、「3」級資安事件須於36小時內完成損害控制或復原。\n",
      "ROUGE-L：1.0\n"
     ]
    },
    {
     "name": "stderr",
     "output_type": "stream",
     "text": [
      "Featurizing p: 100%|██████████| 40/40 [00:00<00:00, 65.27it/s]\n",
      "Featurizing q: 100%|██████████| 130/130 [00:01<00:00, 65.29it/s]\n"
     ]
    },
    {
     "name": "stdout",
     "output_type": "stream",
     "text": [
      "問題：完成資安事件處理後，應如何進行結案通報？\n",
      "參考答案：完成資安事件處理後，須至通報應變網站通報結案，並登錄資安事件處理過程及完成時間。\n",
      "生成答案：完成資安事件處理後,應至通報應變網站通報結案。針對「4」、「3」級資安事件,區、縣(市)網路中心於接獲所屬連線單位結案申機構資安通報應變流程」完 成填寫通報應變->二線區縣市網路中心通報審核->TACERT 團隊通報審核, 此DDoS 攻擊事件單才算完整結案。\n",
      "ROUGE-L：0.32941176470588235\n"
     ]
    },
    {
     "name": "stderr",
     "output_type": "stream",
     "text": [
      "Featurizing p: 100%|██████████| 55/55 [00:00<00:00, 65.33it/s]\n",
      "Featurizing q: 100%|██████████| 106/106 [00:01<00:00, 65.06it/s]\n"
     ]
    },
    {
     "name": "stdout",
     "output_type": "stream",
     "text": [
      "問題：如果無法通過網路進行通報，還有哪些方式可以通報資安事件？\n",
      "參考答案：可填寫「臺灣學術網路各級學校資通安全事件通報單」以傳真或電子郵件方式送至「臺灣學術網路危機處理中心」進行通報。\n",
      "生成答案：如果因網路或電力中斷等事由,致使無法上網填報資安事件,須於確認資 安事件條件成立後 1 小時內,與所屬區、縣(市)網路中心及通報應變小組聯繫,先行提供事件細節,待網路通訊恢復正常後,仍須至通報應變網站補登錄通報。\n",
      "ROUGE-L：0.18633540372670807\n"
     ]
    },
    {
     "name": "stderr",
     "output_type": "stream",
     "text": [
      "Featurizing p: 100%|██████████| 31/31 [00:00<00:00, 64.87it/s]\n",
      "Featurizing q: 100%|██████████| 34/34 [00:00<00:00, 64.87it/s]\n"
     ]
    },
    {
     "name": "stdout",
     "output_type": "stream",
     "text": [
      "問題：如果發生『4』級資安事件，區、縣（市）網路中心需要在多長時間內完成審核？\n",
      "參考答案：若資安事件屬『4』、『3』級事件，須於通報後2小時內完成審核。\n",
      "生成答案：若發生『4』級資安事件，區、縣（市）網路中心需要在2小時內完成審核。\n",
      "ROUGE-L：0.5230769230769231\n"
     ]
    },
    {
     "name": "stderr",
     "output_type": "stream",
     "text": [
      "Featurizing p: 100%|██████████| 55/55 [00:00<00:00, 65.02it/s]\n",
      "Featurizing q: 100%|██████████| 74/74 [00:01<00:00, 65.45it/s]\n"
     ]
    },
    {
     "name": "stdout",
     "output_type": "stream",
     "text": [
      "問題：當區、縣（市）網路中心申請技術支援時，通報應變小組需要做什麼？\n",
      "參考答案：通報應變小組須於完成複核後，聯繫區、縣（市）網路中心確認技術支援事項，並通報本部資科司及協調提供技術支援方式。\n",
      "生成答案：當區、縣（市）網路中心申請技術支援時，通報應變小組須於完成複核後，聯繫區、縣(市)網路中心確認技術支援事項，並通報本部資科司及協調提供技術支援方式。\n",
      "ROUGE-L：0.8217054263565892\n"
     ]
    },
    {
     "name": "stderr",
     "output_type": "stream",
     "text": [
      "Featurizing p: 100%|██████████| 36/36 [00:00<00:00, 64.45it/s]\n",
      "Featurizing q: 100%|██████████| 36/36 [00:00<00:00, 63.94it/s]\n"
     ]
    },
    {
     "name": "stdout",
     "output_type": "stream",
     "text": [
      "問題：通報應變小組在接獲『4』級資安事件後，應在多長時間內進行資通安全事件通報？\n",
      "參考答案：經本部確認級別後一小時內，依行政院指定方式及對象，進行資通安全事件通報。\n",
      "生成答案：通報應變小組在接獲『4』級資安事件後,應在一小時內進行資通安全事件通報。\n",
      "ROUGE-L：0.4722222222222222\n"
     ]
    },
    {
     "name": "stderr",
     "output_type": "stream",
     "text": [
      "Featurizing p: 100%|██████████| 42/42 [00:00<00:00, 65.67it/s]\n",
      "Featurizing q: 100%|██████████| 42/42 [00:00<00:00, 65.60it/s]\n"
     ]
    },
    {
     "name": "stdout",
     "output_type": "stream",
     "text": [
      "問題：若區、縣（市）網路中心未能在規定時限內完成通報審核，通報應變小組可以採取什麼措施？\n",
      "參考答案：如區、縣（市）網路中心未能於規定時限內完成通報審核，通報應變小組得逕行通知完成審核。\n",
      "生成答案：若區、縣（市）網路中心未能在規定時限內完成通報審核，通報應變小組得逕行通知完成審核。\n",
      "ROUGE-L：0.9523809523809523\n"
     ]
    },
    {
     "name": "stderr",
     "output_type": "stream",
     "text": [
      "Featurizing p: 100%|██████████| 56/56 [00:00<00:00, 65.62it/s]\n",
      "Featurizing q: 100%|██████████| 38/38 [00:00<00:00, 65.02it/s]\n"
     ]
    },
    {
     "name": "stdout",
     "output_type": "stream",
     "text": [
      "問題：在事前安全防護中，應如何處理機敏文件和資料？\n",
      "參考答案：應規劃建置資通安全整體防護環境，做好內部資料存取控制，對於機敏文件、資料及檔案等應採取加密或實體隔離等防護措施。\n",
      "生成答案：在事前安全防護中，應對於機敏文件、資料及檔案等採取加密或實體隔離等防護措施。\n",
      "ROUGE-L：0.7021276595744681\n"
     ]
    },
    {
     "name": "stderr",
     "output_type": "stream",
     "text": [
      "Featurizing p: 100%|██████████| 60/60 [00:00<00:00, 65.77it/s]\n",
      "Featurizing q: 100%|██████████| 64/64 [00:00<00:00, 65.46it/s]\n"
     ]
    },
    {
     "name": "stdout",
     "output_type": "stream",
     "text": [
      "問題：各連線單位在事前安全防護中，應如何確保系統安全弱點被及早發現並修復？\n",
      "參考答案：應針對上述建立資通安全防護環境及相關措施，列入年度定期稽核項目，定期實施內部稽核，以儘早發現系統安全弱點並完成修復補強。\n",
      "生成答案：各連線單位在事前安全防護中，應透過威脅與弱點分析及研判潛在風險，並採取對應之預防或應變措施，以確保系統安全弱點被及早發現並修復。\n",
      "ROUGE-L：0.3064516129032258\n"
     ]
    },
    {
     "name": "stderr",
     "output_type": "stream",
     "text": [
      "Featurizing p: 100%|██████████| 59/59 [00:00<00:00, 64.53it/s]\n",
      "Featurizing q: 100%|██████████| 68/68 [00:01<00:00, 65.16it/s]\n"
     ]
    },
    {
     "name": "stdout",
     "output_type": "stream",
     "text": [
      "問題：在事中緊急應變中，應如何處理資安事件的相關證據？\n",
      "參考答案：應就資安事件發生原因、影響等級、可能影響範圍、可能損失及是否需要支援等項目逐一檢討與處置，並保留被入侵或破壞相關證據。\n",
      "生成答案：在事中緊急應變中，應就資安事件發生原因、影響等級、可能影響範圍、可能損失及是否需要支援等項目逐一檢討與處置，並保留被入侵或破壞相關證據。\n",
      "ROUGE-L：0.9291338582677166\n"
     ]
    },
    {
     "name": "stderr",
     "output_type": "stream",
     "text": [
      "Featurizing p: 100%|██████████| 51/51 [00:00<00:00, 65.47it/s]\n",
      "Featurizing q: 100%|██████████| 97/97 [00:01<00:00, 64.98it/s]\n"
     ]
    },
    {
     "name": "stdout",
     "output_type": "stream",
     "text": [
      "問題：為了強化資通安全整體防護能力，應實施哪些機制？\n",
      "參考答案：應實施資通安全稽核、網路監控及人員安全管理等機制，以強化資通安全整體防護能力，降低安全威脅及災害損失。\n",
      "生成答案：為了強化資通安全整體防護能力,應實施以下機制:\n",
      "1. 執行入侵偵測、安全檢測及弱點掃描等安全檢測工作。\n",
      "2. 訂定系統與資料備份管理辦法。\n",
      "3. 實施資通安全稽核、網路監控及人員安全管理等機制。\n",
      "ROUGE-L：0.3378378378378378\n"
     ]
    },
    {
     "name": "stderr",
     "output_type": "stream",
     "text": [
      "Featurizing p: 100%|██████████| 43/43 [00:00<00:00, 65.63it/s]\n",
      "Featurizing q: 100%|██████████| 54/54 [00:00<00:00, 65.10it/s]\n"
     ]
    },
    {
     "name": "stdout",
     "output_type": "stream",
     "text": [
      "問題：在事前安全防護中，應如何處理資訊系統的資安紀錄？\n",
      "參考答案：應保留資安紀錄與備份，如資訊系統屬委外建置管理者，應於合約內要求承商保留相關資安紀錄。\n",
      "生成答案：在事前安全防護中，應執行環境重建、系統復原及掃描作業，俟系統正常運作後，即進行安全備份及資料復原等相關事宜。\n",
      "ROUGE-L：0.16494845360824742\n"
     ]
    },
    {
     "name": "stderr",
     "output_type": "stream",
     "text": [
      "Featurizing p: 100%|██████████| 43/43 [00:00<00:00, 63.40it/s]\n",
      "Featurizing q: 100%|██████████| 93/93 [00:01<00:00, 65.20it/s]\n"
     ]
    },
    {
     "name": "stdout",
     "output_type": "stream",
     "text": [
      "問題：如果無法自行解決系統弱點問題，應該怎麼辦？\n",
      "參考答案：如無法解決，應儘速向所屬區、縣（市）網路中心及通報應變小組反應，請求提供相關技術支援。\n",
      "生成答案：如果無法自行解決系統弱點問題，應該透過臺灣學術網路危機處理中心網站、系統弱點(病毒)資料庫或聯絡技術支援單位(廠商)等方式,以尋求解決方案;如無法解決, 應儘速向所屬區、縣(市政府通報。\n",
      "ROUGE-L：0.27941176470588236\n"
     ]
    },
    {
     "name": "stderr",
     "output_type": "stream",
     "text": [
      "Featurizing p: 100%|██████████| 105/105 [00:01<00:00, 64.60it/s]\n",
      "Featurizing q: 100%|██████████| 38/38 [00:00<00:00, 64.51it/s]\n"
     ]
    },
    {
     "name": "stdout",
     "output_type": "stream",
     "text": [
      "問題：在資安事件中，如何防止損害擴大影響其他使用者？\n",
      "參考答案：若未納入各單位防護範圍之資訊系統發生資安事件，為防止損害擴大影響他人或正常使用者之權益，依據「臺灣學術網路管理規範」，各單位得先行中斷發生資安事件之系統網路連線，待該系統完成通報應變改善作為後，始得恢復其連線。\n",
      "生成答案：為防止損害擴大影響其他使用者,應啟動備援計畫、異地備援或備援中心等應變措施。\n",
      "ROUGE-L：0.23776223776223776\n"
     ]
    },
    {
     "name": "stderr",
     "output_type": "stream",
     "text": [
      "Featurizing p: 100%|██████████| 54/54 [00:00<00:00, 64.37it/s]\n",
      "Featurizing q: 100%|██████████| 119/119 [00:01<00:00, 65.06it/s]\n"
     ]
    },
    {
     "name": "stdout",
     "output_type": "stream",
     "text": [
      "問題：資安事件損壞程度較大時，應該採取哪些措施？\n",
      "參考答案：資安事件損壞程度，請遵循各單位內部備份管理辦法，啟動備援計畫、異地備援或備援中心等應變措施，以防止事件擴大。\n",
      "生成答案：面對資安事件時，應採取以下措施：\n",
      "1. 跟著資安事件應變方法的流程，記下記錄不要驚。\n",
      "2. 啟動備援計畫、異地備援或備援中心等應變措施，以防止事件擴大。\n",
      "3. 如涉及刑責，應做好相關資料（含稽核紀錄）保全工作，以便聯繫檢警調單位協助偵查。\n",
      "ROUGE-L：0.4277456647398844\n"
     ]
    },
    {
     "name": "stderr",
     "output_type": "stream",
     "text": [
      "Featurizing p: 100%|██████████| 43/43 [00:00<00:00, 63.67it/s]\n",
      "Featurizing q: 100%|██████████| 43/43 [00:00<00:00, 64.99it/s]\n"
     ]
    },
    {
     "name": "stdout",
     "output_type": "stream",
     "text": [
      "問題：資安事件涉及刑責時，應如何處理相關資料？\n",
      "參考答案：資安事件如涉及刑責，應做好相關資料(含稽核紀錄)保全工作，以便聯繫檢警調單位協助偵查。\n",
      "生成答案：資安事件如涉及刑責,應做好相關資料(含稽核紀錄)保全工作,以便聯繫檢警調單位協助偵查。\n",
      "ROUGE-L：0.9534883720930233\n"
     ]
    },
    {
     "name": "stderr",
     "output_type": "stream",
     "text": [
      "Featurizing p: 100%|██████████| 67/67 [00:01<00:00, 64.90it/s]\n",
      "Featurizing q: 100%|██████████| 56/56 [00:00<00:00, 65.12it/s]\n"
     ]
    },
    {
     "name": "stdout",
     "output_type": "stream",
     "text": [
      "問題：重大資安事件發生後，應提供哪些資料給網路中心？\n",
      "參考答案：各連線單位如發生重大(「4」、「3」級)資安事件，應主動提供相關設備系統日誌予所屬區、縣（市）網路中心及通報應變小組，俾提供相關協助。\n",
      "生成答案：單位如發生重大(「4」、「3」級)資安事件,應主動提供相關設備系統日誌予所屬區、縣(市)網路中心及通報應變小組。\n",
      "ROUGE-L：0.8617886178861788\n"
     ]
    },
    {
     "name": "stderr",
     "output_type": "stream",
     "text": [
      "Featurizing p: 100%|██████████| 90/90 [00:01<00:00, 65.30it/s]\n",
      "Featurizing q: 100%|██████████| 68/68 [00:01<00:00, 65.57it/s]\n"
     ]
    },
    {
     "name": "stdout",
     "output_type": "stream",
     "text": [
      "問題：在完成資安事件的復原重建工作後，應該怎麼做？\n",
      "參考答案：在完成復原重建工作後，應將復原過程之完整紀錄(如資安事件原因分析與檢討改善方案、防止同類事件再次發生之具體方案、稽核軌跡及蒐集分析相關證據等資料)，予以建檔管制，以利爾後查考使用。\n",
      "生成答案：在完成資安事件的復原重建工作後,應將復原過程之完整紀錄(如資安事件原因分析與檢討改善方案)提供予所屬區、縣(市)網路中心及通報應變小組。\n",
      "ROUGE-L：0.5189873417721518\n"
     ]
    },
    {
     "name": "stderr",
     "output_type": "stream",
     "text": [
      "Featurizing p: 100%|██████████| 43/43 [00:00<00:00, 65.53it/s]\n",
      "Featurizing q: 100%|██████████| 64/64 [00:00<00:00, 64.85it/s]\n"
     ]
    },
    {
     "name": "stdout",
     "output_type": "stream",
     "text": [
      "問題：在資安事件處理完成後，區縣（市）教育網路中心應檢視哪些項目？\n",
      "參考答案：區縣（市）教育網路中心應於資安事件處理完成後，針對作業程序和事件處理進行應變作業檢視。\n",
      "生成答案：區縣(市)教育網路中心應於資安事件處理完成後,針對以下項目進行應變作業檢視：臺灣學術網路危機處理中心(TACERT)」提出申請。\n",
      "ROUGE-L：0.5794392523364486\n"
     ]
    },
    {
     "name": "stderr",
     "output_type": "stream",
     "text": [
      "Featurizing p: 100%|██████████| 74/74 [00:01<00:00, 65.08it/s]\n",
      "Featurizing q: 100%|██████████| 51/51 [00:00<00:00, 65.87it/s]\n"
     ]
    },
    {
     "name": "stdout",
     "output_type": "stream",
     "text": [
      "問題：當重大資安事件涉及哪些事項時，會由本部資科司提報行政院國家資通安全會報？\n",
      "參考答案：如重大(「4」、「3」級)資安事件涉及網路犯罪相關議題、對關鍵基礎設施造成威脅時、或對國家安全造成威脅時，會由本部資科司提報行政院國家資通安全會報。\n",
      "生成答案：重大資安事件涉及網路犯罪相關議題或對關鍵基礎設施影響程度時,經由本部資科司提報行政院國家資通安全會報。\n",
      "ROUGE-L：0.7040000000000001\n"
     ]
    },
    {
     "name": "stderr",
     "output_type": "stream",
     "text": [
      "Featurizing p: 100%|██████████| 34/34 [00:00<00:00, 64.91it/s]\n",
      "Featurizing q: 100%|██████████| 39/39 [00:00<00:00, 64.10it/s]\n"
     ]
    },
    {
     "name": "stdout",
     "output_type": "stream",
     "text": [
      "問題：資通安全通報演練的目的為何？\n",
      "參考答案：檢驗「區、縣（市）網路中心」及所屬連線單位之資安通報機制及應變能力。\n",
      "生成答案：資通安全通報演練的目的為檢驗「區、縣(市)網路中心」及所屬連線單位之資安作業。\n",
      "ROUGE-L：0.6301369863013699\n"
     ]
    },
    {
     "name": "stderr",
     "output_type": "stream",
     "text": [
      "Featurizing p: 100%|██████████| 9/9 [00:00<00:00, 63.91it/s]\n",
      "Featurizing q: 100%|██████████| 20/20 [00:00<00:00, 64.39it/s]\n"
     ]
    },
    {
     "name": "stdout",
     "output_type": "stream",
     "text": [
      "問題：資通安全通報演練應於何時完成？\n",
      "參考答案：每年9月底前完成。\n",
      "生成答案：資通安全通報演練應於完成後一個月內完成。\n",
      "ROUGE-L：0.2758620689655173\n"
     ]
    },
    {
     "name": "stderr",
     "output_type": "stream",
     "text": [
      "Featurizing p: 100%|██████████| 26/26 [00:00<00:00, 63.36it/s]\n",
      "Featurizing q: 100%|██████████| 26/26 [00:00<00:00, 63.22it/s]\n"
     ]
    },
    {
     "name": "stdout",
     "output_type": "stream",
     "text": [
      "問題：誰負責規劃演練各種模擬狀況及處理突發狀況？\n",
      "參考答案：危機處理小組負責規劃演練各種模擬狀況及處理突發狀況。\n",
      "生成答案：危機處理小組負責規劃演練各種模擬狀況及處理突發狀況。\n",
      "ROUGE-L：1.0\n"
     ]
    },
    {
     "name": "stderr",
     "output_type": "stream",
     "text": [
      "Featurizing p: 100%|██████████| 18/18 [00:00<00:00, 61.66it/s]\n",
      "Featurizing q: 100%|██████████| 18/18 [00:00<00:00, 61.80it/s]\n"
     ]
    },
    {
     "name": "stdout",
     "output_type": "stream",
     "text": [
      "問題：演練計畫在實施前需要經過哪個部門的核定？\n",
      "參考答案：演練計畫應簽奉本部資科司核定後實施。\n",
      "生成答案：演練計畫應簽奉本部資科司核定後實施。\n",
      "ROUGE-L：1.0\n"
     ]
    },
    {
     "name": "stderr",
     "output_type": "stream",
     "text": [
      "Featurizing p: 100%|██████████| 43/43 [00:00<00:00, 63.40it/s]\n",
      "Featurizing q: 100%|██████████| 65/65 [00:01<00:00, 63.67it/s]\n"
     ]
    },
    {
     "name": "stdout",
     "output_type": "stream",
     "text": [
      "問題：演練對象的遴選方式是如何進行的？\n",
      "參考答案：遴選演練對象方式，由平台準備及問題處理小組提交單位清單供安全預防小組選取參與演練單位。\n",
      "生成答案：演練對象的遴選方式是由平台準備及問題處理小組提交單位清單供安全預防小組選取參與演練單位。演練時採隨機選取方式,分配予參與演練單位。\n",
      "ROUGE-L：0.7407407407407407\n"
     ]
    },
    {
     "name": "stderr",
     "output_type": "stream",
     "text": [
      "Featurizing p: 100%|██████████| 25/25 [00:00<00:00, 62.95it/s]\n",
      "Featurizing q: 100%|██████████| 27/27 [00:00<00:00, 63.41it/s]\n"
     ]
    },
    {
     "name": "stdout",
     "output_type": "stream",
     "text": [
      "問題：演練完成後，應將哪些文件提交至本部資科司備查？\n",
      "參考答案：演練完成後將「演練事件紀錄」提交至本部資科司備查。\n",
      "生成答案：演練完成後,應將「演練事件紀錄」提交至本部資科司備查。\n",
      "ROUGE-L：0.9615384615384615\n"
     ]
    },
    {
     "name": "stderr",
     "output_type": "stream",
     "text": [
      "Featurizing p: 100%|██████████| 39/39 [00:00<00:00, 62.44it/s]\n",
      "Featurizing q: 100%|██████████| 52/52 [00:00<00:00, 63.18it/s]\n"
     ]
    },
    {
     "name": "stdout",
     "output_type": "stream",
     "text": [
      "問題：防範惡意電子郵件社交工程演練的目的為何？\n",
      "參考答案：演練目的：提高「區、縣（市）網路中心」及其所屬連線單位對社交工程攻擊防制認知。\n",
      "生成答案：防範惡意電子郵件社交工程演練的目的為提高「區、縣(市)網路中心」及其所屬連線單位對社交工程攻擊防制認知。\n",
      "ROUGE-L：0.7912087912087913\n"
     ]
    },
    {
     "name": "stderr",
     "output_type": "stream",
     "text": [
      "Featurizing p: 100%|██████████| 16/16 [00:00<00:00, 62.98it/s]\n",
      "Featurizing q: 100%|██████████| 44/44 [00:00<00:00, 63.11it/s]\n"
     ]
    },
    {
     "name": "stdout",
     "output_type": "stream",
     "text": [
      "問題：每年必須在什麼時候完成第一次防範惡意電子郵件社交工程演練？\n",
      "參考答案：須於每年4月底前辦理第1次演練。\n",
      "生成答案：每年必須在完成防範惡意電子郵件社交工程演練後一個月內，將執行情形及成果報告送交主管機關。\n",
      "ROUGE-L：0.16666666666666666\n"
     ]
    },
    {
     "name": "stderr",
     "output_type": "stream",
     "text": [
      "Featurizing p: 100%|██████████| 45/45 [00:00<00:00, 63.42it/s]\n",
      "Featurizing q: 100%|██████████| 48/48 [00:00<00:00, 63.96it/s]\n"
     ]
    },
    {
     "name": "stdout",
     "output_type": "stream",
     "text": [
      "問題：防範惡意電子郵件社交工程演練的報告需要在什麼時間內送交備查？\n",
      "參考答案：演練報告經本部資通安全長核定，並於每次演練完成後1個月內主動送行政院國家資通安全會報備查。\n",
      "生成答案：防範惡意電子郵件社交工程演練的報告需要在規定的時限內至教育機構資安通報演練平台完成事件通報流程。\n",
      "ROUGE-L：0.2795698924731182\n"
     ]
    },
    {
     "name": "stderr",
     "output_type": "stream",
     "text": [
      "Featurizing p: 100%|██████████| 62/62 [00:00<00:00, 63.07it/s]\n",
      "Featurizing q: 100%|██████████| 62/62 [00:00<00:00, 63.62it/s]\n"
     ]
    },
    {
     "name": "stdout",
     "output_type": "stream",
     "text": [
      "問題：非公務機關如何制定資通安全事項的獎勵基準？\n",
      "參考答案：非公務機關就其所屬人員辦理業務涉及資通安全事項之獎勵，得依「公務機關所屬人員資通安全事項獎懲辦法」之規定，自行訂定相關基準。\n",
      "生成答案：非公務機關就其所屬人員辦理業務涉及資通安全事項之獎勵,得依「公務機關所屬人員資通安全事項獎懲辦法」之規定,自行訂定相關基準。\n",
      "ROUGE-L：0.967741935483871\n"
     ]
    },
    {
     "name": "stderr",
     "output_type": "stream",
     "text": [
      "Featurizing p: 100%|██████████| 56/56 [00:00<00:00, 61.89it/s]\n",
      "Featurizing q: 100%|██████████| 57/57 [00:00<00:00, 63.24it/s]\n"
     ]
    },
    {
     "name": "stdout",
     "output_type": "stream",
     "text": [
      "問題：如果校內發生資安事件但未通報，會有什麼後果？\n",
      "參考答案：校內發生資安事件，隱匿未向上級機關進行通報者，由本部資科司建議相關單位視情節輕重對所屬人員予以適度追究相關責任。\n",
      "生成答案：如果校內發生資安事件但隱匿未向上級機關進行通報,由本部資科司建議相關單位視情節輕重對所屬人員予以適度追究相關責任。\n",
      "ROUGE-L：0.9380530973451328\n"
     ]
    },
    {
     "name": "stderr",
     "output_type": "stream",
     "text": [
      "Featurizing p: 100%|██████████| 74/74 [00:01<00:00, 62.87it/s]\n",
      "Featurizing q: 100%|██████████| 93/93 [00:01<00:00, 63.34it/s]\n"
     ]
    },
    {
     "name": "stdout",
     "output_type": "stream",
     "text": [
      "問題：當資通系統包含個人資料時，資料持有單位應如何處理？\n",
      "參考答案：各校轄下單位之資通系統，若包含教、職、員、生可識別之個人資料，則該系統資料持有單位應確實評估風險，主動加以防護或納入校內核心系統給予應有之級別防護。\n",
      "生成答案：當資通系統包含個人資料時，資料持有單位應確實評估風險，主動加以防護或納入校內核心系統給予應有之級別防護。若因未適當防護,致使該資通系統發生資安事件影響他人權益,資料持有單位應負相關責任。\n",
      "ROUGE-L：0.5988023952095809\n"
     ]
    },
    {
     "name": "stderr",
     "output_type": "stream",
     "text": [
      "Featurizing p: 100%|██████████| 85/85 [00:01<00:00, 64.00it/s]\n",
      "Featurizing q: 100%|██████████| 59/59 [00:00<00:00, 64.04it/s]\n"
     ]
    },
    {
     "name": "stdout",
     "output_type": "stream",
     "text": [
      "問題：在什麼情況下可以建議減輕責任？\n",
      "參考答案：遵循本作業程序規定確實辦理資安事件通報及應變作業並提供資安紀錄，仍致政府或民眾權益受損時，區（縣）市教育網路中心及通報應變小組應協助提供資料予本部資科司，並建議減輕其責。\n",
      "生成答案：在遵循本作業程序規定確實辦理資安事件通報及應變作業並提供資安紀錄的情況下,仍致政府或民眾權益受損時,可以建議減輕責任。\n",
      "ROUGE-L：0.6805555555555555\n"
     ]
    },
    {
     "name": "stderr",
     "output_type": "stream",
     "text": [
      "Featurizing p: 100%|██████████| 66/66 [00:01<00:00, 63.68it/s]\n",
      "Featurizing q: 100%|██████████| 100/100 [00:01<00:00, 62.61it/s]\n"
     ]
    },
    {
     "name": "stdout",
     "output_type": "stream",
     "text": [
      "問題：如果發現Google搜尋結果中出現不當資訊，應該如何確認網站是否遭到入侵？\n",
      "參考答案：確認該網站是否遭到入侵或被置入惡意程式，特別確認該網站網頁內容是否有類似不當連結或有相關轉址的指令，以避免被不當轉址至其它惡意網頁。\n",
      "生成答案：管理者可使用Google Search 語法「Site:網站網址」查詢所管理的網站是否存在搜尋結果異常,如發現有大量不相關或不當的資訊,可能為遭受SEO 中毒攻擊(SEO Poisoning)所導致。\n",
      "ROUGE-L：0.1566265060240964\n"
     ]
    },
    {
     "name": "stderr",
     "output_type": "stream",
     "text": [
      "Featurizing p: 100%|██████████| 54/54 [00:00<00:00, 62.48it/s]\n",
      "Featurizing q: 100%|██████████| 54/54 [00:00<00:00, 62.86it/s]\n"
     ]
    },
    {
     "name": "stdout",
     "output_type": "stream",
     "text": [
      "問題：網站管理者應該如何檢查網站是否存在搜尋結果異常？\n",
      "參考答案：網站管理者可使用Google Search 語法「Site:網站網址」查詢所管理的網站是否存在搜尋結果異常。\n",
      "生成答案：網站管理者應該使用Google Search語法「Site:網站網址」查詢所管理的網站是否存在搜尋結果異常。\n",
      "ROUGE-L：0.9629629629629629\n"
     ]
    },
    {
     "name": "stderr",
     "output_type": "stream",
     "text": [
      "Featurizing p: 100%|██████████| 95/95 [00:01<00:00, 62.33it/s]\n",
      "Featurizing q: 100%|██████████| 51/51 [00:00<00:00, 62.55it/s]\n"
     ]
    },
    {
     "name": "stdout",
     "output_type": "stream",
     "text": [
      "問題：如何利用Google的服務來監控網站在搜尋結果中的表現？\n",
      "參考答案：建議網站管理者至Google Search Console 服務申請管理帳號，這是Google 提供的一項免費服務，能夠協助您監控及維持網站在Google 搜尋結果中的排名，並排解相關問題。\n",
      "生成答案：管理者可使用Google Search語法「Site:網站網址」查詢所管理的網站是否存在搜尋結果異常。\n",
      "ROUGE-L：0.3835616438356164\n"
     ]
    },
    {
     "name": "stderr",
     "output_type": "stream",
     "text": [
      "Featurizing p: 100%|██████████| 78/78 [00:01<00:00, 62.25it/s]\n",
      "Featurizing q: 100%|██████████| 81/81 [00:01<00:00, 62.48it/s]\n"
     ]
    },
    {
     "name": "stdout",
     "output_type": "stream",
     "text": [
      "問題：如果確認網站遭到SEO中毒攻擊，應該如何避免被查詢到錯誤資訊？\n",
      "參考答案：如確認已遭到SEO中毒攻擊（SEO Poisoning），即可至Google Search Console服務申請「移除網址」以避免被他人查詢到錯誤的資訊。\n",
      "生成答案：如果確認網站遭到SEO中毒攻擊，應該至Google Search Console服務申請「管理帳號」與申請「移除網址」，來清除Google搜尋結果產生的錯誤資訊。\n",
      "ROUGE-L：0.6289308176100629\n"
     ]
    },
    {
     "name": "stderr",
     "output_type": "stream",
     "text": [
      "Featurizing p: 100%|██████████| 85/85 [00:01<00:00, 62.65it/s]\n",
      "Featurizing q: 100%|██████████| 126/126 [00:02<00:00, 62.80it/s]\n"
     ]
    },
    {
     "name": "stdout",
     "output_type": "stream",
     "text": [
      "問題：在符合單位政策的情況下，如何避免搜尋引擎檢索站內搜尋結果？\n",
      "參考答案：在符合單位政策的情況下，可在robots.txt加上不允許搜尋引擎檢索站內搜尋結果之指令，也可在站內每個搜尋結果加上<meta noindex>，來避免被搜尋引擎所檢索。\n",
      "生成答案：在符合單位政策的情況下，可以透過以下方式避免搜尋引擎檢索站內搜尋結果：\n",
      "1. 在每個搜尋結果中加上 `<meta noindex>`。\n",
      "2. 若單位已在 `robots.txt` 設定，可能造成學校於 Google 上檢索不到，降低學校被搜尋的可能性。\n",
      "ROUGE-L：0.5023696682464455\n"
     ]
    },
    {
     "name": "stderr",
     "output_type": "stream",
     "text": [
      "Featurizing p: 100%|██████████| 86/86 [00:01<00:00, 62.29it/s]\n",
      "Featurizing q: 100%|██████████| 221/221 [00:03<00:00, 62.27it/s]\n"
     ]
    },
    {
     "name": "stdout",
     "output_type": "stream",
     "text": [
      "問題：如何申請Google Search Console管理帳號？\n",
      "參考答案：網站管理者至Google Search Console服務(網址：https://search.google.com/u/1/search-console/)申請管理帳號。\n",
      "生成答案：要申請 Google Search Console 管理帳號，請按照以下步驟操作：\n",
      "\n",
      "1. 前往 Google Search Console 服務網址：https://search.google.com/u/1/search-console。\n",
      "2. 在申請頁面輸入您的網域資訊後，將繼續進行驗證程序。\n",
      "3. 下載認證檔，並上傳至您的網站（通常為網站根目錄）。\n",
      "\n",
      "完成以上步驟即可成功申請 Google Search Console 管理帳號。\n",
      "ROUGE-L：0.5146579804560261\n"
     ]
    },
    {
     "name": "stderr",
     "output_type": "stream",
     "text": [
      "Featurizing p: 100%|██████████| 62/62 [00:00<00:00, 63.03it/s]\n",
      "Featurizing q: 100%|██████████| 185/185 [00:02<00:00, 62.68it/s]\n"
     ]
    },
    {
     "name": "stdout",
     "output_type": "stream",
     "text": [
      "問題：申請Google Search Console管理帳號後，如何進行驗證程序？\n",
      "參考答案：請輸入網域資訊，接著即會繼續如圖2的驗證程序，請下載該認證檔，並上傳至網站(通常為網站根目錄(Documentroot))。\n",
      "生成答案：1. 前往 Google Search Console 申請頁面 (https://search.google.com/search-console)。\n",
      "2. 輸入網域資訊後，會進入驗證程序，如圖2 所示。\n",
      "3. 下載認證檔並上傳至網站根目錄 (Document root)。\n",
      "4. 上傳完成後，即可在 Google Search Console 中看到驗證成功的訊息。\n",
      "ROUGE-L：0.3481781376518218\n"
     ]
    },
    {
     "name": "stderr",
     "output_type": "stream",
     "text": [
      "Featurizing p: 100%|██████████| 17/17 [00:00<00:00, 63.11it/s]\n",
      "Featurizing q: 100%|██████████| 222/222 [00:03<00:00, 62.82it/s]\n"
     ]
    },
    {
     "name": "stdout",
     "output_type": "stream",
     "text": [
      "問題：如何在 Google Search Console 中完成網站所有權的驗證？\n",
      "參考答案：在上傳完成後，即可完成驗證所有權。\n",
      "生成答案：要在 Google Search Console 中完成網站所有權的驗證，請按照以下步驟進行：\n",
      "\n",
      "1. 前往 Google Search Console 申請頁面 (https://search.google.com/search-console) 並申請管理帳號。\n",
      "2. 輸入網域資訊後，即會繼續驗證程序。\n",
      "3. 下載認證檔，並上傳至網站根目錄（通常為網站根目錄）。\n",
      "4. 上傳完成後，即可完成驗證所有權。\n",
      "\n",
      "驗證成功訊息將顯示在圖 3 中。\n",
      "ROUGE-L：0.14225941422594143\n"
     ]
    },
    {
     "name": "stderr",
     "output_type": "stream",
     "text": [
      "Featurizing p: 100%|██████████| 90/90 [00:01<00:00, 63.58it/s]\n",
      "Featurizing q: 100%|██████████| 94/94 [00:01<00:00, 63.56it/s]\n"
     ]
    },
    {
     "name": "stdout",
     "output_type": "stream",
     "text": [
      "問題：網站管理者如何申請移除網址？\n",
      "參考答案：網站管理者登入Google Search Console 服務後，先點選「移除網址」，再點選「新要求」後，即可輸入要清除的網址等資訊，待Google 作業完成後，即可清除相關資訊。\n",
      "生成答案：網站管理者可以透過登入Google Search Console服務後，點選「(A)移除網址」，再點選「(B)新要求」並輸入要清除的網址等資訊，待Google作業完成後，即可清除相關資訊。\n",
      "ROUGE-L：0.9021739130434783\n"
     ]
    },
    {
     "name": "stderr",
     "output_type": "stream",
     "text": [
      "Featurizing p: 100%|██████████| 28/28 [00:00<00:00, 62.75it/s]\n",
      "Featurizing q: 100%|██████████| 28/28 [00:00<00:00, 63.53it/s]\n"
     ]
    },
    {
     "name": "stdout",
     "output_type": "stream",
     "text": [
      "問題：在資安事件通報流程中，新增了哪個欄位以記錄事件確認時間？\n",
      "參考答案：於通報流程中新增「確認時間」欄位，以利記錄事件確認時間。\n",
      "生成答案：於通報流程中新增「確認時間」欄位,以利記錄事件確認時間。\n",
      "ROUGE-L：0.9642857142857143\n"
     ]
    },
    {
     "name": "stderr",
     "output_type": "stream",
     "text": [
      "Featurizing p: 100%|██████████| 32/32 [00:00<00:00, 62.54it/s]\n",
      "Featurizing q: 100%|██████████| 32/32 [00:00<00:00, 62.65it/s]\n"
     ]
    },
    {
     "name": "stdout",
     "output_type": "stream",
     "text": [
      "問題：應變流程中新增了什麼欄位以便處理人員填寫事件改善措施？\n",
      "參考答案：於應變流程中新增「改善措施」欄位，以利處理人員填寫事件改善措施。\n",
      "生成答案：應變流程中新增了「改善措施」欄位,以便處理人員填寫事件改善措施。\n",
      "ROUGE-L：0.90625\n"
     ]
    },
    {
     "name": "stderr",
     "output_type": "stream",
     "text": [
      "Featurizing p: 100%|██████████| 49/49 [00:00<00:00, 63.49it/s]\n",
      "Featurizing q: 100%|██████████| 49/49 [00:00<00:00, 63.61it/s]\n"
     ]
    },
    {
     "name": "stdout",
     "output_type": "stream",
     "text": [
      "問題：事件通報應變完成後，新增了什麼功能以便處理人員列印事件內容？\n",
      "參考答案：於事件通報應變完成後，於「歷史通報」中新增「事件列印」功能，以利處理人員列印事件內容送呈單位主管。\n",
      "生成答案：於事件通報應變完成後,於「歷史通報」中新增「事件列印」功能,以利處理人員列印事件內容送呈單位主管。\n",
      "ROUGE-L：0.9591836734693877\n"
     ]
    },
    {
     "name": "stderr",
     "output_type": "stream",
     "text": [
      "Featurizing p: 100%|██████████| 46/46 [00:00<00:00, 63.18it/s]\n",
      "Featurizing q: 100%|██████████| 54/54 [00:00<00:00, 63.84it/s]\n"
     ]
    },
    {
     "name": "stdout",
     "output_type": "stream",
     "text": [
      "問題：公務機關知悉資通安全事件後，應在多長時間內進行通報？\n",
      "參考答案：公務機關知悉資通安全事件後，應於一小時內依主管機關指定之方式及對象，進行資通安全事件之通報。\n",
      "生成答案：公務機關知悉資通安全事件後，應在72小時內完成損害控制或復原作業，並依主管機關指定之方式及對象辦理通知事宜。\n",
      "ROUGE-L：0.68\n"
     ]
    },
    {
     "name": "stderr",
     "output_type": "stream",
     "text": [
      "Featurizing p: 100%|██████████| 52/52 [00:00<00:00, 63.48it/s]\n",
      "Featurizing q: 100%|██████████| 51/51 [00:00<00:00, 63.16it/s]\n"
     ]
    },
    {
     "name": "stdout",
     "output_type": "stream",
     "text": [
      "問題：特定非公務機關知悉資通安全事件後，應如何進行通報？\n",
      "參考答案：特定非公務機關知悉資通安全事件後，應於一小時內依中央目的事業主管機關指定之方式，進行資通安全事件之通報。\n",
      "生成答案：特定非公務機關知悉資通安全事件後，應於一小時內依中央目的事業主管機關指定之方式進行資通安全事件之通報。\n",
      "ROUGE-L：0.9902912621359222\n"
     ]
    },
    {
     "name": "stderr",
     "output_type": "stream",
     "text": [
      "Featurizing p: 100%|██████████| 71/71 [00:01<00:00, 63.30it/s]\n",
      "Featurizing q: 100%|██████████| 52/52 [00:00<00:00, 63.19it/s]\n"
     ]
    },
    {
     "name": "stdout",
     "output_type": "stream",
     "text": [
      "問題：各連線單位發現資安事件後，應在確認後多長時間內通報？\n",
      "參考答案：各連線單位發現資安事件後可先進行事件確認，經確認為資安事件後，須於一小時內，至通報應變網站通報登錄資安事件細節、影響等級及是否申請支援等資訊。\n",
      "生成答案：各連線單位發現資安事件後,須於一小時內至通報應變網站通報登錄資安事件細節、影響等級及是否申請支援等資訊。\n",
      "ROUGE-L：0.8292682926829269\n"
     ]
    },
    {
     "name": "stderr",
     "output_type": "stream",
     "text": [
      "Featurizing p: 100%|██████████| 22/22 [00:00<00:00, 61.80it/s]\n",
      "Featurizing q: 100%|██████████| 39/39 [00:00<00:00, 62.46it/s]\n"
     ]
    },
    {
     "name": "stdout",
     "output_type": "stream",
     "text": [
      "問題：在資安事件通報流程中，新增的『確認時間』欄位是什麼時候需要填寫的？\n",
      "參考答案：於現行通報流程填寫欄位新增『確認時間』欄位。\n",
      "生成答案：在資安事件通報流程中，新增的『確認時間』欄位需要於事件確認後一小時內完成填寫。\n",
      "ROUGE-L：0.4918032786885246\n"
     ]
    },
    {
     "name": "stderr",
     "output_type": "stream",
     "text": [
      "Featurizing p: 100%|██████████| 41/41 [00:00<00:00, 64.18it/s]\n",
      "Featurizing q: 100%|██████████| 43/43 [00:00<00:00, 62.97it/s]\n"
     ]
    },
    {
     "name": "stdout",
     "output_type": "stream",
     "text": [
      "問題：資安事件的確認時間有什麼作用？\n",
      "參考答案：確認時間指各連線單位發現資安事件後可先進行事件確認，經確認資安事件條件成立之時間。\n",
      "生成答案：資安事件的確認時間有助於確定事件通報流程需於何時內完成，以及事件通報應變時效是否改變。\n",
      "ROUGE-L：0.2857142857142857\n"
     ]
    },
    {
     "name": "stderr",
     "output_type": "stream",
     "text": [
      "Featurizing p: 100%|██████████| 20/20 [00:00<00:00, 63.94it/s]\n",
      "Featurizing q: 100%|██████████| 24/24 [00:00<00:00, 63.66it/s]\n"
     ]
    },
    {
     "name": "stdout",
     "output_type": "stream",
     "text": [
      "問題：資安事件通報流程需要在確認時間後多久內完成？\n",
      "參考答案：事件通報流程需於確認時間後1小時內完成。\n",
      "生成答案：資安事件通報流程需於確認時間後 1 小時內完成。\n",
      "ROUGE-L：0.9090909090909091\n"
     ]
    },
    {
     "name": "stderr",
     "output_type": "stream",
     "text": [
      "Featurizing p: 100%|██████████| 20/20 [00:00<00:00, 63.83it/s]\n",
      "Featurizing q: 100%|██████████| 42/42 [00:00<00:00, 63.66it/s]\n"
     ]
    },
    {
     "name": "stdout",
     "output_type": "stream",
     "text": [
      "問題：新增確認時間後，資安事件的應變時效是否有所改變？\n",
      "參考答案：事件通報應變時效不因新增確認時間而改變。\n",
      "生成答案：資安事件的應變時效不因新增確認時間而改變, 「1」、「2」級事件需於72小時內完成。\n",
      "ROUGE-L：0.5806451612903225\n"
     ]
    },
    {
     "name": "stderr",
     "output_type": "stream",
     "text": [
      "Featurizing p: 100%|██████████| 40/40 [00:00<00:00, 63.08it/s]\n",
      "Featurizing q: 100%|██████████| 98/98 [00:01<00:00, 63.13it/s]\n"
     ]
    },
    {
     "name": "stdout",
     "output_type": "stream",
     "text": [
      "問題：不同等級的資安事件需要在多長時間內完成應變？\n",
      "參考答案：『1』、『2』級事件需於72小時內完成；『3』、『4』級事件需於36小時內完成。\n",
      "生成答案：不同等級的資安事件需要在多長時間內完成應變？\n",
      "1. 「4」、「3」級事件,須於通報後2小時內完成審核。\n",
      "2. 「2」、「1」級事件,則須於資安事件後可先進行事件確認,經確認資安事件條件成立之時間。\n",
      "ROUGE-L：0.2753623188405797\n"
     ]
    },
    {
     "name": "stderr",
     "output_type": "stream",
     "text": [
      "Featurizing p: 100%|██████████| 20/20 [00:00<00:00, 63.11it/s]\n",
      "Featurizing q: 100%|██████████| 25/25 [00:00<00:00, 62.97it/s]\n"
     ]
    },
    {
     "name": "stdout",
     "output_type": "stream",
     "text": [
      "問題：在應變流程中，應該在哪裡填寫改善措施？\n",
      "參考答案：於現行應變流程填寫欄位新增「改善措施」。\n",
      "生成答案：在應變流程中，應該在「改善措施」欄位填寫改善措施。\n",
      "ROUGE-L：0.48888888888888893\n"
     ]
    },
    {
     "name": "stderr",
     "output_type": "stream",
     "text": [
      "Featurizing p: 100%|██████████| 22/22 [00:00<00:00, 63.10it/s]\n",
      "Featurizing q: 100%|██████████| 30/30 [00:00<00:00, 63.51it/s]\n"
     ]
    },
    {
     "name": "stdout",
     "output_type": "stream",
     "text": [
      "問題：改善措施欄位中需要包含哪些內容？\n",
      "參考答案：改善措施包含「改善辦法」及「改善時間」欄位。\n",
      "生成答案：改善措施欄位中需要包含「改善辦法」及「改善時間」等相關內容。\n",
      "ROUGE-L：0.7692307692307692\n"
     ]
    },
    {
     "name": "stderr",
     "output_type": "stream",
     "text": [
      "Featurizing p: 100%|██████████| 53/53 [00:00<00:00, 63.64it/s]\n",
      "Featurizing q: 100%|██████████| 42/42 [00:00<00:00, 63.76it/s]\n"
     ]
    },
    {
     "name": "stdout",
     "output_type": "stream",
     "text": [
      "問題：改善措施的目的為何？\n",
      "參考答案：改善措施指各連線單位於完成通報應變後，針對事件發生提出相關改善措施，以完備事件處理流程及預防事件重覆發生。\n",
      "生成答案：改善措施的目的是針對事件發生提出相關改善措施，以完備事件處理流程及預防事件重覆發生。\n",
      "ROUGE-L：0.8\n"
     ]
    },
    {
     "name": "stderr",
     "output_type": "stream",
     "text": [
      "Featurizing p: 100%|██████████| 80/80 [00:01<00:00, 63.74it/s]\n",
      "Featurizing q: 100%|██████████| 86/86 [00:01<00:00, 63.69it/s]\n"
     ]
    },
    {
     "name": "stdout",
     "output_type": "stream",
     "text": [
      "問題：在資安事件通報應變完成後，應如何處理列印單件？\n",
      "參考答案：依據臺灣學術網路各級學校資通安全通報應變作業程序第三章第一節第六條規定，『2』、『1』級資安事件通報應變完成後，應至通報應變網站列印單件，每月彙整送呈單位主管。\n",
      "生成答案：在資安事件通報應變完成後,「2」、「1」級資安事件應至通報應變網站列印單件,每月彙整送呈單位主管;「4」、「3」級資安事件需於事件發生後36小時內,通報送陳單位資通安全長。\n",
      "ROUGE-L：0.4457831325301205\n"
     ]
    },
    {
     "name": "stderr",
     "output_type": "stream",
     "text": [
      "Featurizing p: 100%|██████████| 37/37 [00:00<00:00, 63.72it/s]\n",
      "Featurizing q: 100%|██████████| 24/24 [00:00<00:00, 63.59it/s]\n"
     ]
    },
    {
     "name": "stdout",
     "output_type": "stream",
     "text": [
      "問題：發生『4』或『3』級資安事件後，應在多久內通報送陳單位資通安全長？\n",
      "參考答案：『4』、『3』級資安事件需於事件發生後36小時內，通報送陳單位資通安全長。\n",
      "生成答案：應在事件發生後36小時內通報送陳單位資通安全長。\n",
      "ROUGE-L：0.7213114754098361\n"
     ]
    },
    {
     "name": "stderr",
     "output_type": "stream",
     "text": [
      "Featurizing p: 100%|██████████| 45/45 [00:00<00:00, 63.53it/s]\n",
      "Featurizing q: 100%|██████████| 94/94 [00:01<00:00, 63.20it/s]\n"
     ]
    },
    {
     "name": "stdout",
     "output_type": "stream",
     "text": [
      "問題：如何在教育機構資安通報平台上列印事件單？\n",
      "參考答案：於登入『教育機構資安通報平台』後，左側『歷史通報』中即可套表列印貴單位事件單以利送呈簽核。\n",
      "生成答案：在教育機構資安通報平台上列印事件單的步驟如下：\n",
      "1. 登入「教育機構資安通報平台」。\n",
      "2. 在左側「歷史通報」中，點選欲列印的事件。\n",
      "3. 點擊「事件列印畫面」按鈕，即可下載該事件的清單。\n",
      "ROUGE-L：0.3597122302158273\n"
     ]
    },
    {
     "name": "stderr",
     "output_type": "stream",
     "text": [
      "Featurizing p: 100%|██████████| 21/21 [00:00<00:00, 60.69it/s]\n",
      "Featurizing q: 100%|██████████| 12/12 [00:00<00:00, 61.13it/s]\n"
     ]
    },
    {
     "name": "stdout",
     "output_type": "stream",
     "text": [
      "問題：事件確認後需要在多長時間內完成確認時間的新增？\n",
      "參考答案：新增「確認時間」並於事件確認後一小時內完成\n",
      "生成答案：事件確認後一小時內完成。\n",
      "ROUGE-L：0.6666666666666667\n"
     ]
    },
    {
     "name": "stderr",
     "output_type": "stream",
     "text": [
      "Featurizing p: 100%|██████████| 17/17 [00:00<00:00, 63.10it/s]\n",
      "Featurizing q: 100%|██████████| 23/23 [00:00<00:00, 63.02it/s]\n"
     ]
    },
    {
     "name": "stdout",
     "output_type": "stream",
     "text": [
      "問題：為了完備事件處理流程，新增了什麼項目？\n",
      "參考答案：新增「改善措施」以完備事件處理流程\n",
      "生成答案：為了完備事件處理流程，新增了「改善措施」欄位。\n",
      "ROUGE-L：0.39999999999999997\n"
     ]
    },
    {
     "name": "stderr",
     "output_type": "stream",
     "text": [
      "Featurizing p: 100%|██████████| 14/14 [00:00<00:00, 62.93it/s]\n",
      "Featurizing q: 100%|██████████| 51/51 [00:00<00:00, 63.40it/s]\n"
     ]
    },
    {
     "name": "stdout",
     "output_type": "stream",
     "text": [
      "問題：事件列印功能的新增是為了什麼目的？\n",
      "參考答案：新增「事件列印」以利送呈簽核\n",
      "生成答案：事件列印功能的新增是為了以利處理人員列印事件內容送呈單位主管，並完備事 件處理流程及預防事件重覆發生。\n",
      "ROUGE-L：0.24615384615384614\n"
     ]
    },
    {
     "name": "stderr",
     "output_type": "stream",
     "text": [
      "Featurizing p: 100%|██████████| 42/42 [00:00<00:00, 63.29it/s]\n",
      "Featurizing q: 100%|██████████| 104/104 [00:01<00:00, 63.33it/s]\n"
     ]
    },
    {
     "name": "stdout",
     "output_type": "stream",
     "text": [
      "問題：各單位在進行資安通報應變作業時需要注意什麼？\n",
      "參考答案：各單位務必掌握時效依照相關規定完成通報應變作業，以避免相關刑事、民事及行政相關責任。\n",
      "生成答案：各單位在進行資安通報應變作業時需要注意的事項包括建立資安事件之「事前安全防護」、「事中緊急應變」及「事後復原」作業之具體機制，並至少包含下列各項：(一) 事前安全防護、(二) 事中緊急應變、(三) 事後復原。\n",
      "ROUGE-L：0.19178082191780818\n"
     ]
    },
    {
     "name": "stderr",
     "output_type": "stream",
     "text": [
      "Featurizing p: 100%|██████████| 65/65 [00:01<00:00, 62.36it/s]\n",
      "Featurizing q: 100%|██████████| 102/102 [00:01<00:00, 62.75it/s]\n"
     ]
    },
    {
     "name": "stdout",
     "output_type": "stream",
     "text": [
      "問題：資安通報平台新增了哪些事件類型分類？\n",
      "參考答案：資安通報平台新增了OTHER(其它事件)類別，其事件類型包含：「設備故障/毀損」、「電力異常」、「網路服務中斷」、「設備遺失」等。\n",
      "生成答案：資安通報平台新增了事件類型分類，包含「INT(入侵攻擊)」、「DEF(網頁攻擊)」、「調查說明」、「情資類型」欄位資料，以及「設備故障/毀損」、「電力異常」、「網路服務中斷」、「設備遺失」等其他事件類別。\n",
      "ROUGE-L：0.5868263473053892\n"
     ]
    },
    {
     "name": "stderr",
     "output_type": "stream",
     "text": [
      "Featurizing p: 100%|██████████| 39/39 [00:00<00:00, 63.01it/s]\n",
      "Featurizing q: 100%|██████████| 39/39 [00:00<00:00, 63.44it/s]\n"
     ]
    },
    {
     "name": "stdout",
     "output_type": "stream",
     "text": [
      "問題：除了新增的OTHER類別，資安通報平台原有的事件分類有哪些？\n",
      "參考答案：資安通報平台原有的事件分類有「INT(入侵攻擊)」以及「DEF(網頁攻擊)」。\n",
      "生成答案：資安通報平台原有的事件分類有「INT(入侵攻擊)」以及「DEF(網頁攻擊)」。\n",
      "ROUGE-L：1.0\n"
     ]
    },
    {
     "name": "stderr",
     "output_type": "stream",
     "text": [
      "Featurizing p: 100%|██████████| 157/157 [00:02<00:00, 63.28it/s]\n",
      "Featurizing q: 100%|██████████| 120/120 [00:01<00:00, 63.36it/s]\n"
     ]
    },
    {
     "name": "stdout",
     "output_type": "stream",
     "text": [
      "問題：當發生重大個資外洩事件時，應如何進行通報？\n",
      "參考答案：若為重大個資(個人資料)外洩事件，欲通報三級以上之事件，請於確認外洩事實明確的情況下，進行通報，並於通報單內說明下列事項：1. 確定洩漏筆數 (如約100 筆個資) 2. 確定洩漏資訊欄位 (如姓名,地址,身份證字號等資訊) 3. 確定外洩管道 (如人為疏失等) 4. 遭受揭露個資之儲存媒體（如網站，資料庫等）。\n",
      "生成答案：若為重大個資外洩事件,欲通報三級以上之事件,請於確認外洩事實明確的情況下,進行通報,並於通報單內(如網站,資料庫等)此外,請依個人資料保護法(第12條)及個人資料保護法施行細則(第22 條)進行個資外洩公告(指以「適當方式」使當事人知悉)。\n",
      "ROUGE-L：0.41877256317689526\n"
     ]
    },
    {
     "name": "stderr",
     "output_type": "stream",
     "text": [
      "Featurizing p: 100%|██████████| 57/57 [00:00<00:00, 62.73it/s]\n",
      "Featurizing q: 100%|██████████| 79/79 [00:01<00:00, 63.47it/s]\n"
     ]
    },
    {
     "name": "stdout",
     "output_type": "stream",
     "text": [
      "問題：在資安事件等級綜合評估中，何時核心業務的中斷是不可容忍的？\n",
      "參考答案：核心業務(未涉及CI 維運)在3級時嚴重影響是不可容忍的，核心業務(涉及CI 維運)在4級時嚴重影響是不可容忍的。\n",
      "生成答案：在資安事件等級綜合評估中，核心業務的中斷是不可容忍的，當涉及關鍵基礎設施維運之核心業務或核心資通系統之運作受影響或停頓，無法於可容忍中斷時間內回復正常運作時。\n",
      "ROUGE-L：0.32352941176470584\n"
     ]
    },
    {
     "name": "stderr",
     "output_type": "stream",
     "text": [
      "Featurizing p: 100%|██████████| 49/49 [00:00<00:00, 62.83it/s]\n",
      "Featurizing q: 100%|██████████| 38/38 [00:00<00:00, 62.25it/s]\n"
     ]
    },
    {
     "name": "stdout",
     "output_type": "stream",
     "text": [
      "問題：如果核心業務涉及CI維運且受到輕微影響，業務是否可於可容忍中斷時間回復？\n",
      "參考答案：核心業務(涉及CI 維運)輕微影響時，核心/資通系統(涉及CI 維運)是可於可容忍中斷時間回復的。\n",
      "生成答案：如果核心業務涉及CI維運且受到輕微影響，業務可於可容忍中斷時間回復正常運作。\n",
      "ROUGE-L：0.6206896551724138\n"
     ]
    },
    {
     "name": "stderr",
     "output_type": "stream",
     "text": [
      "Featurizing p: 100%|██████████| 24/24 [00:00<00:00, 63.49it/s]\n",
      "Featurizing q: 100%|██████████| 45/45 [00:00<00:00, 63.09it/s]\n"
     ]
    },
    {
     "name": "stdout",
     "output_type": "stream",
     "text": [
      "問題：在確認三級以上事件成立後，事發機關需要在什麼時候提交改善報告？\n",
      "參考答案：事發機關應於１個月內提交相關改善報告至主管機關。\n",
      "生成答案：在確認三級(含)以上事件成立後,事發機關應於1個月內提交相關改善報告(附件三)至主管機關。\n",
      "ROUGE-L：0.6666666666666666\n"
     ]
    },
    {
     "name": "stderr",
     "output_type": "stream",
     "text": [
      "Featurizing p: 100%|██████████| 74/74 [00:01<00:00, 61.74it/s]\n",
      "Featurizing q: 100%|██████████| 82/82 [00:01<00:00, 62.04it/s]\n"
     ]
    },
    {
     "name": "stdout",
     "output_type": "stream",
     "text": [
      "問題：在哪裡可以下載資安事件改善報告的空白格式？\n",
      "參考答案：可以在 https://info.cert.tanet.edu.tw/docinfo/infoattach.zip 下載資安事件改善報告的空白格式。\n",
      "生成答案：您可以在文件下載 (https://info.cert.tanet.edu.tw/docinfo/infoattach.zip) 中找到資安事件改善報告的空白格式。\n",
      "ROUGE-L：0.923076923076923\n"
     ]
    },
    {
     "name": "stderr",
     "output_type": "stream",
     "text": [
      "Featurizing p: 100%|██████████| 21/21 [00:00<00:00, 63.38it/s]\n",
      "Featurizing q: 100%|██████████| 21/21 [00:00<00:00, 62.18it/s]\n"
     ]
    },
    {
     "name": "stdout",
     "output_type": "stream",
     "text": [
      "問題：教育機構資安通報平台新增的欄位資料何時正式上線？\n",
      "參考答案：新增欄位預計於112 年6 月初正式上線。\n",
      "生成答案：新增欄位預計於112 年6 月初正式上線。\n",
      "ROUGE-L：1.0\n"
     ]
    },
    {
     "name": "stderr",
     "output_type": "stream",
     "text": [
      "Featurizing p: 100%|██████████| 58/58 [00:00<00:00, 63.28it/s]\n",
      "Featurizing q: 100%|██████████| 51/51 [00:00<00:00, 63.11it/s]\n"
     ]
    },
    {
     "name": "stdout",
     "output_type": "stream",
     "text": [
      "問題：在資安通報流程中，新增了哪些欄位資料？\n",
      "參考答案：通報流程新增「受駭設備類型」、「受害設備說明」、「損害類別說明」、「攻擊手法」、「調查說明」、「情資類型」欄位資料。\n",
      "生成答案：在資安通報流程中，新增了「受駭設備類型」、「受害設備說明」、「損害類別說明」、「攻擊手法」等欄位資料。\n",
      "ROUGE-L：0.8073394495412843\n"
     ]
    },
    {
     "name": "stderr",
     "output_type": "stream",
     "text": [
      "Featurizing p: 100%|██████████| 31/31 [00:00<00:00, 62.25it/s]\n",
      "Featurizing q: 100%|██████████| 36/36 [00:00<00:00, 62.49it/s]\n"
     ]
    },
    {
     "name": "stdout",
     "output_type": "stream",
     "text": [
      "問題：如果我遇到系統被未經授權存取的情況，應該將其歸類為哪種情資類型？\n",
      "參考答案：入侵攻擊：針對系統遭未經授權存取或取得系統/使用者權限之事件。\n",
      "生成答案：如果你遇到系統被未經授權存取的情況，應該將其歸類為「惡意程式」情資類型。\n",
      "ROUGE-L：0.2686567164179105\n"
     ]
    },
    {
     "name": "stderr",
     "output_type": "stream",
     "text": [
      "Featurizing p: 100%|██████████| 17/17 [00:00<00:00, 62.85it/s]\n",
      "Featurizing q: 100%|██████████| 26/26 [00:00<00:00, 62.80it/s]\n"
     ]
    },
    {
     "name": "stdout",
     "output_type": "stream",
     "text": [
      "問題：當發現系統存在弱點時，這屬於哪一類的事件？\n",
      "參考答案：系統弱點：針對系統存在弱點之事件。\n",
      "生成答案：當發現系統存在弱點時，屬於「系統弱點」這一類的事件。\n",
      "ROUGE-L：0.5116279069767442\n"
     ]
    },
    {
     "name": "stderr",
     "output_type": "stream",
     "text": [
      "Featurizing p: 100%|██████████| 32/32 [00:00<00:00, 64.10it/s]\n",
      "Featurizing q: 100%|██████████| 20/20 [00:00<00:00, 64.02it/s]\n"
     ]
    },
    {
     "name": "stdout",
     "output_type": "stream",
     "text": [
      "問題：如果有攻擊行為是偽冒他人身分進行的，這應該歸類為什麼類型？\n",
      "參考答案：詐欺攻擊：針對偽冒他人身分、系統服務及組織等進行攻擊行為之事件。\n",
      "生成答案：這應該歸類為偽造身分的社交工程攻擊行為。\n",
      "ROUGE-L：0.3076923076923077\n"
     ]
    },
    {
     "name": "stderr",
     "output_type": "stream",
     "text": [
      "Featurizing p: 100%|██████████| 18/18 [00:00<00:00, 63.75it/s]\n",
      "Featurizing q: 100%|██████████| 31/31 [00:00<00:00, 63.56it/s]\n"
     ]
    },
    {
     "name": "stdout",
     "output_type": "stream",
     "text": [
      "問題：在處理惡意程式相關事件時，應選擇哪種情資類型？\n",
      "參考答案：惡意程式：針對與相關惡意程式之事件。\n",
      "生成答案：在處理惡意程式相關事件時，應選擇情資類型中的「惡意程式」類型。\n",
      "ROUGE-L：0.4489795918367347\n"
     ]
    },
    {
     "name": "stderr",
     "output_type": "stream",
     "text": [
      "Featurizing p: 100%|██████████| 27/27 [00:00<00:00, 51.60it/s]\n",
      "Featurizing q: 100%|██████████| 53/53 [00:00<00:00, 58.87it/s]\n"
     ]
    },
    {
     "name": "stdout",
     "output_type": "stream",
     "text": [
      "問題：如果發現有攻擊影響到服務的可用性，這應該被歸類為哪種事件？\n",
      "參考答案：阻斷服務：針對影響服務可用性或造成服務中斷之攻擊事件。\n",
      "生成答案：如果發現有攻擊影響到服務的可用性，這應該被歸類為「阻斷服務:針對影響服務可用性或造成服務中斷之攻擊事件。」\n",
      "ROUGE-L：0.65\n"
     ]
    },
    {
     "name": "stderr",
     "output_type": "stream",
     "text": [
      "Featurizing p: 100%|██████████| 68/68 [00:01<00:00, 62.80it/s]\n",
      "Featurizing q: 100%|██████████| 94/94 [00:01<00:00, 63.05it/s]\n"
     ]
    },
    {
     "name": "stdout",
     "output_type": "stream",
     "text": [
      "問題：在應變流程中，如何選擇適合的損害控制狀態選項？\n",
      "參考答案：應根據實際狀況選擇適合的選項：1、損害控制：已控管此事件所造成的危害。2、完成損害控制與復原：已控管此事件所造成的危害並已完成系統復原。\n",
      "生成答案：在應變流程中，選擇適合的損害控制狀態選項時，可依實際狀況選擇以下兩種狀態：\n",
      "1. 損害控制：已控管此事件所造成的危害。\n",
      "2. 完成損害控制與復原：已控管此事件所造成的危害並已完成系統復原。\n",
      "ROUGE-L：0.7407407407407407\n"
     ]
    },
    {
     "name": "stderr",
     "output_type": "stream",
     "text": [
      "Featurizing p: 100%|██████████| 26/26 [00:00<00:00, 62.38it/s]\n",
      "Featurizing q: 100%|██████████| 250/250 [00:03<00:00, 62.85it/s]\n"
     ]
    },
    {
     "name": "stdout",
     "output_type": "stream",
     "text": [
      "問題：在進行系統調查時，應該檢查哪些系統或網路相關資訊？\n",
      "參考答案：檢查系統或網路相關LOG 資訊，查看是否有異常之處。\n",
      "生成答案：在進行系統調查時，應該檢查以下系統或網路相關資訊：\n",
      "1. 檢查系統或網路相關 LOG 資訊,查看是否有異常之處。\n",
      "2. 利用如 TCPVIEW 工具軟體或 netstat 指令來查看系統是否有開啟可疑之服務或是否有可疑之來源連線。\n",
      "3. 查看防火牆之連線記錄,確認是否有可疑的連線。\n",
      "4. 定期檢測各伺服器內系統與軟體之漏洞,並進行修補。\n",
      "5. 定期檢查各伺服器是否存在異常事件行為。如是否有新增帳戶、Guest 帳戶是否被啟用、Windows 系統日誌是否有異常、防毒軟體是否有執行錯誤或異常中止。\n",
      "ROUGE-L：0.18115942028985507\n"
     ]
    },
    {
     "name": "stderr",
     "output_type": "stream",
     "text": [
      "Featurizing p: 100%|██████████| 53/53 [00:00<00:00, 62.45it/s]\n",
      "Featurizing q: 100%|██████████| 115/115 [00:01<00:00, 62.99it/s]\n"
     ]
    },
    {
     "name": "stdout",
     "output_type": "stream",
     "text": [
      "問題：如何查看系統是否有開啟可疑的服務或來源連線？\n",
      "參考答案：利用如TCPVIEW 工具軟體或netstat 指令來查看系統是否有開啟可疑之服務或是否有可疑之來源連線。\n",
      "生成答案：要查看系統是否有開啟可疑的服務或來源連線，可以透過以下步驟：\n",
      "\n",
      "1. 檢查系統或網路相關LOG資訊,查看是否有異常之處。\n",
      "2. 利用如TCPVIEW工具軟體或netstat指令來查看系統是否有開啟可疑之服務或是否有可疑之來源連線。\n",
      "ROUGE-L：0.6071428571428571\n"
     ]
    },
    {
     "name": "stderr",
     "output_type": "stream",
     "text": [
      "Featurizing p: 100%|██████████| 22/22 [00:00<00:00, 62.99it/s]\n",
      "Featurizing q: 100%|██████████| 170/170 [00:02<00:00, 63.34it/s]\n"
     ]
    },
    {
     "name": "stdout",
     "output_type": "stream",
     "text": [
      "問題：在防火牆中應該檢查什麼以確認是否有可疑連線？\n",
      "參考答案：查看防火牆之連線記錄，確認是否有可疑之連線。\n",
      "生成答案：在防火牆中應該檢查以下事項以確認是否有可疑連線：\n",
      "1. 查看系統或網路相關LOG資訊,查看是否有異常之處。\n",
      "2. 利用如TCPVIEW工具軟體或netstat指令來查看系統是否有開啟可疑之服務或是否有可疑之來源連線。\n",
      "3. 查看防火牆之連線記錄,確認是否有可疑之連線。\n",
      "4. 如果有設置入侵偵測軟體(IDS),進行查看是否有惡意的連線行為。\n",
      "ROUGE-L：0.21875\n"
     ]
    },
    {
     "name": "stderr",
     "output_type": "stream",
     "text": [
      "Featurizing p: 100%|██████████| 15/15 [00:00<00:00, 62.54it/s]\n",
      "Featurizing q: 100%|██████████| 62/62 [00:00<00:00, 62.58it/s]\n"
     ]
    },
    {
     "name": "stdout",
     "output_type": "stream",
     "text": [
      "問題：如果有設置入侵偵測軟體（IDS），應該如何使用來檢查系統安全？\n",
      "參考答案：進行查看是否有惡意的連線行為。\n",
      "生成答案：如果有設置入侵偵測軟體(IDS)，應該進行查看是否有惡意的連線行為，並檢查系統或網路相關 LOG 資訊，查看是否有異常之處。\n",
      "ROUGE-L：0.38961038961038963\n"
     ]
    },
    {
     "name": "stderr",
     "output_type": "stream",
     "text": [
      "Featurizing p: 100%|██████████| 67/67 [00:01<00:00, 61.65it/s]\n",
      "Featurizing q: 100%|██████████| 159/159 [00:02<00:00, 62.96it/s]\n"
     ]
    },
    {
     "name": "stdout",
     "output_type": "stream",
     "text": [
      "問題：如果我想查詢或閱覽我的個人資料，該怎麼做？\n",
      "參考答案：可透過書面或撥打服務專線07-5250211(週一~週五 09:00~17:00)，請TACERT提供查詢或請求閱覽您的個人資料服務。\n",
      "生成答案：您可以透過TACERT 提供的服務來查詢或閱覽您的個人資料。具體步驟如下：\n",
      "1. 選擇「OID 查詢」開啟單位OID 暨聯絡人查詢系統。\n",
      "2. 系統將列出貴單位轄 之個人資料，告知蒐集之目的（如發送簡訊或電子郵件通知單位連絡人資安事件、其他合於計劃所定之目標所需要）及個人資料之類別（如辨識個人者:姓名、地址、電話）。\n",
      "ROUGE-L：0.20353982300884957\n"
     ]
    },
    {
     "name": "stderr",
     "output_type": "stream",
     "text": [
      "Featurizing p: 100%|██████████| 22/22 [00:00<00:00, 62.68it/s]\n",
      "Featurizing q: 100%|██████████| 35/35 [00:00<00:00, 63.11it/s]\n"
     ]
    },
    {
     "name": "stdout",
     "output_type": "stream",
     "text": [
      "問題：TACERT蒐集的個人資料會在哪些地區被利用？\n",
      "參考答案：地區：台灣地區(包含金門、澎湖、馬祖等地)。\n",
      "生成答案：TACERT蒐集的個人資料會在台灣地區(包含金門、澎湖、馬祖)被利用。\n",
      "ROUGE-L：0.5964912280701754\n"
     ]
    },
    {
     "name": "stderr",
     "output_type": "stream",
     "text": [
      "Featurizing p: 100%|██████████| 25/25 [00:00<00:00, 63.10it/s]\n",
      "Featurizing q: 100%|██████████| 78/78 [00:01<00:00, 62.50it/s]\n"
     ]
    },
    {
     "name": "stdout",
     "output_type": "stream",
     "text": [
      "問題：我可以要求TACERT停止蒐集我的個人資料嗎？\n",
      "參考答案：可以，您可以請求停止蒐集、處理或利用您的個人資料。\n",
      "生成答案：是的，您可以要求TACERT停止蒐集您的個人資料。根據文件中的說明，您可以選擇不提供個人資料或是提供不完整的情況，這樣TACERT將因此無法提供相關的服務。\n",
      "ROUGE-L：0.3106796116504854\n"
     ]
    },
    {
     "name": "stderr",
     "output_type": "stream",
     "text": [
      "Featurizing p: 100%|██████████| 25/25 [00:00<00:00, 62.85it/s]\n",
      "Featurizing q: 100%|██████████| 113/113 [00:01<00:00, 62.42it/s]\n"
     ]
    },
    {
     "name": "stdout",
     "output_type": "stream",
     "text": [
      "問題：TACERT會以什麼方式利用我的個人資料？\n",
      "參考答案：方式：電子文件、紙本或其他合於當時科技之適當方式。\n",
      "生成答案：TACERT會以以下方式利用您的個人資料：\n",
      "1. 查詢或請求閱覽您的個人資料。\n",
      "2. 請求製給您的個人資料複製本。\n",
      "3. 請求補充或更正您的個人資料。\n",
      "4. 請求停止蒐集、處理或利用您的個人資料。\n",
      "5. 請求刪除您的個人資料。\n",
      "ROUGE-L：0.08695652173913045\n"
     ]
    },
    {
     "name": "stderr",
     "output_type": "stream",
     "text": [
      "Featurizing p: 100%|██████████| 50/50 [00:00<00:00, 63.45it/s]\n",
      "Featurizing q: 100%|██████████| 68/68 [00:01<00:00, 63.21it/s]\n"
     ]
    },
    {
     "name": "stdout",
     "output_type": "stream",
     "text": [
      "問題：如果我不提供個人資料，會有什麼影響？\n",
      "參考答案：若您選擇不提供個人資料或是提供不完整時，基於提供您更好的服務，TACERT將因此無法提供相關的服務。\n",
      "生成答案：若您選擇不提供個人資料或是提供不完整時,基於提供您更好的服務,TACERT 將因此無法提供相關的服務。因此而導致之後果,將由您自行承擔。\n",
      "ROUGE-L：0.8135593220338982\n"
     ]
    },
    {
     "name": "stderr",
     "output_type": "stream",
     "text": [
      "Featurizing p: 100%|██████████| 86/86 [00:01<00:00, 63.23it/s]\n",
      "Featurizing q: 100%|██████████| 113/113 [00:01<00:00, 63.52it/s]\n"
     ]
    },
    {
     "name": "stdout",
     "output_type": "stream",
     "text": [
      "問題：如果因網路中斷無法上網填報資安事件，應該如何通報？\n",
      "參考答案：可先填具附件一教育機構資通安全事件單，以TACERT 備用通報信箱或傳真方式送至臺灣學術網路危機處理中心(TACERT)，惟待網路連線恢復後，仍須至通報應變網站補登錄通報。\n",
      "生成答案：如因網路或電力中斷等事由,致使無法上網填報資安事件,可先填具附件一教 育機構資通安全事件單,以 1 小時內,與所屬區、縣(市)網路中心及通報應變小組聯繫,先行提供事件細節,待網路通訊恢復正常後,仍須至通報應 變網站補登錄通報。\n",
      "ROUGE-L：0.45226130653266333\n"
     ]
    },
    {
     "name": "stderr",
     "output_type": "stream",
     "text": [
      "Featurizing p: 100%|██████████| 212/212 [00:03<00:00, 63.66it/s]\n",
      "Featurizing q: 100%|██████████| 193/193 [00:03<00:00, 64.06it/s]\n"
     ]
    },
    {
     "name": "stdout",
     "output_type": "stream",
     "text": [
      "問題：在遭受DDoS攻擊時，如何申請流量清洗服務？\n",
      "參考答案：當連線單位遭受分散式阻斷服務攻擊（DDoS）時，連線單位可申請學術網路 DDoS 攻擊流量清洗服務並進行資安事件通報。如因網路或電力中斷等事由，致使無法上網申請DDoS 攻擊流量清洗服務事件單，可先填具附件二學術網路DDoS 攻擊流量清洗服務申請單，以TACERT 備用通報信箱或傳真方式送至臺灣學術網路危機處理中心(TACERT)，惟待網路連線恢復後，仍須至教育機構資安通報報表系統補申請DDoS 攻擊流量清洗服務事件單。\n",
      "生成答案：在遭受DDoS攻擊時,教育體系連線單位可依圖1所示流程申請流量清洗服務。當DDoS攻擊清洗完成後,平台會自動產生告知通報事件單,連線單位需登入資安通報平台進行填寫通報應變措施,才算完成整個確認該攻擊事件是否影響單位內重要設施之運作,並通報上級連線單位(區、縣(市)網路中心)評估是否有DDoS攻擊流量清洗服務之必要性;倘若評估結果為必要,並由上級連線單位至「通報應變作業指引」進行申請。\n",
      "ROUGE-L：0.2814814814814815\n"
     ]
    },
    {
     "name": "stderr",
     "output_type": "stream",
     "text": [
      "Featurizing p: 100%|██████████| 58/58 [00:00<00:00, 64.18it/s]\n",
      "Featurizing q: 100%|██████████| 13/13 [00:00<00:00, 62.25it/s]\n"
     ]
    },
    {
     "name": "stdout",
     "output_type": "stream",
     "text": [
      "問題：資安事件確認後，應在多長時間內通報？\n",
      "參考答案：經確認為資安事件後，須於 1 小時內，至教育機構資安通報應變網站通報登錄資安事件細節、影響等級及是否申請支援等資訊。\n",
      "生成答案：知悉後,一小時內進行通報。\n",
      "ROUGE-L：0.19718309859154928\n"
     ]
    },
    {
     "name": "stderr",
     "output_type": "stream",
     "text": [
      "Featurizing p: 100%|██████████| 113/113 [00:01<00:00, 62.84it/s]\n",
      "Featurizing q: 100%|██████████| 66/66 [00:01<00:00, 62.92it/s]\n"
     ]
    },
    {
     "name": "stdout",
     "output_type": "stream",
     "text": [
      "問題：在填寫教育機構資通安全事件通報單時，哪些項目是必填的？\n",
      "參考答案：填報時間、單位名稱、通報人、電話、傳真、電子郵件信箱、事件發生時間、確認(知悉)為資安事件時間、IP 位置、網際網路位置、設備廠牌、機型、作業系統（名稱/版本)、受駭應用軟體（名稱/版本)、已裝置之安全防護軟體、受駭設備類型。\n",
      "生成答案：在填寫教育機構資通安全事件通報單時，必填的項目包括：發生資通安全事件之機關(機構)聯絡資料、事件細節、影響等級及是否申請支援等資訊。\n",
      "ROUGE-L：0.1675977653631285\n"
     ]
    },
    {
     "name": "stderr",
     "output_type": "stream",
     "text": [
      "Featurizing p: 100%|██████████| 125/125 [00:02<00:00, 60.99it/s]\n",
      "Featurizing q: 100%|██████████| 71/71 [00:01<00:00, 63.08it/s]\n"
     ]
    },
    {
     "name": "stdout",
     "output_type": "stream",
     "text": [
      "問題：在事件發生時需要提供哪些設備資料？\n",
      "參考答案：需要提供的設備資料包括：IP 位置（IP address）、網際網路位置（web-url）、設備廠牌、機型、作業系統（名稱/版本)、受駭應用軟體（名稱/版本)、已裝置之安全防護軟體（防毒軟體、防火牆、IPS/IDS、其它的名稱/版本)、受駭設備類型。\n",
      "生成答案：在事件發生時需要提供的設備資料包括：IP位置(IP address)、網際網路位置(web-url)、設備廠牌、機型和作業系統(名稱/版本)。\n",
      "ROUGE-L：0.6020408163265306\n"
     ]
    },
    {
     "name": "stderr",
     "output_type": "stream",
     "text": [
      "Featurizing p: 100%|██████████| 73/73 [00:01<00:00, 64.57it/s]\n",
      "Featurizing q: 100%|██████████| 106/106 [00:01<00:00, 65.66it/s]\n"
     ]
    },
    {
     "name": "stdout",
     "output_type": "stream",
     "text": [
      "問題：如果事件涉及受駭設備，應如何分類設備類型？\n",
      "參考答案：受駭設備類型可以分類為：個人電腦、伺服器、大型主機、網路通訊設備、SCADA(資料採集與監視系統)、控制器(PLC、PAC)、人機介面(HMI)。\n",
      "生成答案：受駭設備類型的欄位選項包括「受害設備說明」和「損害類別說明」。在「受害設備說明」中，請簡略說明此設備之用途。在「損害類別說明」中，根據事件的入侵型態進行分類，並填寫相關欄位，如系統被入侵、對外攻擊、針對性攻擊等。\n",
      "ROUGE-L：0.1564245810055866\n"
     ]
    },
    {
     "name": "stderr",
     "output_type": "stream",
     "text": [
      "Featurizing p: 100%|██████████| 25/25 [00:00<00:00, 65.82it/s]\n",
      "Featurizing q: 100%|██████████| 68/68 [00:01<00:00, 65.70it/s]\n"
     ]
    },
    {
     "name": "stdout",
     "output_type": "stream",
     "text": [
      "問題：如果發生3、4級的資安事件，應該如何處理？\n",
      "參考答案：若有3、4級事件，請立刻電話告知您所屬的主管機關。\n",
      "生成答案：如果發生3、4級的資安事件，本部資科司得依事件情形邀集相關處理單位,召開緊急應變會議;必要時逐級陳報至本部資通安全長,召開資安防護會議。\n",
      "ROUGE-L：0.19354838709677422\n"
     ]
    },
    {
     "name": "stderr",
     "output_type": "stream",
     "text": [
      "Featurizing p: 100%|██████████| 31/31 [00:00<00:00, 65.44it/s]\n",
      "Featurizing q: 100%|██████████| 37/37 [00:00<00:00, 65.72it/s]\n"
     ]
    },
    {
     "name": "stdout",
     "output_type": "stream",
     "text": [
      "問題：在無法確定如何填寫資安事件等級時，應該怎麼辦？\n",
      "參考答案：如果您無法確定如何填寫時，請電話連絡您所屬的主管機關請求協助。\n",
      "生成答案：如果無法確定如何填寫資安事件等級時，應該電話連絡您所屬的主管機關請求協助。\n",
      "ROUGE-L：0.8529411764705881\n"
     ]
    },
    {
     "name": "stderr",
     "output_type": "stream",
     "text": [
      "Featurizing p: 100%|██████████| 61/61 [00:00<00:00, 66.15it/s]\n",
      "Featurizing q: 100%|██████████| 34/34 [00:00<00:00, 66.08it/s]\n"
     ]
    },
    {
     "name": "stdout",
     "output_type": "stream",
     "text": [
      "問題：如何評估資安事件的影響等級？\n",
      "參考答案：請分別評估資安事件造成之機密性、完整性以及可用性衝擊，資安事件影響等級為機密性、完整性及可用性衝擊最嚴重者(數字最大者)。\n",
      "生成答案：資安事件影響等級為機密性、完整性及可用性衝擊最嚴重者(數字最大者)。\n",
      "ROUGE-L：0.7157894736842105\n"
     ]
    },
    {
     "name": "stderr",
     "output_type": "stream",
     "text": [
      "Featurizing p: 100%|██████████| 89/89 [00:01<00:00, 63.69it/s]\n",
      "Featurizing q: 100%|██████████| 112/112 [00:01<00:00, 65.62it/s]\n"
     ]
    },
    {
     "name": "stdout",
     "output_type": "stream",
     "text": [
      "問題：一線人員如何取得惡意網站威脅來源清單的相關資訊？\n",
      "參考答案：一線人員（學校資安人員）請洽詢所屬的上層區縣市網人員來取得相關資訊，您可利用登入資安通報平台（https://info.cert.tanet.edu.tw/）來取得二線人員資訊。\n",
      "生成答案：一線人員(學校資安人員)可洽詢所屬的上層區縣市網人員來取得相關資訊。您可利用登入資安通報平台(https://info. cert.tanet.edu.tw/)來取人員可以於此處瀏覽與下載「惡意網站威脅來源清單」的公告資訊。\n",
      "ROUGE-L：0.7960199004975124\n"
     ]
    },
    {
     "name": "stderr",
     "output_type": "stream",
     "text": [
      "Featurizing p: 100%|██████████| 94/94 [00:01<00:00, 63.92it/s]\n",
      "Featurizing q: 100%|██████████| 78/78 [00:01<00:00, 64.94it/s]\n"
     ]
    },
    {
     "name": "stdout",
     "output_type": "stream",
     "text": [
      "問題：二線人員如何下載惡意網站威脅來源清單？\n",
      "參考答案：二線人員可利用二線審核帳號(英文+OID 帳號，如Z2.16…..)及密碼登入資安通報報表系統（https://portal.cert.tanet.edu.tw/）的「威脅名單」功能下載。\n",
      "生成答案：二線人員可以於「A3 資安事件單報表系統」中點選「下載技服威脅清單」功能,即可下載由「行政院國家資通安全會報技術服務中心」所提供的完整惡意網站威脅來源清單。\n",
      "ROUGE-L：0.2558139534883721\n"
     ]
    },
    {
     "name": "stderr",
     "output_type": "stream",
     "text": [
      "Featurizing p: 100%|██████████| 37/37 [00:00<00:00, 66.10it/s]\n",
      "Featurizing q: 100%|██████████| 20/20 [00:00<00:00, 65.40it/s]\n"
     ]
    },
    {
     "name": "stdout",
     "output_type": "stream",
     "text": [
      "問題：下載的威脅清單應如何處理？\n",
      "參考答案：威脅清單內容為機敏性資料，僅供公務使用，嚴禁外流並依公務密件相關規定處理。\n",
      "生成答案：下載的威脅清單應依公務密件相關規定處理。\n",
      "ROUGE-L：0.5614035087719298\n"
     ]
    },
    {
     "name": "stderr",
     "output_type": "stream",
     "text": [
      "Featurizing p: 100%|██████████| 78/78 [00:01<00:00, 64.85it/s]\n",
      "Featurizing q: 100%|██████████| 129/129 [00:01<00:00, 64.96it/s]\n"
     ]
    },
    {
     "name": "stdout",
     "output_type": "stream",
     "text": [
      "問題：如果我在密碼變更或重設時遇到問題，應該怎麼辦？\n",
      "參考答案：TACERT 會進後台人工重設密碼，連同OID 一起寄信回覆。校方須提供完整校名或OID，以及Email，使得TACERT 查詢、重設密碼與提供資訊給對方。\n",
      "生成答案：如果在密碼變更或重設時遇到問題，您應該聯繫 TACERT，他們會進後台人工重設密碼，並連同 OID 一起寄信回覆。校方須提供完整校名或 OID，以及 Email，使得 TACERT 查詢、重設密碼的帳號權限設定在安全的範圍內，登入之後再切換 root 便可。\n",
      "ROUGE-L：0.6666666666666665\n"
     ]
    },
    {
     "name": "stderr",
     "output_type": "stream",
     "text": [
      "Featurizing p: 100%|██████████| 56/56 [00:00<00:00, 64.30it/s]\n",
      "Featurizing q: 100%|██████████| 173/173 [00:02<00:00, 65.79it/s]\n"
     ]
    },
    {
     "name": "stdout",
     "output_type": "stream",
     "text": [
      "問題：我需要調整事件單的等級或內容，該如何處理？\n",
      "參考答案：因送出後學校無法調整內容，由TACERT 依照要求進後台調整。請提供本中心欲調整之事件單編號，以及欲調整之內容。\n",
      "生成答案：您需要調整事件單的等級或內容，可以透過以下方式處理：\n",
      "\n",
      "1. 事件單等級、內容調整：由於學校無法自行調整，您需提供「本中心欲調整之事件單編號」及「欲調整之內容」，TACERT 將進後台進行調整。\n",
      "\n",
      "2. 事件單錯誤重派或刪除問題：TACERT 進後台重新輸入正確的OID並重派，或是將工單刪除。請提供「本中心錯誤事件單之編號」及「有問題之內容」。\n",
      "ROUGE-L：0.3318777292576419\n"
     ]
    },
    {
     "name": "stderr",
     "output_type": "stream",
     "text": [
      "Featurizing p: 100%|██████████| 56/56 [00:00<00:00, 64.56it/s]\n",
      "Featurizing q: 100%|██████████| 111/111 [00:01<00:00, 65.18it/s]\n"
     ]
    },
    {
     "name": "stdout",
     "output_type": "stream",
     "text": [
      "問題：如果事件單出現錯誤需要重派或刪除，該怎麼辦？\n",
      "參考答案：TACERT 進後台重新輸入正確OID 並重派，或是把工單刪除。請提供本中心錯誤事件單之編號，以及有問題之內容。\n",
      "生成答案：如果事件單出現錯誤需要重派或刪除，請提供本中心錯誤事件單之編號,以及有問題之內容。若在職,可直接請異動之聯絡人修改個人資料。要新增或是刪除聯絡人,必須使用第一或第二聯絡人帳號,在帳號管理裡面做新增或是刪除後面聯絡人的帳號。\n",
      "ROUGE-L：0.33532934131736525\n"
     ]
    },
    {
     "name": "stderr",
     "output_type": "stream",
     "text": [
      "Featurizing p: 100%|██████████| 122/122 [00:01<00:00, 65.36it/s]\n",
      "Featurizing q: 100%|██████████| 70/70 [00:01<00:00, 64.58it/s]\n"
     ]
    },
    {
     "name": "stdout",
     "output_type": "stream",
     "text": [
      "問題：如何回報HITCON的漏洞修補情況？\n",
      "參考答案：學校方告知漏洞編號，並由TACERT 進入HITCON 後台更改漏洞狀態。請確認HITCON 之漏洞詳情頁面，若該漏洞上方發信單位為TACERT 台灣學術網路危機處理中心，即可由本中心調整漏洞狀態為已修補，再請提供本中心HITCON 漏洞編號。\n",
      "生成答案：若要回報HITCON的漏洞修補情況，可將漏洞編號告知TACERT台灣學術網路危機處理中心，由本中心進入HITCON後台更改漏洞狀態為已修補。\n",
      "ROUGE-L：0.45833333333333337\n"
     ]
    },
    {
     "name": "stderr",
     "output_type": "stream",
     "text": [
      "Featurizing p: 100%|██████████| 90/90 [00:01<00:00, 65.39it/s]\n",
      "Featurizing q: 100%|██████████| 208/208 [00:03<00:00, 65.09it/s]\n"
     ]
    },
    {
     "name": "stdout",
     "output_type": "stream",
     "text": [
      "問題：如果HITCON帳號遺失或需要申請組織帳號，該怎麼辦？\n",
      "參考答案：HITCON 將漏洞所屬權派給校方，因帳號遺失或沒有組織帳號，無法自行更改，會由本中心寄信通知HITCON 修改漏洞狀態，或是請學校申請一個組織帳號並驗證，通過後自行更改漏洞狀態。\n",
      "生成答案：如果HITCON帳號遺失或需要申請組織帳號，可以透過以下步驟處理：\n",
      "\n",
      "1. 重新創辦貴單位之HITCON帳號。\n",
      "2. 申請組織帳號後，可自行新增或移除共同管理組織帳號的使用者，並獲得後台權限。\n",
      "3. 如果沒有組織帳號，無法自行更改漏洞狀態。會由本中心寄信通知HITCON修改漏洞狀態，或是請學校申請一個組織帳號並驗證，通過後自行更改漏洞狀態。\n",
      "\n",
      "如果需要將HITCON聯繫方式告訴校方，可以透過危機處理中心進行聯繫。\n",
      "ROUGE-L：0.5033557046979865\n"
     ]
    },
    {
     "name": "stderr",
     "output_type": "stream",
     "text": [
      "Featurizing p: 100%|██████████| 39/39 [00:00<00:00, 63.12it/s]\n",
      "Featurizing q: 100%|██████████| 38/38 [00:00<00:00, 63.82it/s]\n"
     ]
    },
    {
     "name": "stdout",
     "output_type": "stream",
     "text": [
      "問題：完成漏洞修補後，應該如何通知HITCON更改漏洞狀態？\n",
      "參考答案：將漏洞修補完成後，通知本中心，由本中心向HITCON寄信，請官方更改漏洞狀態。\n",
      "生成答案：完成漏洞修補後,通知本中心,由本中心向HITCON寄信,請官方更改漏洞狀態。\n",
      "ROUGE-L：0.8571428571428572\n"
     ]
    },
    {
     "name": "stderr",
     "output_type": "stream",
     "text": [
      "Featurizing p: 100%|██████████| 169/169 [00:02<00:00, 64.95it/s]\n",
      "Featurizing q: 100%|██████████| 87/87 [00:01<00:00, 64.93it/s]\n"
     ]
    },
    {
     "name": "stdout",
     "output_type": "stream",
     "text": [
      "問題：在進行系統調查時，建議的步驟有哪些？\n",
      "參考答案：建議在進行系統調查時進行下列步驟：(1) 檢查系統或網路相關 LOG 資訊，查看是否有異常之處。(2) 利用如 TCPVIEW 工具軟體或 netstat 指令來查看系統是否有開啟可疑之服務或是否有可疑之來源連線。(3) 查看防火牆之連線記錄，確認是否有可疑之連線。(4) 如果有設置入侵偵測軟體（IDS），進行查看是否有惡意的連線行為。\n",
      "生成答案：在進行系統調查時，建議的步驟有：\n",
      "1. 檢查系統或網路相關 LOG 資訊,查看是否有異常之處。\n",
      "2. 利用如 TCPVIEW 工具軟體或 netstat 指令來查看電腦關機。\n",
      "ROUGE-L：0.5703125\n"
     ]
    },
    {
     "name": "stderr",
     "output_type": "stream",
     "text": [
      "Featurizing p: 100%|██████████| 57/57 [00:00<00:00, 64.88it/s]\n",
      "Featurizing q: 100%|██████████| 31/31 [00:00<00:00, 65.08it/s]\n"
     ]
    },
    {
     "name": "stdout",
     "output_type": "stream",
     "text": [
      "問題：不同級數的事件通報應變時效是多久？\n",
      "參考答案：事件通報應變時效因級數而有所不同，「1」、「2」級事件需於72小時內完成；「3」、「4」級事件需於36小時內完成。\n",
      "生成答案：不同級數的事件通報應變時效是：3、4級事件需於36小時內完成。\n",
      "ROUGE-L：0.5454545454545454\n"
     ]
    },
    {
     "name": "stderr",
     "output_type": "stream",
     "text": [
      "Featurizing p: 100%|██████████| 64/64 [00:00<00:00, 65.26it/s]\n",
      "Featurizing q: 100%|██████████| 33/33 [00:00<00:00, 64.15it/s]\n"
     ]
    },
    {
     "name": "stdout",
     "output_type": "stream",
     "text": [
      "問題：在通報流程中，若未發現資安事件威脅，應選擇哪種情資類型？\n",
      "參考答案：當收到資安情資後，經適當且有效的系統調查後，並未發現有直接或間接證據可證明系統遭受到資安事件之威脅即可選擇INFO(資安情資)。\n",
      "生成答案：在通報流程中，若未發現資安事件威脅，應選擇 TII (威脅情報)。\n",
      "ROUGE-L：0.3505154639175258\n"
     ]
    },
    {
     "name": "stderr",
     "output_type": "stream",
     "text": [
      "Featurizing p: 100%|██████████| 82/82 [00:01<00:00, 65.66it/s]\n",
      "Featurizing q: 100%|██████████| 69/69 [00:01<00:00, 65.60it/s]\n"
     ]
    },
    {
     "name": "stdout",
     "output_type": "stream",
     "text": [
      "問題：損害控制狀態有哪些選項？\n",
      "參考答案：應變流程之「損害控制狀態」可分為完成下列兩種狀態：(1) 損害控制：已控管此事件所造成的危害。(2) 完成損害控制與復原：已控管此事件所造成的危害並已完成系統復原。\n",
      "生成答案：損害控制狀態有兩種選項：(1) 損害控制：已控管此事件所造成的危害。(2) 完成損害控制與復原：已控管此事件所造成的危害並已完成系統復原。\n",
      "ROUGE-L：0.8741721854304637\n"
     ]
    },
    {
     "name": "stderr",
     "output_type": "stream",
     "text": [
      "Featurizing p: 100%|██████████| 42/42 [00:00<00:00, 65.74it/s]\n",
      "Featurizing q: 100%|██████████| 167/167 [00:02<00:00, 65.99it/s]\n"
     ]
    },
    {
     "name": "stdout",
     "output_type": "stream",
     "text": [
      "問題：在通報演練期間，第一、第二聯絡人需要做什麼操作？\n",
      "參考答案：第一、第二聯絡人需在演練資料整備作業期間更換一次密碼，並檢查資安聯絡人資料是否正確。\n",
      "生成答案：在通報演練期間，第一聯絡人需要檢查資安聯絡人資料是否正確，並於收到「資安演練事件通知單」後，依規定的時限內至教育機構資安通報演練平台完成事件通報流程。第二聯絡人則需配合第一聯絡人執行各項任務，如平台準備及問題處理小組負責「各級學校資安通報演練平台」維護、規劃演練各項事宜及問題處理；危機處理小組負責規劃演練各種模擬狀況及處理突發狀況。\n",
      "ROUGE-L：0.19138755980861247\n"
     ]
    },
    {
     "name": "stderr",
     "output_type": "stream",
     "text": [
      "Featurizing p: 100%|██████████| 74/74 [00:01<00:00, 65.65it/s]\n",
      "Featurizing q: 100%|██████████| 76/76 [00:01<00:00, 65.89it/s]\n"
     ]
    },
    {
     "name": "stdout",
     "output_type": "stream",
     "text": [
      "問題：收到資安演練事件通知單後，執行演練單位應如何處理？\n",
      "參考答案：執行演練單位於收到mail及簡訊通知後，應於規定的時限內至教育機構資安通報演練平台完成事件通報流程，並依事件等級於處理時限內完成事件應變處理並結案。\n",
      "生成答案：執行演練單位於收到mail及簡訊通知後,應於規定的時限內至教育機構資安通報演練平台完成事件通報流程,作業期間更換一次密碼,並檢查資安聯絡人資料是否正確。\n",
      "ROUGE-L：0.6666666666666667\n"
     ]
    },
    {
     "name": "stderr",
     "output_type": "stream",
     "text": [
      "Featurizing p: 100%|██████████| 36/36 [00:00<00:00, 64.89it/s]\n",
      "Featurizing q: 100%|██████████| 23/23 [00:00<00:00, 65.32it/s]\n"
     ]
    },
    {
     "name": "stdout",
     "output_type": "stream",
     "text": [
      "問題：如何下載事件單的LOG附檔？\n",
      "參考答案：確認事件單的「發佈編號」後，可至「事件附檔下載」，下載所需之LOG附檔。\n",
      "生成答案：在「事件附檔下載」中即可下載所需之LOG附檔。\n",
      "ROUGE-L：0.6440677966101694\n"
     ]
    },
    {
     "name": "stderr",
     "output_type": "stream",
     "text": [
      "Featurizing p: 100%|██████████| 62/62 [00:00<00:00, 65.28it/s]\n",
      "Featurizing q: 100%|██████████| 130/130 [00:01<00:00, 65.62it/s]\n"
     ]
    },
    {
     "name": "stdout",
     "output_type": "stream",
     "text": [
      "問題：如何處理通報平台聯絡人異動問題？\n",
      "參考答案：聯絡人若已不在職，可先申請重設密碼後請他人登入，並修改個人資料，以更換新的聯絡人；若在職，可直接請異動之聯絡人修改個人資料。\n",
      "生成答案：通報平台聯絡人異動、新增及刪除問題: 聯絡人若已不在職,可先申請重設密碼後請他人登入,並修改個人資料,以更換新的聯絡人;若在職,可直接請異動之聯絡人修改個人資料。要新增或是刪除聯絡人,必須使用第一或第二聯絡人帳號,在帳號管理裡面做新增或是刪除後面聯絡人的帳號。\n",
      "ROUGE-L：0.59375\n"
     ]
    },
    {
     "name": "stderr",
     "output_type": "stream",
     "text": [
      "Featurizing p: 100%|██████████| 49/49 [00:00<00:00, 65.70it/s]\n",
      "Featurizing q: 100%|██████████| 114/114 [00:01<00:00, 65.01it/s]\n"
     ]
    },
    {
     "name": "stdout",
     "output_type": "stream",
     "text": [
      "問題：如何新增或刪除通報平台的聯絡人？\n",
      "參考答案：要新增或是刪除聯絡人，必須使用第一或第二聯絡人帳號，在帳號管理裡面做新增或是刪除後面聯絡人的帳號。\n",
      "生成答案：要新增或刪除通報平台的聯絡人,必須使用第一或第二聯絡人帳號,在帳號管理裡面做新增或是刪除後面聯絡人的帳號。若聯絡人已不在職,可先申請重設密碼後請他人登入,並修改個人資料以更換新的聯絡人;若在職,可直接請異動之聯絡人修改個人資料。\n",
      "ROUGE-L：0.5644171779141104\n"
     ]
    },
    {
     "name": "stderr",
     "output_type": "stream",
     "text": [
      "Featurizing p: 100%|██████████| 39/39 [00:00<00:00, 65.58it/s]\n",
      "Featurizing q: 100%|██████████| 70/70 [00:01<00:00, 64.96it/s]\n"
     ]
    },
    {
     "name": "stdout",
     "output_type": "stream",
     "text": [
      "問題：在EWA事件單中，如何處理確實事件？\n",
      "參考答案：確實事件：經查證後為確實事件，須先「自行通報」，並填入自行通報的資安事件編號。\n",
      "生成答案：若在職,可直接請異動之聯絡人修改個人資料。要新增或是刪除聯絡人,必須使用第一或第二聯絡人帳號,在帳號管理裡面做新增或是刪除後面聯絡人的帳號。\n",
      "ROUGE-L：0.07339449541284404\n"
     ]
    },
    {
     "name": "stderr",
     "output_type": "stream",
     "text": [
      "Featurizing p: 100%|██████████| 32/32 [00:00<00:00, 65.68it/s]\n",
      "Featurizing q: 100%|██████████| 87/87 [00:01<00:00, 65.99it/s]\n"
     ]
    },
    {
     "name": "stdout",
     "output_type": "stream",
     "text": [
      "問題：在EWA事件單中，如何處理誤判事件？\n",
      "參考答案：誤判：經查證後確認為誤判事件，並於「原因」欄位中，說明誤判原因。\n",
      "生成答案：在EWA事件單中處理誤判事件的方式為：若在職,可直接請異動之聯絡人修改個人資料。要新增或刪除聯絡人,必須使用第一或第二聯絡人帳號,在帳號管理裡面做新增或刪除後面聯絡人的帳號。\n",
      "ROUGE-L：0.10084033613445377\n",
      "已儲存 2548 筆資料到 FAISS\n"
     ]
    },
    {
     "name": "stderr",
     "output_type": "stream",
     "text": [
      "Featurizing p: 100%|██████████| 105/105 [00:01<00:00, 64.47it/s]\n",
      "Featurizing q: 100%|██████████| 161/161 [00:02<00:00, 64.57it/s]\n"
     ]
    },
    {
     "name": "stdout",
     "output_type": "stream",
     "text": [
      "問題：如何在教育機構資安通報平台修改資安長的資料？\n",
      "參考答案：請單位的資安連絡人登錄「教育機構資安通報平台」(https://info.cert.tanet.edu.tw)後，點選左方功能列之「修改資安長資料」功能項，輸入單位的資安長相關連絡資訊，點選「送出」以儲存資料。\n",
      "生成答案：要在教育機構資安通報平台修改資安長的資料，請單位的資安連絡人登錄「教育機構資安通報平台」(https://info. cert.tanet.edu.tw)後，點選左方功能列(圖1)之「修改資安長資料」功能項。輸入單位的資安長相關連絡資訊(包含資安長姓名、資安長公務電 話及資安長公務e-mail),點選「送出」以儲存資料。\n",
      "ROUGE-L：0.7744360902255638\n"
     ]
    },
    {
     "name": "stderr",
     "output_type": "stream",
     "text": [
      "Featurizing p: 100%|██████████| 38/38 [00:00<00:00, 65.11it/s]\n",
      "Featurizing q: 100%|██████████| 36/36 [00:00<00:00, 66.17it/s]\n"
     ]
    },
    {
     "name": "stdout",
     "output_type": "stream",
     "text": [
      "問題：資安長的聯絡資訊需要包含哪些內容？\n",
      "參考答案：資安長的聯絡資訊需要包含資安長姓名、資安長公務電話及資安長公務e-mail。\n",
      "生成答案：資安長的聯絡資訊需要包含資安長姓名、資安長公務電話及資安長公務電子郵件。\n",
      "ROUGE-L：0.8648648648648649\n"
     ]
    },
    {
     "name": "stderr",
     "output_type": "stream",
     "text": [
      "Featurizing p: 100%|██████████| 57/57 [00:00<00:00, 65.60it/s]\n",
      "Featurizing q: 100%|██████████| 237/237 [00:03<00:00, 64.88it/s]\n"
     ]
    },
    {
     "name": "stdout",
     "output_type": "stream",
     "text": [
      "問題：在資安事件發生時，臺灣學術網路各級學校應如何確保正常運作？\n",
      "參考答案：在資安事件發生時，臺灣學術網路各級學校應迅速通報及緊急應變處置，以確保正常運作，並符合「資通安全管理法」相關規範。\n",
      "生成答案：在資安事件發生時,臺灣學術網路各級學校應依據「臺灣學術網路管理規範」,先行中斷發生資安事件之系統網路連線,待該系統完成通報應變改善作為後,始得恢復其連線。並遵循各單位內部備份管理辦法,啟動備援計畫、異地備援或備援中心等應變措施,以防止事件擴大。如涉及刑責,應做好相關資料(含稽核紀錄)保全工作,以便聯繫檢警調單位協助偵查。各連線單位發現資安事件後,須於1小時內至教育機構資通安全通報應變網站(https://info. cert.tanet.edu.tw)通報登錄資安事件。\n",
      "ROUGE-L：0.21088435374149658\n"
     ]
    },
    {
     "name": "stderr",
     "output_type": "stream",
     "text": [
      "Featurizing p: 100%|██████████| 55/55 [00:00<00:00, 64.62it/s]\n",
      "Featurizing q: 100%|██████████| 87/87 [00:01<00:00, 64.42it/s]\n"
     ]
    },
    {
     "name": "stdout",
     "output_type": "stream",
     "text": [
      "問題：資安事件發生後，應變作業包括哪些具體機制？\n",
      "參考答案：應變作業包括各級學校、教育及研究機構之事前安全防護、事中緊急應變、事後復原作業之具體機制及相關應變作業檢討等。\n",
      "生成答案：各連線單位應建立資安事件之「事前安全防護」、「事中緊急應變」及「事後復原」作業之具體機制,並至少包含下列各項: (一) 事前安全防護、(二) 事中緊急應變、(三) 事後復原。\n",
      "ROUGE-L：0.408450704225352\n"
     ]
    },
    {
     "name": "stderr",
     "output_type": "stream",
     "text": [
      "Featurizing p: 100%|██████████| 42/42 [00:00<00:00, 65.20it/s]\n",
      "Featurizing q: 100%|██████████| 61/61 [00:00<00:00, 65.81it/s]\n"
     ]
    },
    {
     "name": "stdout",
     "output_type": "stream",
     "text": [
      "問題：資安演練作業的目的為何？\n",
      "參考答案：資安演練作業的目的是檢驗區、縣（市）網路中心及所屬連線單位之資安通報機制及應變能力。\n",
      "生成答案：資安演練作業的目的包括檢驗「區、縣(市)網路中心」及所屬連線單位之資安通報機制及應變能力，以及提高對社交工程攻擊防制認知。\n",
      "ROUGE-L：0.7572815533980584\n"
     ]
    },
    {
     "name": "stderr",
     "output_type": "stream",
     "text": [
      "Featurizing p: 100%|██████████| 28/28 [00:00<00:00, 65.31it/s]\n",
      "Featurizing q: 100%|██████████| 34/34 [00:00<00:00, 64.28it/s]\n"
     ]
    },
    {
     "name": "stdout",
     "output_type": "stream",
     "text": [
      "問題：獎懲及減責標準中包含哪些內容？\n",
      "參考答案：獎懲及減責標準中包含提報獎勵標準、懲處規定及減責規定等。\n",
      "生成答案：獎勵及減責標準中包含三個部分：一、獎勵標準；二、權責；三、減責標準。\n",
      "ROUGE-L：0.5483870967741935\n"
     ]
    },
    {
     "name": "stderr",
     "output_type": "stream",
     "text": [
      "Featurizing p: 100%|██████████| 43/43 [00:00<00:00, 65.66it/s]\n",
      "Featurizing q: 100%|██████████| 83/83 [00:01<00:00, 65.49it/s]\n"
     ]
    },
    {
     "name": "stdout",
     "output_type": "stream",
     "text": [
      "問題：在臺灣學術網路通報應變架構中，第一線人員的職責是什麼？\n",
      "參考答案：第一線人員指各連線單位之網管、資安人員，其職掌範圍為其所管轄單位之資安事件通報與處理。\n",
      "生成答案：在臺灣學術網路通報應變架構中，第一線人員的職責是各連線單位之網管、資安人員，其職掌範圍為其所管轄單位之資安事件通報與處理。各單位應配置2名人員以求資安事件處理之有效。\n",
      "ROUGE-L：0.6666666666666666\n"
     ]
    },
    {
     "name": "stderr",
     "output_type": "stream",
     "text": [
      "Featurizing p: 100%|██████████| 30/30 [00:00<00:00, 65.01it/s]\n",
      "Featurizing q: 100%|██████████| 83/83 [00:01<00:00, 65.04it/s]\n"
     ]
    },
    {
     "name": "stdout",
     "output_type": "stream",
     "text": [
      "問題：誰負責指揮與監督重大資安事件之通報應變？\n",
      "參考答案：教育部資訊及科技教育司負責指揮與監督重大資安事件之通報應變。\n",
      "生成答案：根據資通安全管理法第11條規定,機關首長需指派副首長或適當人員兼任資安長,負責推動及監督機關內資通安全相關事務。教育部人員則掌範圍為指揮與監督重大資安事件之通報應變。\n",
      "ROUGE-L：0.3716814159292035\n"
     ]
    },
    {
     "name": "stderr",
     "output_type": "stream",
     "text": [
      "Featurizing p: 100%|██████████| 60/60 [00:00<00:00, 65.37it/s]\n",
      "Featurizing q: 100%|██████████| 60/60 [00:00<00:00, 65.84it/s]\n"
     ]
    },
    {
     "name": "stdout",
     "output_type": "stream",
     "text": [
      "問題：各級學校資安通報應變小組的職掌範圍是什麼？\n",
      "參考答案：各級學校資安通報應變小組的職掌範圍為負責各級學校資安通報平台之營運，審核所有資安事件，協調資安事件通報、處理與支援事項。\n",
      "生成答案：各級學校資安通報應變小組的職掌範圍為負責各級學校資安通報平台之營運,審核所有資安事件,協調資安事件通報、處理與支援事項。\n",
      "ROUGE-L：0.9666666666666667\n"
     ]
    },
    {
     "name": "stderr",
     "output_type": "stream",
     "text": [
      "Featurizing p: 100%|██████████| 64/64 [00:00<00:00, 65.09it/s]\n",
      "Featurizing q: 100%|██████████| 20/20 [00:00<00:00, 63.78it/s]\n"
     ]
    },
    {
     "name": "stdout",
     "output_type": "stream",
     "text": [
      "問題：如果國家機密遭洩漏，這屬於哪一級的資通安全事件？\n",
      "參考答案：符合下列任一情形者，屬4 級事件：1. 一般公務機密、敏感資訊或涉及關鍵基礎設施維運之核心業務資訊遭嚴重洩漏，或國家機密遭洩漏。\n",
      "生成答案：國家機密遭洩漏屬於第四級的資通安全事件。\n",
      "ROUGE-L：0.19047619047619047\n"
     ]
    },
    {
     "name": "stderr",
     "output_type": "stream",
     "text": [
      "Featurizing p: 100%|██████████| 58/58 [00:00<00:00, 65.05it/s]\n",
      "Featurizing q: 100%|██████████| 9/9 [00:00<00:00, 63.66it/s]\n"
     ]
    },
    {
     "name": "stdout",
     "output_type": "stream",
     "text": [
      "問題：當核心業務資訊遭輕微洩漏，但不涉及關鍵基礎設施維運時，這屬於哪一級事件？\n",
      "參考答案：符合下列任一情形者，屬2 級事件：1. 非核心業務資訊遭嚴重洩漏，或未涉及關鍵基礎設施維運之核心業務資訊遭輕微洩漏。\n",
      "生成答案：屬於 3 級事件。\n",
      "ROUGE-L：0.17910447761194032\n"
     ]
    },
    {
     "name": "stderr",
     "output_type": "stream",
     "text": [
      "Featurizing p: 100%|██████████| 120/120 [00:01<00:00, 65.73it/s]\n",
      "Featurizing q: 100%|██████████| 54/54 [00:00<00:00, 65.64it/s]\n"
     ]
    },
    {
     "name": "stdout",
     "output_type": "stream",
     "text": [
      "問題：如果核心業務或核心資通系統的運作受影響，但能在可容忍中斷時間內恢復，這屬於哪一級事件？\n",
      "參考答案：符合下列任一情形者，屬3 級事件：3. 未涉及關鍵基礎設施維運之核心業務或核心資通系統之運作受影響或停頓，無法於可容忍中斷時間內回復正常運作，或涉及關鍵基礎設施維運之核心業務或核心資通系統之運作受影響或停頓，於可容忍中斷時間內回復正常運作。\n",
      "生成答案：3級-未涉及關鍵基礎設施維運之核心業務或核心資通系統之運作受影響或停頓,無法於可容忍中斷時間內回復正常運作。\n",
      "ROUGE-L：0.5977011494252873\n"
     ]
    },
    {
     "name": "stderr",
     "output_type": "stream",
     "text": [
      "Featurizing p: 100%|██████████| 28/28 [00:00<00:00, 65.72it/s]\n",
      "Featurizing q: 100%|██████████| 401/401 [00:06<00:00, 65.65it/s]\n"
     ]
    },
    {
     "name": "stdout",
     "output_type": "stream",
     "text": [
      "問題：如果需要通報資安事件，應該在哪個網站進行登錄作業？\n",
      "參考答案：應該至各級學校資安通報平台（通報應變網站）進行登錄作業。\n",
      "生成答案：各級學校通報及應變流程 各單位通報資安事件或進行結案,以及區域網路中心及縣市教育網路中心審 核所屬連線單位資安事件通報或結案時,均須至各級學校資安通報平台(以下簡 稱通報應變網站)登錄作業,該網站營運維護、資安事件通報管理、技術諮詢及支 援等服務,由本部委託臺灣學術網路危機處理中心負責,聯繫資訊如下:  (一) 網址:https://cert.1臺灣學術網路危機處理中心(TACERT) TANet Computer Emergency Response Team 臺灣學術網路各級學校資通安全事件通報單  (人工通報流程) 一. 教育機構資通安全事件單人工通報流程 依臺灣學術網路各級學校資通安全通報應變作業程序,各連線單位發現資安事 件後可先進行事件確認,經確認為資安事件後, 須於1小時內,至教育機構資 安通報應變網站(https://info.cert.tanet.edu.tw)通報登錄資安\n",
      "ROUGE-L：0.10256410256410255\n"
     ]
    },
    {
     "name": "stderr",
     "output_type": "stream",
     "text": [
      "Featurizing p: 100%|██████████| 20/20 [00:00<00:00, 65.56it/s]\n",
      "Featurizing q: 100%|██████████| 42/42 [00:00<00:00, 65.41it/s]\n"
     ]
    },
    {
     "name": "stdout",
     "output_type": "stream",
     "text": [
      "問題：誰負責營運維護資安事件通報管理及技術支援服務？\n",
      "參考答案：由本部委託臺灣學術網路危機處理中心負責。\n",
      "生成答案：臺灣學術網路危機處理中心(TACERT)負責營運維護資安事件通報管理及技術支援服務。\n",
      "ROUGE-L：0.48387096774193544\n"
     ]
    },
    {
     "name": "stderr",
     "output_type": "stream",
     "text": [
      "Featurizing p: 100%|██████████| 37/37 [00:00<00:00, 63.05it/s]\n",
      "Featurizing q: 100%|██████████| 16/16 [00:00<00:00, 62.59it/s]\n"
     ]
    },
    {
     "name": "stdout",
     "output_type": "stream",
     "text": [
      "問題：若需要聯繫技術支援，應該使用哪個電子郵件地址？\n",
      "參考答案：應該使用電子郵件地址 service@cert.tanet.edu.tw。\n",
      "生成答案：mis.nsysu.edu.tw\n",
      "ROUGE-L：0.3773584905660377\n"
     ]
    },
    {
     "name": "stderr",
     "output_type": "stream",
     "text": [
      "Featurizing p: 100%|██████████| 37/37 [00:00<00:00, 64.38it/s]\n",
      "Featurizing q: 100%|██████████| 30/30 [00:00<00:00, 64.49it/s]\n"
     ]
    },
    {
     "name": "stdout",
     "output_type": "stream",
     "text": [
      "問題：通報資安事件時，可以撥打哪個電話號碼進行聯繫？\n",
      "參考答案：可以撥打聯絡電話 (07)525-0211 或網路電話 98400000。\n",
      "生成答案：您可以撥打 (07)525-0211 這個電話號碼進行聯繫。\n",
      "ROUGE-L：0.626865671641791\n"
     ]
    },
    {
     "name": "stderr",
     "output_type": "stream",
     "text": [
      "Featurizing p: 100%|██████████| 40/40 [00:00<00:00, 64.06it/s]\n",
      "Featurizing q: 100%|██████████| 67/67 [00:01<00:00, 64.57it/s]\n"
     ]
    },
    {
     "name": "stdout",
     "output_type": "stream",
     "text": [
      "問題：如果發現資安事件，應在多長時間內通報登錄資安事件細節？\n",
      "參考答案：須於1小時內，至通報應變網站通報登錄資安事件細節、影響等級及是否申請支援等資訊。\n",
      "生成答案：根據提供的文件內容,發現資安事件後,需在確認時間後1小時內完成通報登錄。若為「4」、「3」級資安事件,則須於36小時內完成通報及應變。\n",
      "ROUGE-L：0.2616822429906542\n"
     ]
    },
    {
     "name": "stderr",
     "output_type": "stream",
     "text": [
      "Featurizing p: 100%|██████████| 76/76 [00:01<00:00, 65.08it/s]\n",
      "Featurizing q: 100%|██████████| 101/101 [00:01<00:00, 65.75it/s]\n"
     ]
    },
    {
     "name": "stdout",
     "output_type": "stream",
     "text": [
      "問題：在網路或電力中斷的情況下，如何處理資安事件通報？\n",
      "參考答案：須於確認資安事件條件成立後1小時內，與所屬區、縣（市）網路中心及通報應變小組聯繫，先行提供事件細節，待網路通訊恢復正常後，仍須至通報應變網站補登錄通報。\n",
      "生成答案：在網路或電力中斷的情況下,若無法上網填報資安事件,須於確認資安事件條件成立後1小時內,與所屬區、縣(市)網路中心及通報應變小組聯繫,先行提供事件細節。待網路通訊恢復正常後,仍須至通報應變網站補登錄通報。\n",
      "ROUGE-L：0.7909604519774012\n"
     ]
    },
    {
     "name": "stderr",
     "output_type": "stream",
     "text": [
      "Featurizing p: 100%|██████████| 29/29 [00:00<00:00, 63.74it/s]\n",
      "Featurizing q: 100%|██████████| 37/37 [00:00<00:00, 63.71it/s]\n"
     ]
    },
    {
     "name": "stdout",
     "output_type": "stream",
     "text": [
      "問題：「4」、「3」級資安事件需要在多長時間內完成損害控制或復原？\n",
      "參考答案：「4」、「3」級資安事件須於36小時內完成損害控制或復原。\n",
      "生成答案：「4」、「3」級資安事件須於知悉該事件後36小時內完成損害控制或復原作業。\n",
      "ROUGE-L：0.8787878787878788\n"
     ]
    },
    {
     "name": "stderr",
     "output_type": "stream",
     "text": [
      "Featurizing p: 100%|██████████| 40/40 [00:00<00:00, 64.77it/s]\n",
      "Featurizing q: 100%|██████████| 130/130 [00:02<00:00, 64.31it/s]\n"
     ]
    },
    {
     "name": "stdout",
     "output_type": "stream",
     "text": [
      "問題：完成資安事件處理後，應如何進行結案通報？\n",
      "參考答案：完成資安事件處理後，須至通報應變網站通報結案，並登錄資安事件處理過程及完成時間。\n",
      "生成答案：完成資安事件處理後,應至通報應變網站通報結案。針對「4」、「3」級資安事件,區、縣(市)網路中心於接獲所屬連線單位結案申機構資安通報應變流程」完 成填寫通報應變->二線區縣市網路中心通報審核->TACERT 團隊通報審核, 此DDoS 攻擊事件單才算完整結案。\n",
      "ROUGE-L：0.32941176470588235\n"
     ]
    },
    {
     "name": "stderr",
     "output_type": "stream",
     "text": [
      "Featurizing p: 100%|██████████| 55/55 [00:00<00:00, 65.49it/s]\n",
      "Featurizing q: 100%|██████████| 70/70 [00:01<00:00, 65.53it/s]\n"
     ]
    },
    {
     "name": "stdout",
     "output_type": "stream",
     "text": [
      "問題：如果無法通過網路進行通報，還有哪些方式可以通報資安事件？\n",
      "參考答案：可填寫「臺灣學術網路各級學校資通安全事件通報單」以傳真或電子郵件方式送至「臺灣學術網路危機處理中心」進行通報。\n",
      "生成答案：如果無法通過網路進行通報，可先與所屬區、縣(市)網路中心及通報應變小組聯繫,提供事件細節。待網路通訊恢復正常後，須至通報應變網站補登錄通報。\n",
      "ROUGE-L：0.192\n"
     ]
    },
    {
     "name": "stderr",
     "output_type": "stream",
     "text": [
      "Featurizing p: 100%|██████████| 31/31 [00:00<00:00, 64.26it/s]\n",
      "Featurizing q: 100%|██████████| 36/36 [00:00<00:00, 64.84it/s]\n"
     ]
    },
    {
     "name": "stdout",
     "output_type": "stream",
     "text": [
      "問題：如果發生『4』級資安事件，區、縣（市）網路中心需要在多長時間內完成審核？\n",
      "參考答案：若資安事件屬『4』、『3』級事件，須於通報後2小時內完成審核。\n",
      "生成答案：若發生『4』級資安事件,區、縣(市)網路中心須於通報後2小時內完成審核。\n",
      "ROUGE-L：0.626865671641791\n"
     ]
    },
    {
     "name": "stderr",
     "output_type": "stream",
     "text": [
      "Featurizing p: 100%|██████████| 55/55 [00:00<00:00, 65.14it/s]\n",
      "Featurizing q: 100%|██████████| 74/74 [00:01<00:00, 65.89it/s]\n"
     ]
    },
    {
     "name": "stdout",
     "output_type": "stream",
     "text": [
      "問題：當區、縣（市）網路中心申請技術支援時，通報應變小組需要做什麼？\n",
      "參考答案：通報應變小組須於完成複核後，聯繫區、縣（市）網路中心確認技術支援事項，並通報本部資科司及協調提供技術支援方式。\n",
      "生成答案：當區、縣（市）網路中心申請技術支援時，通報應變小組須於完成複核後，聯繫區、縣(市)網路中心確認技術支援事項，並通報本部資科司及協調提供技術支援方式。\n",
      "ROUGE-L：0.8217054263565892\n"
     ]
    },
    {
     "name": "stderr",
     "output_type": "stream",
     "text": [
      "Featurizing p: 100%|██████████| 36/36 [00:00<00:00, 65.65it/s]\n",
      "Featurizing q: 100%|██████████| 37/37 [00:00<00:00, 64.57it/s]\n"
     ]
    },
    {
     "name": "stdout",
     "output_type": "stream",
     "text": [
      "問題：通報應變小組在接獲『4』級資安事件後，應在多長時間內進行資通安全事件通報？\n",
      "參考答案：經本部確認級別後一小時內，依行政院指定方式及對象，進行資通安全事件通報。\n",
      "生成答案：經本部確認級別後一小時內, 依行政院指定方式及對象,進行資通安全事件通報。\n",
      "ROUGE-L：0.9315068493150684\n"
     ]
    },
    {
     "name": "stderr",
     "output_type": "stream",
     "text": [
      "Featurizing p: 100%|██████████| 42/42 [00:00<00:00, 65.84it/s]\n",
      "Featurizing q: 100%|██████████| 43/43 [00:00<00:00, 65.79it/s]\n"
     ]
    },
    {
     "name": "stdout",
     "output_type": "stream",
     "text": [
      "問題：若區、縣（市）網路中心未能在規定時限內完成通報審核，通報應變小組可以採取什麼措施？\n",
      "參考答案：如區、縣（市）網路中心未能於規定時限內完成通報審核，通報應變小組得逕行通知完成審核。\n",
      "生成答案：若區、縣（市）網路中心未能在規定時限內完成通報審核，通報應變小組可以逕行通知完成審核。\n",
      "ROUGE-L：0.9176470588235294\n"
     ]
    },
    {
     "name": "stderr",
     "output_type": "stream",
     "text": [
      "Featurizing p: 100%|██████████| 56/56 [00:00<00:00, 65.61it/s]\n",
      "Featurizing q: 100%|██████████| 38/38 [00:00<00:00, 49.43it/s]\n"
     ]
    },
    {
     "name": "stdout",
     "output_type": "stream",
     "text": [
      "問題：在事前安全防護中，應如何處理機敏文件和資料？\n",
      "參考答案：應規劃建置資通安全整體防護環境，做好內部資料存取控制，對於機敏文件、資料及檔案等應採取加密或實體隔離等防護措施。\n",
      "生成答案：在事前安全防護中，應對於機敏文件、資料及檔案等採取加密或實體隔離等防護措施。\n",
      "ROUGE-L：0.7021276595744681\n"
     ]
    },
    {
     "name": "stderr",
     "output_type": "stream",
     "text": [
      "Featurizing p: 100%|██████████| 60/60 [00:00<00:00, 65.01it/s]\n",
      "Featurizing q: 100%|██████████| 49/49 [00:00<00:00, 64.49it/s]\n"
     ]
    },
    {
     "name": "stdout",
     "output_type": "stream",
     "text": [
      "問題：各連線單位在事前安全防護中，應如何確保系統安全弱點被及早發現並修復？\n",
      "參考答案：應針對上述建立資通安全防護環境及相關措施，列入年度定期稽核項目，定期實施內部稽核，以儘早發現系統安全弱點並完成修復補強。\n",
      "生成答案：各連線單位在事前安全防護中，應定期更新系統軟體版本與修補漏洞，以確保系統安全弱點被及早發現並修復。\n",
      "ROUGE-L：0.34862385321100914\n"
     ]
    },
    {
     "name": "stderr",
     "output_type": "stream",
     "text": [
      "Featurizing p: 100%|██████████| 59/59 [00:01<00:00, 56.50it/s]\n",
      "Featurizing q: 100%|██████████| 66/66 [00:01<00:00, 59.81it/s]\n"
     ]
    },
    {
     "name": "stdout",
     "output_type": "stream",
     "text": [
      "問題：在事中緊急應變中，應如何處理資安事件的相關證據？\n",
      "參考答案：應就資安事件發生原因、影響等級、可能影響範圍、可能損失及是否需要支援等項目逐一檢討與處置，並保留被入侵或破壞相關證據。\n",
      "生成答案：在事中緊急應變中，相關證據的處理包括記錄事件過程、保全相關系統和資料，並且聯絡臺灣學術網路危機處理中心(TACERT)進行後續調查。\n",
      "ROUGE-L：0.12800000000000003\n"
     ]
    },
    {
     "name": "stderr",
     "output_type": "stream",
     "text": [
      "Featurizing p: 100%|██████████| 51/51 [00:00<00:00, 55.55it/s]\n",
      "Featurizing q: 100%|██████████| 40/40 [00:00<00:00, 59.83it/s]\n"
     ]
    },
    {
     "name": "stdout",
     "output_type": "stream",
     "text": [
      "問題：為了強化資通安全整體防護能力，應實施哪些機制？\n",
      "參考答案：應實施資通安全稽核、網路監控及人員安全管理等機制，以強化資通安全整體防護能力，降低安全威脅及災害損失。\n",
      "生成答案：為了強化資通安全整體防護能力，應實施資通安全稽核、網路監控及人員安全管理等機制。\n",
      "ROUGE-L：0.5494505494505494\n"
     ]
    },
    {
     "name": "stderr",
     "output_type": "stream",
     "text": [
      "Featurizing p: 100%|██████████| 43/43 [00:00<00:00, 54.85it/s]\n",
      "Featurizing q: 100%|██████████| 73/73 [00:01<00:00, 59.59it/s]\n"
     ]
    },
    {
     "name": "stdout",
     "output_type": "stream",
     "text": [
      "問題：在事前安全防護中，應如何處理資訊系統的資安紀錄？\n",
      "參考答案：應保留資安紀錄與備份，如資訊系統屬委外建置管理者，應於合約內要求承商保留相關資安紀錄。\n",
      "生成答案：在事前安全防護中，應依「資通安全責任等級分級辦法」第11條或本部訂定之相關資安規定進行盤點作業,判定資訊系統安全防護等級,並據以落實資安防護基準。\n",
      "ROUGE-L：0.17241379310344826\n"
     ]
    },
    {
     "name": "stderr",
     "output_type": "stream",
     "text": [
      "Featurizing p: 100%|██████████| 43/43 [00:00<00:00, 53.42it/s]\n",
      "Featurizing q: 100%|██████████| 65/65 [00:01<00:00, 58.82it/s]\n"
     ]
    },
    {
     "name": "stdout",
     "output_type": "stream",
     "text": [
      "問題：如果無法自行解決系統弱點問題，應該怎麼辦？\n",
      "參考答案：如無法解決，應儘速向所屬區、縣（市）網路中心及通報應變小組反應，請求提供相關技術支援。\n",
      "生成答案：如果無法自行解決系統弱點問題,建議受害者將受害主機的資料備份後,重新安裝系統,這樣才能完全將該惡意程式所安裝或更動的軟體完全移除。\n",
      "ROUGE-L：0.12962962962962965\n"
     ]
    },
    {
     "name": "stderr",
     "output_type": "stream",
     "text": [
      "Featurizing p: 100%|██████████| 105/105 [00:01<00:00, 57.78it/s]\n",
      "Featurizing q: 100%|██████████| 93/93 [00:01<00:00, 59.83it/s]\n"
     ]
    },
    {
     "name": "stdout",
     "output_type": "stream",
     "text": [
      "問題：在資安事件中，如何防止損害擴大影響其他使用者？\n",
      "參考答案：若未納入各單位防護範圍之資訊系統發生資安事件，為防止損害擴大影響他人或正常使用者之權益，依據「臺灣學術網路管理規範」，各單位得先行中斷發生資安事件之系統網路連線，待該系統完成通報應變改善作為後，始得恢復其連線。\n",
      "生成答案：在資安事件中,要防止損害擴大影響其他使用者,應遵循各單位內部備份管理辦法,啟動備援計畫、異地備援或備援中心等應變措施。若涉及刑責,應保全相關資料(含稽核紀錄)以便聯繫檢警調單位協助偵查。\n",
      "ROUGE-L：0.23232323232323232\n"
     ]
    },
    {
     "name": "stderr",
     "output_type": "stream",
     "text": [
      "Featurizing p: 100%|██████████| 54/54 [00:00<00:00, 55.40it/s]\n",
      "Featurizing q: 100%|██████████| 238/238 [00:03<00:00, 60.25it/s]\n"
     ]
    },
    {
     "name": "stdout",
     "output_type": "stream",
     "text": [
      "問題：資安事件損壞程度較大時，應該採取哪些措施？\n",
      "參考答案：資安事件損壞程度，請遵循各單位內部備份管理辦法，啟動備援計畫、異地備援或備援中心等應變措施，以防止事件擴大。\n",
      "生成答案：資安事件損壞程度較大時,應採取以下措施:\n",
      "\n",
      "1. 主動提供相關設備系統日誌予所屬區、縣(市)網路中心及通報應變小組。\n",
      "2. 執行環境重建、系統復原及掃描作業,俟系統正常運作後進行安全備份及資料復原等相關事宜。\n",
      "3. 完成復原重建工作後,將復原過程之完整紀錄(如資安事件原因分析與檢討改善方案)。\n",
      "4. 遵循各單位內部備份管理辦法,啟動備援計畫、異地備援或備援中心等應變措施,以防止事件擴大。\n",
      "5. 如涉及刑責,應做好相關資料(含稽核紀錄)保全工作,以便聯繫檢警調單位協助偵查。\n",
      "ROUGE-L：0.34246575342465757\n"
     ]
    },
    {
     "name": "stderr",
     "output_type": "stream",
     "text": [
      "Featurizing p: 100%|██████████| 43/43 [00:00<00:00, 52.32it/s]\n",
      "Featurizing q: 100%|██████████| 43/43 [00:00<00:00, 59.70it/s]\n"
     ]
    },
    {
     "name": "stdout",
     "output_type": "stream",
     "text": [
      "問題：資安事件涉及刑責時，應如何處理相關資料？\n",
      "參考答案：資安事件如涉及刑責，應做好相關資料(含稽核紀錄)保全工作，以便聯繫檢警調單位協助偵查。\n",
      "生成答案：若資安事件涉及刑責,應做好相關資料(含稽核紀錄)保全工作,以便聯繫檢警調單位協助偵查。\n",
      "ROUGE-L：0.9302325581395349\n"
     ]
    },
    {
     "name": "stderr",
     "output_type": "stream",
     "text": [
      "Featurizing p: 100%|██████████| 67/67 [00:01<00:00, 55.11it/s]\n",
      "Featurizing q: 100%|██████████| 56/56 [00:00<00:00, 59.94it/s]\n"
     ]
    },
    {
     "name": "stdout",
     "output_type": "stream",
     "text": [
      "問題：重大資安事件發生後，應提供哪些資料給網路中心？\n",
      "參考答案：各連線單位如發生重大(「4」、「3」級)資安事件，應主動提供相關設備系統日誌予所屬區、縣（市）網路中心及通報應變小組，俾提供相關協助。\n",
      "生成答案：在重大資安事件發生後，所屬連線單位應提供相關設備系統日誌予所屬區、縣(市)網路中心及通報應變小組，以供相關協助。\n",
      "ROUGE-L：0.6991869918699187\n"
     ]
    },
    {
     "name": "stderr",
     "output_type": "stream",
     "text": [
      "Featurizing p: 100%|██████████| 90/90 [00:01<00:00, 55.93it/s]\n",
      "Featurizing q: 100%|██████████| 34/34 [00:00<00:00, 59.79it/s]\n"
     ]
    },
    {
     "name": "stdout",
     "output_type": "stream",
     "text": [
      "問題：在完成資安事件的復原重建工作後，應該怎麼做？\n",
      "參考答案：在完成復原重建工作後，應將復原過程之完整紀錄(如資安事件原因分析與檢討改善方案、防止同類事件再次發生之具體方案、稽核軌跡及蒐集分析相關證據等資料)，予以建檔管制，以利爾後查考使用。\n",
      "生成答案：在完成資安事件的復原重建工作後,應將復原過程之完整紀錄送交主管機關。\n",
      "ROUGE-L：0.3709677419354839\n"
     ]
    },
    {
     "name": "stderr",
     "output_type": "stream",
     "text": [
      "Featurizing p: 100%|██████████| 43/43 [00:00<00:00, 53.60it/s]\n",
      "Featurizing q: 100%|██████████| 86/86 [00:01<00:00, 59.82it/s]\n"
     ]
    },
    {
     "name": "stdout",
     "output_type": "stream",
     "text": [
      "問題：在資安事件處理完成後，區縣（市）教育網路中心應檢視哪些項目？\n",
      "參考答案：區縣（市）教育網路中心應於資安事件處理完成後，針對作業程序和事件處理進行應變作業檢視。\n",
      "生成答案：在資安事件處理完成後，區縣（市）教育網路中心應檢視全面檢討網路安全措施、修補安全弱點、修正防火牆設定等具體改善措施，以防止類似入侵或攻擊情事再度發生，並視需要修訂應變計畫。\n",
      "ROUGE-L：0.27906976744186046\n"
     ]
    },
    {
     "name": "stderr",
     "output_type": "stream",
     "text": [
      "Featurizing p: 100%|██████████| 74/74 [00:01<00:00, 56.56it/s]\n",
      "Featurizing q: 100%|██████████| 75/75 [00:01<00:00, 59.94it/s]\n"
     ]
    },
    {
     "name": "stdout",
     "output_type": "stream",
     "text": [
      "問題：當重大資安事件涉及哪些事項時，會由本部資科司提報行政院國家資通安全會報？\n",
      "參考答案：如重大(「4」、「3」級)資安事件涉及網路犯罪相關議題、對關鍵基礎設施造成威脅時、或對國家安全造成威脅時，會由本部資科司提報行政院國家資通安全會報。\n",
      "生成答案：重大(「4」、「3」級)資安事件經資安防護會議評估資安事件涉及下列事項 時,經由本部資科司提報行政院國家資通安全會報,啟動相關應變機制,以控管 損害。\n",
      "ROUGE-L：0.5234899328859061\n"
     ]
    },
    {
     "name": "stderr",
     "output_type": "stream",
     "text": [
      "Featurizing p: 100%|██████████| 34/34 [00:00<00:00, 52.93it/s]\n",
      "Featurizing q: 100%|██████████| 46/46 [00:00<00:00, 58.11it/s]\n"
     ]
    },
    {
     "name": "stdout",
     "output_type": "stream",
     "text": [
      "問題：資通安全通報演練的目的為何？\n",
      "參考答案：檢驗「區、縣（市）網路中心」及所屬連線單位之資安通報機制及應變能力。\n",
      "生成答案：資通安全通報演練的目的為檢驗「區、縣(市)網路中心」及所屬連線單位之資安通報機制及應變能力。\n",
      "ROUGE-L：0.7999999999999999\n"
     ]
    },
    {
     "name": "stderr",
     "output_type": "stream",
     "text": [
      "Featurizing p: 100%|██████████| 9/9 [00:00<00:00, 50.34it/s]\n",
      "Featurizing q: 100%|██████████| 10/10 [00:00<00:00, 55.55it/s]\n"
     ]
    },
    {
     "name": "stdout",
     "output_type": "stream",
     "text": [
      "問題：資通安全通報演練應於何時完成？\n",
      "參考答案：每年9月底前完成。\n",
      "生成答案：每年9 月底前完成。\n",
      "ROUGE-L：0.9473684210526316\n"
     ]
    },
    {
     "name": "stderr",
     "output_type": "stream",
     "text": [
      "Featurizing p: 100%|██████████| 26/26 [00:00<00:00, 50.86it/s]\n",
      "Featurizing q: 100%|██████████| 26/26 [00:00<00:00, 57.98it/s]\n"
     ]
    },
    {
     "name": "stdout",
     "output_type": "stream",
     "text": [
      "問題：誰負責規劃演練各種模擬狀況及處理突發狀況？\n",
      "參考答案：危機處理小組負責規劃演練各種模擬狀況及處理突發狀況。\n",
      "生成答案：危機處理小組負責規劃演練各種模擬狀況及處理突發狀況。\n",
      "ROUGE-L：1.0\n"
     ]
    },
    {
     "name": "stderr",
     "output_type": "stream",
     "text": [
      "Featurizing p: 100%|██████████| 18/18 [00:00<00:00, 51.75it/s]\n",
      "Featurizing q: 100%|██████████| 18/18 [00:00<00:00, 54.48it/s]\n"
     ]
    },
    {
     "name": "stdout",
     "output_type": "stream",
     "text": [
      "問題：演練計畫在實施前需要經過哪個部門的核定？\n",
      "參考答案：演練計畫應簽奉本部資科司核定後實施。\n",
      "生成答案：演練計畫應簽奉本部資科司核定後實施。\n",
      "ROUGE-L：1.0\n"
     ]
    },
    {
     "name": "stderr",
     "output_type": "stream",
     "text": [
      "Featurizing p: 100%|██████████| 43/43 [00:00<00:00, 52.88it/s]\n",
      "Featurizing q: 100%|██████████| 44/44 [00:00<00:00, 58.45it/s]\n"
     ]
    },
    {
     "name": "stdout",
     "output_type": "stream",
     "text": [
      "問題：演練對象的遴選方式是如何進行的？\n",
      "參考答案：遴選演練對象方式，由平台準備及問題處理小組提交單位清單供安全預防小組選取參與演練單位。\n",
      "生成答案：演練對象的遴選方式是由平台準備及問題處理小組提交單位清單供安全預防小組選取參與演練單位。\n",
      "ROUGE-L：0.9195402298850575\n"
     ]
    },
    {
     "name": "stderr",
     "output_type": "stream",
     "text": [
      "Featurizing p: 100%|██████████| 25/25 [00:00<00:00, 52.93it/s]\n",
      "Featurizing q: 100%|██████████| 26/26 [00:00<00:00, 59.38it/s]\n"
     ]
    },
    {
     "name": "stdout",
     "output_type": "stream",
     "text": [
      "問題：演練完成後，應將哪些文件提交至本部資科司備查？\n",
      "參考答案：演練完成後將「演練事件紀錄」提交至本部資科司備查。\n",
      "生成答案：演練完成後應將「演練事件紀錄」提交至本部資科司備查。\n",
      "ROUGE-L：0.9803921568627451\n"
     ]
    },
    {
     "name": "stderr",
     "output_type": "stream",
     "text": [
      "Featurizing p: 100%|██████████| 39/39 [00:00<00:00, 54.36it/s]\n",
      "Featurizing q: 100%|██████████| 52/52 [00:00<00:00, 60.09it/s]\n"
     ]
    },
    {
     "name": "stdout",
     "output_type": "stream",
     "text": [
      "問題：防範惡意電子郵件社交工程演練的目的為何？\n",
      "參考答案：演練目的：提高「區、縣（市）網路中心」及其所屬連線單位對社交工程攻擊防制認知。\n",
      "生成答案：防範惡意電子郵件社交工程演練的目的為提高「區、縣(市)網路中心」及其所屬連線單位對社交工程攻擊防制認知。\n",
      "ROUGE-L：0.7912087912087913\n"
     ]
    },
    {
     "name": "stderr",
     "output_type": "stream",
     "text": [
      "Featurizing p: 100%|██████████| 16/16 [00:00<00:00, 51.37it/s]\n",
      "Featurizing q: 100%|██████████| 29/29 [00:00<00:00, 54.59it/s]\n"
     ]
    },
    {
     "name": "stdout",
     "output_type": "stream",
     "text": [
      "問題：每年必須在什麼時候完成第一次防範惡意電子郵件社交工程演練？\n",
      "參考答案：須於每年4月底前辦理第1次演練。\n",
      "生成答案：每年必須在4月底前完成第一次防範惡意電子郵件社交工程演練。\n",
      "ROUGE-L：0.4888888888888889\n"
     ]
    },
    {
     "name": "stderr",
     "output_type": "stream",
     "text": [
      "Featurizing p: 100%|██████████| 45/45 [00:00<00:00, 53.85it/s]\n",
      "Featurizing q: 100%|██████████| 9/9 [00:00<00:00, 60.55it/s]\n"
     ]
    },
    {
     "name": "stdout",
     "output_type": "stream",
     "text": [
      "問題：防範惡意電子郵件社交工程演練的報告需要在什麼時間內送交備查？\n",
      "參考答案：演練報告經本部資通安全長核定，並於每次演練完成後1個月內主動送行政院國家資通安全會報備查。\n",
      "生成答案：每年9月底前完成。\n",
      "ROUGE-L：0.14814814814814814\n"
     ]
    },
    {
     "name": "stderr",
     "output_type": "stream",
     "text": [
      "Featurizing p: 100%|██████████| 62/62 [00:01<00:00, 54.61it/s]\n",
      "Featurizing q: 100%|██████████| 62/62 [00:01<00:00, 59.71it/s]\n"
     ]
    },
    {
     "name": "stdout",
     "output_type": "stream",
     "text": [
      "問題：非公務機關如何制定資通安全事項的獎勵基準？\n",
      "參考答案：非公務機關就其所屬人員辦理業務涉及資通安全事項之獎勵，得依「公務機關所屬人員資通安全事項獎懲辦法」之規定，自行訂定相關基準。\n",
      "生成答案：非公務機關就其所屬人員辦理業務涉及資通安全事項之獎勵,得依「公務機關所屬人員資通安全事項獎懲辦法」之規定,自行訂定相關基準。\n",
      "ROUGE-L：0.967741935483871\n"
     ]
    },
    {
     "name": "stderr",
     "output_type": "stream",
     "text": [
      "Featurizing p: 100%|██████████| 56/56 [00:01<00:00, 54.47it/s]\n",
      "Featurizing q: 100%|██████████| 41/41 [00:00<00:00, 60.32it/s]\n"
     ]
    },
    {
     "name": "stdout",
     "output_type": "stream",
     "text": [
      "問題：如果校內發生資安事件但未通報，會有什麼後果？\n",
      "參考答案：校內發生資安事件，隱匿未向上級機關進行通報者，由本部資科司建議相關單位視情節輕重對所屬人員予以適度追究相關責任。\n",
      "生成答案：若因未適當防護,致使該資通系統發生資安事件影響他人權益,資料持有單位應負相關責任。\n",
      "ROUGE-L：0.28865979381443296\n"
     ]
    },
    {
     "name": "stderr",
     "output_type": "stream",
     "text": [
      "Featurizing p: 100%|██████████| 74/74 [00:01<00:00, 56.51it/s]\n",
      "Featurizing q: 100%|██████████| 93/93 [00:01<00:00, 60.17it/s]\n"
     ]
    },
    {
     "name": "stdout",
     "output_type": "stream",
     "text": [
      "問題：當資通系統包含個人資料時，資料持有單位應如何處理？\n",
      "參考答案：各校轄下單位之資通系統，若包含教、職、員、生可識別之個人資料，則該系統資料持有單位應確實評估風險，主動加以防護或納入校內核心系統給予應有之級別防護。\n",
      "生成答案：當資通系統包含個人資料時，資料持有單位應確實評估風險，主動加以防護或納入校內核心系統給予應有之級別防護。若因未適當防護,致使該資通系統發生資安事件影響他人權益,資料持有單位應負相關責任。\n",
      "ROUGE-L：0.5988023952095809\n"
     ]
    },
    {
     "name": "stderr",
     "output_type": "stream",
     "text": [
      "Featurizing p: 100%|██████████| 85/85 [00:01<00:00, 56.22it/s]\n",
      "Featurizing q: 100%|██████████| 74/74 [00:01<00:00, 59.94it/s]\n"
     ]
    },
    {
     "name": "stdout",
     "output_type": "stream",
     "text": [
      "問題：在什麼情況下可以建議減輕責任？\n",
      "參考答案：遵循本作業程序規定確實辦理資安事件通報及應變作業並提供資安紀錄，仍致政府或民眾權益受損時，區（縣）市教育網路中心及通報應變小組應協助提供資料予本部資科司，並建議減輕其責。\n",
      "生成答案：建議減輕責任的情況為：區(縣)市教育網路中心及通報應變小組遵循本作業程序規定確實辦理資安事件通報及應變作業並提供資安紀錄,仍致政府或民眾權益受損時。\n",
      "ROUGE-L：0.5534591194968554\n"
     ]
    },
    {
     "name": "stderr",
     "output_type": "stream",
     "text": [
      "Featurizing p: 100%|██████████| 66/66 [00:01<00:00, 55.99it/s]\n",
      "Featurizing q: 100%|██████████| 103/103 [00:01<00:00, 60.55it/s]\n"
     ]
    },
    {
     "name": "stdout",
     "output_type": "stream",
     "text": [
      "問題：如果發現Google搜尋結果中出現不當資訊，應該如何確認網站是否遭到入侵？\n",
      "參考答案：確認該網站是否遭到入侵或被置入惡意程式，特別確認該網站網頁內容是否有類似不當連結或有相關轉址的指令，以避免被不當轉址至其它惡意網頁。\n",
      "生成答案：管理者可使用Google Search語法「Site:網站網址」查詢所管理的網站是否存在搜尋結果異常。若發現不當資訊，可確認該網站是否遭到入侵或被置入惡意程式，特別注意網頁內容是否有類似不當連結或轉址指令。\n",
      "ROUGE-L：0.485207100591716\n"
     ]
    },
    {
     "name": "stderr",
     "output_type": "stream",
     "text": [
      "Featurizing p: 100%|██████████| 54/54 [00:00<00:00, 56.24it/s]\n",
      "Featurizing q: 100%|██████████| 54/54 [00:00<00:00, 60.40it/s]\n"
     ]
    },
    {
     "name": "stdout",
     "output_type": "stream",
     "text": [
      "問題：網站管理者應該如何檢查網站是否存在搜尋結果異常？\n",
      "參考答案：網站管理者可使用Google Search 語法「Site:網站網址」查詢所管理的網站是否存在搜尋結果異常。\n",
      "生成答案：網站管理者應該使用Google Search語法「Site:網站網址」查詢所管理的網站是否存在搜尋結果異常。\n",
      "ROUGE-L：0.9629629629629629\n"
     ]
    },
    {
     "name": "stderr",
     "output_type": "stream",
     "text": [
      "Featurizing p: 100%|██████████| 95/95 [00:01<00:00, 56.66it/s]\n",
      "Featurizing q: 100%|██████████| 214/214 [00:03<00:00, 60.84it/s]\n"
     ]
    },
    {
     "name": "stdout",
     "output_type": "stream",
     "text": [
      "問題：如何利用Google的服務來監控網站在搜尋結果中的表現？\n",
      "參考答案：建議網站管理者至Google Search Console 服務申請管理帳號，這是Google 提供的一項免費服務，能夠協助您監控及維持網站在Google 搜尋結果中的排名，並排解相關問題。\n",
      "生成答案：管理者可使用Google Search語法「Site:網站網址」查詢所管理的網站是否存在搜尋結果異常。若確認已遭到SEO中毒攻擊(SEO Poisoning),即可至Google Search Console服務申請「移除網址」以避免被他人查詢到錯誤的資訊。在符合單位政策的情況下,可在robots.txt加上不允許搜尋引擎檢索站內搜尋結果之指令,也可在站內每個搜尋結果加上<meta noindex>,來避免被搜尋引擎所檢索。\n",
      "ROUGE-L：0.2524271844660194\n"
     ]
    },
    {
     "name": "stderr",
     "output_type": "stream",
     "text": [
      "Featurizing p: 100%|██████████| 78/78 [00:01<00:00, 57.86it/s]\n",
      "Featurizing q: 100%|██████████| 81/81 [00:01<00:00, 60.89it/s]\n"
     ]
    },
    {
     "name": "stdout",
     "output_type": "stream",
     "text": [
      "問題：如果確認網站遭到SEO中毒攻擊，應該如何避免被查詢到錯誤資訊？\n",
      "參考答案：如確認已遭到SEO中毒攻擊（SEO Poisoning），即可至Google Search Console服務申請「移除網址」以避免被他人查詢到錯誤的資訊。\n",
      "生成答案：如果確認網站遭到SEO中毒攻擊，可以至Google Search Console服務申請「管理帳號」與申請「移除網址」，來清除Google搜尋結果產生的錯誤資訊。\n",
      "ROUGE-L：0.6415094339622641\n"
     ]
    },
    {
     "name": "stderr",
     "output_type": "stream",
     "text": [
      "Featurizing p: 100%|██████████| 85/85 [00:01<00:00, 57.83it/s]\n",
      "Featurizing q: 100%|██████████| 181/181 [00:02<00:00, 60.64it/s]\n"
     ]
    },
    {
     "name": "stdout",
     "output_type": "stream",
     "text": [
      "問題：在符合單位政策的情況下，如何避免搜尋引擎檢索站內搜尋結果？\n",
      "參考答案：在符合單位政策的情況下，可在robots.txt加上不允許搜尋引擎檢索站內搜尋結果之指令，也可在站內每個搜尋結果加上<meta noindex>，來避免被搜尋引擎所檢索。\n",
      "生成答案：在符合單位政策的情況下，可以透過在每個搜尋結果加上 `<meta noindex>` 來避免被搜尋引擎檢索。另外，也可以在 `robots.txt` 加上不允許搜尋引擎檢索站內搜尋結果之指令，或者使用 Adblock Plus 的阻擋廣告軟體，加入過濾條件來過濾掉挖礦程式，或是在瀏覽器中加入阻擋挖礦程式外掛，如採用 No Coin 這款套件，避免電腦受到影響。\n",
      "ROUGE-L：0.4135338345864662\n"
     ]
    },
    {
     "name": "stderr",
     "output_type": "stream",
     "text": [
      "Featurizing p: 100%|██████████| 86/86 [00:01<00:00, 57.87it/s]\n",
      "Featurizing q: 100%|██████████| 125/125 [00:02<00:00, 60.37it/s]\n"
     ]
    },
    {
     "name": "stdout",
     "output_type": "stream",
     "text": [
      "問題：如何申請Google Search Console管理帳號？\n",
      "參考答案：網站管理者至Google Search Console服務(網址：https://search.google.com/u/1/search-console/)申請管理帳號。\n",
      "生成答案：要申請 Google Search Console 管理帳號，請至 https://search.google.com/u/1/search-console/ 並輸入網域資訊。接著會進行驗證程序，如下載認證檔並上傳至網站根目錄。完成後即可驗證所有權。\n",
      "ROUGE-L：0.6350710900473934\n"
     ]
    },
    {
     "name": "stderr",
     "output_type": "stream",
     "text": [
      "Featurizing p: 100%|██████████| 62/62 [00:01<00:00, 54.36it/s]\n",
      "Featurizing q: 100%|██████████| 185/185 [00:03<00:00, 61.25it/s]\n"
     ]
    },
    {
     "name": "stdout",
     "output_type": "stream",
     "text": [
      "問題：申請Google Search Console管理帳號後，如何進行驗證程序？\n",
      "參考答案：請輸入網域資訊，接著即會繼續如圖2的驗證程序，請下載該認證檔，並上傳至網站(通常為網站根目錄(Documentroot))。\n",
      "生成答案：1. 網站管理者至 Google Search Console 服務(網址: https://search.google.com/u/1/search-console/)申請管理帳號。\n",
      "2. 請輸入網域資訊,接著即會繼續如圖2的驗證程序,請下載該認證檔,並上傳至網站(通常為網站根目錄(Documentroot))。\n",
      "3. 在上傳完成後,即可完成驗證所有權,如圖3所示。\n",
      "ROUGE-L：0.4777327935222672\n"
     ]
    },
    {
     "name": "stderr",
     "output_type": "stream",
     "text": [
      "Featurizing p: 100%|██████████| 17/17 [00:00<00:00, 49.96it/s]\n",
      "Featurizing q: 100%|██████████| 232/232 [00:03<00:00, 60.63it/s]\n"
     ]
    },
    {
     "name": "stdout",
     "output_type": "stream",
     "text": [
      "問題：如何在 Google Search Console 中完成網站所有權的驗證？\n",
      "參考答案：在上傳完成後，即可完成驗證所有權。\n",
      "生成答案：要在 Google Search Console 中完成網站所有權的驗證，請按照以下步驟進行：\n",
      "\n",
      "1. 網站管理者至 Google Search Console 服務(網址: https://search.google.com/u/1/search-console/)申請管理帳號。\n",
      "2. 輸入網域資訊後，即會繼續如圖2的驗證程序，請下載該認證檔，並上傳至網站（通常為網站根目錄(Documentroot)）。\n",
      "3. 在上傳完成後，即可完成驗證所有權，如圖3所示。\n",
      "ROUGE-L：0.1365461847389558\n"
     ]
    },
    {
     "name": "stderr",
     "output_type": "stream",
     "text": [
      "Featurizing p: 100%|██████████| 90/90 [00:01<00:00, 57.19it/s]\n",
      "Featurizing q: 100%|██████████| 117/117 [00:01<00:00, 60.57it/s]\n"
     ]
    },
    {
     "name": "stdout",
     "output_type": "stream",
     "text": [
      "問題：網站管理者如何申請移除網址？\n",
      "參考答案：網站管理者登入Google Search Console 服務後，先點選「移除網址」，再點選「新要求」後，即可輸入要清除的網址等資訊，待Google 作業完成後，即可清除相關資訊。\n",
      "生成答案：網站管理者可以透過以下步驟申請移除網址：\n",
      "1. 登入Google Search Console服務。\n",
      "2. 點選「(A)移除網址」,再點選「(B)新要求」後,輸入要清除的網址等資訊。\n",
      "3. 等待Google作業完成後即可清除相關資訊。\n",
      "ROUGE-L：0.7632850241545893\n"
     ]
    },
    {
     "name": "stderr",
     "output_type": "stream",
     "text": [
      "Featurizing p: 100%|██████████| 28/28 [00:00<00:00, 51.15it/s]\n",
      "Featurizing q: 100%|██████████| 32/32 [00:00<00:00, 56.90it/s]\n"
     ]
    },
    {
     "name": "stdout",
     "output_type": "stream",
     "text": [
      "問題：在資安事件通報流程中，新增了哪個欄位以記錄事件確認時間？\n",
      "參考答案：於通報流程中新增「確認時間」欄位，以利記錄事件確認時間。\n",
      "生成答案：在資安事件通報流程中，新增了「確認時間」欄位以記錄事件確認時間。\n",
      "ROUGE-L：0.8333333333333334\n"
     ]
    },
    {
     "name": "stderr",
     "output_type": "stream",
     "text": [
      "Featurizing p: 100%|██████████| 32/32 [00:00<00:00, 51.78it/s]\n",
      "Featurizing q: 100%|██████████| 32/32 [00:00<00:00, 59.47it/s]\n"
     ]
    },
    {
     "name": "stdout",
     "output_type": "stream",
     "text": [
      "問題：應變流程中新增了什麼欄位以便處理人員填寫事件改善措施？\n",
      "參考答案：於應變流程中新增「改善措施」欄位，以利處理人員填寫事件改善措施。\n",
      "生成答案：應變流程中新增了「改善措施」欄位,以便處理人員填寫事件改善措施。\n",
      "ROUGE-L：0.90625\n"
     ]
    },
    {
     "name": "stderr",
     "output_type": "stream",
     "text": [
      "Featurizing p: 100%|██████████| 49/49 [00:00<00:00, 55.90it/s]\n",
      "Featurizing q: 100%|██████████| 30/30 [00:00<00:00, 59.78it/s]\n"
     ]
    },
    {
     "name": "stdout",
     "output_type": "stream",
     "text": [
      "問題：事件通報應變完成後，新增了什麼功能以便處理人員列印事件內容？\n",
      "參考答案：於事件通報應變完成後，於「歷史通報」中新增「事件列印」功能，以利處理人員列印事件內容送呈單位主管。\n",
      "生成答案：新增「事件列印」功能,以利處理人員列印事件內容送呈單位主管。\n",
      "ROUGE-L：0.7341772151898733\n"
     ]
    },
    {
     "name": "stderr",
     "output_type": "stream",
     "text": [
      "Featurizing p: 100%|██████████| 46/46 [00:00<00:00, 54.45it/s]\n",
      "Featurizing q: 100%|██████████| 68/68 [00:01<00:00, 59.88it/s]\n"
     ]
    },
    {
     "name": "stdout",
     "output_type": "stream",
     "text": [
      "問題：公務機關知悉資通安全事件後，應在多長時間內進行通報？\n",
      "參考答案：公務機關知悉資通安全事件後，應於一小時內依主管機關指定之方式及對象，進行資通安全事件之通報。\n",
      "生成答案：公務機關知悉第一級或第二級資通安全事件後，應於知悉該事件後七十二小時內完成損害控制或復原作業，並依主管機關指定之方式及對象辦理通知事宜。\n",
      "ROUGE-L：0.6140350877192983\n"
     ]
    },
    {
     "name": "stderr",
     "output_type": "stream",
     "text": [
      "Featurizing p: 100%|██████████| 52/52 [00:00<00:00, 53.45it/s]\n",
      "Featurizing q: 100%|██████████| 51/51 [00:00<00:00, 59.83it/s]\n"
     ]
    },
    {
     "name": "stdout",
     "output_type": "stream",
     "text": [
      "問題：特定非公務機關知悉資通安全事件後，應如何進行通報？\n",
      "參考答案：特定非公務機關知悉資通安全事件後，應於一小時內依中央目的事業主管機關指定之方式，進行資通安全事件之通報。\n",
      "生成答案：特定非公務機關知悉資通安全事件後，應於一小時內依中央目的事業主管機關指定之方式進行資通安全事件之通報。\n",
      "ROUGE-L：0.9902912621359222\n"
     ]
    },
    {
     "name": "stderr",
     "output_type": "stream",
     "text": [
      "Featurizing p: 100%|██████████| 71/71 [00:01<00:00, 55.86it/s]\n",
      "Featurizing q: 100%|██████████| 52/52 [00:00<00:00, 59.51it/s]\n"
     ]
    },
    {
     "name": "stdout",
     "output_type": "stream",
     "text": [
      "問題：各連線單位發現資安事件後，應在確認後多長時間內通報？\n",
      "參考答案：各連線單位發現資安事件後可先進行事件確認，經確認為資安事件後，須於一小時內，至通報應變網站通報登錄資安事件細節、影響等級及是否申請支援等資訊。\n",
      "生成答案：各連線單位發現資安事件後,須於一小時內至通報應變網站通報登錄資安事件細節、影響等級及是否申請支援等資訊。\n",
      "ROUGE-L：0.8292682926829269\n"
     ]
    },
    {
     "name": "stderr",
     "output_type": "stream",
     "text": [
      "Featurizing p: 100%|██████████| 22/22 [00:00<00:00, 51.74it/s]\n",
      "Featurizing q: 100%|██████████| 90/90 [00:01<00:00, 58.69it/s]\n"
     ]
    },
    {
     "name": "stdout",
     "output_type": "stream",
     "text": [
      "問題：在資安事件通報流程中，新增的『確認時間』欄位是什麼時候需要填寫的？\n",
      "參考答案：於現行通報流程填寫欄位新增『確認時間』欄位。\n",
      "生成答案：各連線單位發現資安事件後可先進行事件確認,經確認為資安事件後,須於一小時內,至通報應變網站通報登錄資安事件細節、影響等級及是否申請支援等資訊,並評估該事件是否影響其他連線單位運作。\n",
      "ROUGE-L：0.125\n"
     ]
    },
    {
     "name": "stderr",
     "output_type": "stream",
     "text": [
      "Featurizing p: 100%|██████████| 41/41 [00:00<00:00, 52.67it/s]\n",
      "Featurizing q: 100%|██████████| 61/61 [00:01<00:00, 58.70it/s]\n"
     ]
    },
    {
     "name": "stdout",
     "output_type": "stream",
     "text": [
      "問題：資安事件的確認時間有什麼作用？\n",
      "參考答案：確認時間指各連線單位發現資安事件後可先進行事件確認，經確認資安事件條件成立之時間。\n",
      "生成答案：確認時間指各連線單位發現資安事件後可先進行事件確認,經確認資安事件條件成立之時間。事件通報流程需於確認時間後1小時內完成。\n",
      "ROUGE-L：0.7843137254901961\n"
     ]
    },
    {
     "name": "stderr",
     "output_type": "stream",
     "text": [
      "Featurizing p: 100%|██████████| 20/20 [00:00<00:00, 52.17it/s]\n",
      "Featurizing q: 100%|██████████| 22/22 [00:00<00:00, 56.96it/s]\n"
     ]
    },
    {
     "name": "stdout",
     "output_type": "stream",
     "text": [
      "問題：資安事件通報流程需要在確認時間後多久內完成？\n",
      "參考答案：事件通報流程需於確認時間後1小時內完成。\n",
      "生成答案：資安事件通報流程需於確認時間後1小時內完成。\n",
      "ROUGE-L：0.9523809523809523\n"
     ]
    },
    {
     "name": "stderr",
     "output_type": "stream",
     "text": [
      "Featurizing p: 100%|██████████| 20/20 [00:00<00:00, 50.07it/s]\n",
      "Featurizing q: 100%|██████████| 61/61 [00:01<00:00, 58.84it/s]\n"
     ]
    },
    {
     "name": "stdout",
     "output_type": "stream",
     "text": [
      "問題：新增確認時間後，資安事件的應變時效是否有所改變？\n",
      "參考答案：事件通報應變時效不因新增確認時間而改變。\n",
      "生成答案：資安事件的應變時效不因新增確認時間而改變,「1」、「2」級事件需於72小時內完成;「3」、「4」級事件需於36小時內完成。\n",
      "ROUGE-L：0.4444444444444445\n"
     ]
    },
    {
     "name": "stderr",
     "output_type": "stream",
     "text": [
      "Featurizing p: 100%|██████████| 40/40 [00:00<00:00, 53.19it/s]\n",
      "Featurizing q: 100%|██████████| 75/75 [00:01<00:00, 60.26it/s]\n"
     ]
    },
    {
     "name": "stdout",
     "output_type": "stream",
     "text": [
      "問題：不同等級的資安事件需要在多長時間內完成應變？\n",
      "參考答案：『1』、『2』級事件需於72小時內完成；『3』、『4』級事件需於36小時內完成。\n",
      "生成答案：1. 事件確認時間後1小時內完成事件通報流程。\n",
      "2. 「1」、「2」級事件需於72小時內完成應變。\n",
      "3. 「3」、「4」級事件需於36小時內完成應變。\n",
      "ROUGE-L：0.5391304347826087\n"
     ]
    },
    {
     "name": "stderr",
     "output_type": "stream",
     "text": [
      "Featurizing p: 100%|██████████| 20/20 [00:00<00:00, 51.07it/s]\n",
      "Featurizing q: 100%|██████████| 28/28 [00:00<00:00, 55.55it/s]\n"
     ]
    },
    {
     "name": "stdout",
     "output_type": "stream",
     "text": [
      "問題：在應變流程中，應該在哪裡填寫改善措施？\n",
      "參考答案：於現行應變流程填寫欄位新增「改善措施」。\n",
      "生成答案：在應變流程中，應該在「歷史通報」中新增「改善措施」欄位。\n",
      "ROUGE-L：0.5416666666666667\n"
     ]
    },
    {
     "name": "stderr",
     "output_type": "stream",
     "text": [
      "Featurizing p: 100%|██████████| 22/22 [00:00<00:00, 51.92it/s]\n",
      "Featurizing q: 100%|██████████| 40/40 [00:00<00:00, 55.77it/s]\n"
     ]
    },
    {
     "name": "stdout",
     "output_type": "stream",
     "text": [
      "問題：改善措施欄位中需要包含哪些內容？\n",
      "參考答案：改善措施包含「改善辦法」及「改善時間」欄位。\n",
      "生成答案：改善措施欄位中需要包含各連線單位於完成通報應變後,針對事件發生提出相關改善措施。\n",
      "ROUGE-L：0.2903225806451613\n"
     ]
    },
    {
     "name": "stderr",
     "output_type": "stream",
     "text": [
      "Featurizing p: 100%|██████████| 53/53 [00:00<00:00, 55.17it/s]\n",
      "Featurizing q: 100%|██████████| 218/218 [00:03<00:00, 59.71it/s]\n"
     ]
    },
    {
     "name": "stdout",
     "output_type": "stream",
     "text": [
      "問題：改善措施的目的為何？\n",
      "參考答案：改善措施指各連線單位於完成通報應變後，針對事件發生提出相關改善措施，以完備事件處理流程及預防事件重覆發生。\n",
      "生成答案：「改善措施」的目的為何？根據資通安全管理法之資通安全事件通報及應變辦法第二章第四條規定：「公務機關或特定非公務機關（以下簡稱各機關）依本法第七條第三項、第十三條第二項、第十六條第五項或第十七條第三項提出改善報告，應針對資通安全維護計畫實施情形之稽核結果提出下列內容，…：一、缺失或待改善之項目及內容。二、發生原因。三、為改正缺失或補強待改善項目所採取管理、技術、人力或資源等層面之措施。四、前款措施之預定完成時程及執行進度之追蹤方式。」\n",
      "ROUGE-L：0.15498154981549817\n"
     ]
    },
    {
     "name": "stderr",
     "output_type": "stream",
     "text": [
      "Featurizing p: 100%|██████████| 80/80 [00:01<00:00, 55.55it/s]\n",
      "Featurizing q: 100%|██████████| 54/54 [00:00<00:00, 59.91it/s]\n"
     ]
    },
    {
     "name": "stdout",
     "output_type": "stream",
     "text": [
      "問題：在資安事件通報應變完成後，應如何處理列印單件？\n",
      "參考答案：依據臺灣學術網路各級學校資通安全通報應變作業程序第三章第一節第六條規定，『2』、『1』級資安事件通報應變完成後，應至通報應變網站列印單件，每月彙整送呈單位主管。\n",
      "生成答案：在資安事件通報應變完成後,應至「教育機構資安通報平台」左側的「歷史通報」中套表列印貴單位事件單以利送呈簽核。\n",
      "ROUGE-L：0.32835820895522394\n"
     ]
    },
    {
     "name": "stderr",
     "output_type": "stream",
     "text": [
      "Featurizing p: 100%|██████████| 37/37 [00:00<00:00, 54.04it/s]\n",
      "Featurizing q: 100%|██████████| 31/31 [00:00<00:00, 60.52it/s]\n"
     ]
    },
    {
     "name": "stdout",
     "output_type": "stream",
     "text": [
      "問題：發生『4』或『3』級資安事件後，應在多久內通報送陳單位資通安全長？\n",
      "參考答案：『4』、『3』級資安事件需於事件發生後36小時內，通報送陳單位資通安全長。\n",
      "生成答案：若資安事件屬「4」、「3」級事件,須於通報後2小時內完成審核。\n",
      "ROUGE-L：0.3529411764705882\n"
     ]
    },
    {
     "name": "stderr",
     "output_type": "stream",
     "text": [
      "Featurizing p: 100%|██████████| 45/45 [00:00<00:00, 53.11it/s]\n",
      "Featurizing q: 100%|██████████| 76/76 [00:01<00:00, 59.93it/s]\n"
     ]
    },
    {
     "name": "stdout",
     "output_type": "stream",
     "text": [
      "問題：如何在教育機構資安通報平台上列印事件單？\n",
      "參考答案：於登入『教育機構資安通報平台』後，左側『歷史通報』中即可套表列印貴單位事件單以利送呈簽核。\n",
      "生成答案：在教育機構資安通報平台上列印事件單的步驟如下：\n",
      "1. 登入「教育機構資安通報平台」。\n",
      "2. 在左側「歷史通報」中，即可套表列印貴單位事件單以利送呈簽核。\n",
      "ROUGE-L：0.6280991735537189\n"
     ]
    },
    {
     "name": "stderr",
     "output_type": "stream",
     "text": [
      "Featurizing p: 100%|██████████| 21/21 [00:00<00:00, 52.58it/s]\n",
      "Featurizing q: 100%|██████████| 22/22 [00:00<00:00, 55.00it/s]\n"
     ]
    },
    {
     "name": "stdout",
     "output_type": "stream",
     "text": [
      "問題：事件確認後需要在多長時間內完成確認時間的新增？\n",
      "參考答案：新增「確認時間」並於事件確認後一小時內完成\n",
      "生成答案：事件確認後需要在1小時內完成確認時間的新增。\n",
      "ROUGE-L：0.46511627906976744\n"
     ]
    },
    {
     "name": "stderr",
     "output_type": "stream",
     "text": [
      "Featurizing p: 100%|██████████| 17/17 [00:00<00:00, 52.23it/s]\n",
      "Featurizing q: 100%|██████████| 12/12 [00:00<00:00, 54.40it/s]\n"
     ]
    },
    {
     "name": "stdout",
     "output_type": "stream",
     "text": [
      "問題：為了完備事件處理流程，新增了什麼項目？\n",
      "參考答案：新增「改善措施」以完備事件處理流程\n",
      "生成答案：新增了「改善措施」欄位。\n",
      "ROUGE-L：0.5517241379310345\n"
     ]
    },
    {
     "name": "stderr",
     "output_type": "stream",
     "text": [
      "Featurizing p: 100%|██████████| 14/14 [00:00<00:00, 49.76it/s]\n",
      "Featurizing q: 100%|██████████| 31/31 [00:00<00:00, 54.70it/s]\n"
     ]
    },
    {
     "name": "stdout",
     "output_type": "stream",
     "text": [
      "問題：事件列印功能的新增是為了什麼目的？\n",
      "參考答案：新增「事件列印」以利送呈簽核\n",
      "生成答案：新增「事件列印」功能是為了利處理人員列印事件內容送呈單位主管。\n",
      "ROUGE-L：0.48888888888888893\n"
     ]
    },
    {
     "name": "stderr",
     "output_type": "stream",
     "text": [
      "Featurizing p: 100%|██████████| 42/42 [00:00<00:00, 53.84it/s]\n",
      "Featurizing q: 100%|██████████| 134/134 [00:02<00:00, 59.75it/s]\n"
     ]
    },
    {
     "name": "stdout",
     "output_type": "stream",
     "text": [
      "問題：各單位在進行資安通報應變作業時需要注意什麼？\n",
      "參考答案：各單位務必掌握時效依照相關規定完成通報應變作業，以避免相關刑事、民事及行政相關責任。\n",
      "生成答案：各單位在進行資安通報應變作業時需要注意掌握時效依照相關規定完成通報應變作業,以避免相關刑事、民事及行政相關責任。並須至各級學校資安通報平台(以下簡稱通報應變網站)登錄作業,該網站營運維護、資安事件通報管理、技術諮詢及支援等服務,由本部委託臺灣學術網路危機處理中心負責。\n",
      "ROUGE-L：0.4431818181818182\n"
     ]
    },
    {
     "name": "stderr",
     "output_type": "stream",
     "text": [
      "Featurizing p: 100%|██████████| 65/65 [00:01<00:00, 54.71it/s]\n",
      "Featurizing q: 100%|██████████| 103/103 [00:01<00:00, 59.60it/s]\n"
     ]
    },
    {
     "name": "stdout",
     "output_type": "stream",
     "text": [
      "問題：資安通報平台新增了哪些事件類型分類？\n",
      "參考答案：資安通報平台新增了OTHER(其它事件)類別，其事件類型包含：「設備故障/毀損」、「電力異常」、「網路服務中斷」、「設備遺失」等。\n",
      "生成答案：資安通報平台新增的事件類型分類包括「INT(入侵攻擊)」、「DEF(網頁攻擊)」及「OTHER(其它事件)」類別,其中其他事件類別包含:「設備故障/毀損」、 「電力異常」、「網路服務中斷」、「設備遺失」等。\n",
      "ROUGE-L：0.7261904761904763\n"
     ]
    },
    {
     "name": "stderr",
     "output_type": "stream",
     "text": [
      "Featurizing p: 100%|██████████| 39/39 [00:00<00:00, 54.00it/s]\n",
      "Featurizing q: 100%|██████████| 39/39 [00:00<00:00, 59.76it/s]\n"
     ]
    },
    {
     "name": "stdout",
     "output_type": "stream",
     "text": [
      "問題：除了新增的OTHER類別，資安通報平台原有的事件分類有哪些？\n",
      "參考答案：資安通報平台原有的事件分類有「INT(入侵攻擊)」以及「DEF(網頁攻擊)」。\n",
      "生成答案：資安通報平台原有的事件分類有「INT(入侵攻擊)」以及「DEF(網頁攻擊)」。\n",
      "ROUGE-L：1.0\n"
     ]
    },
    {
     "name": "stderr",
     "output_type": "stream",
     "text": [
      "Featurizing p: 100%|██████████| 157/157 [00:02<00:00, 58.23it/s]\n",
      "Featurizing q: 100%|██████████| 161/161 [00:02<00:00, 60.42it/s]\n"
     ]
    },
    {
     "name": "stdout",
     "output_type": "stream",
     "text": [
      "問題：當發生重大個資外洩事件時，應如何進行通報？\n",
      "參考答案：若為重大個資(個人資料)外洩事件，欲通報三級以上之事件，請於確認外洩事實明確的情況下，進行通報，並於通報單內說明下列事項：1. 確定洩漏筆數 (如約100 筆個資) 2. 確定洩漏資訊欄位 (如姓名,地址,身份證字號等資訊) 3. 確定外洩管道 (如人為疏失等) 4. 遭受揭露個資之儲存媒體（如網站，資料庫等）。\n",
      "生成答案：1. 確定洩漏筆數 (如約100 筆個資)\n",
      "2. 確定洩漏資訊欄位 (如姓名,地址,身份證字號等資訊) \n",
      "3. 確定外洩管道 (如人為疏失等)\n",
      "4. 遭受揭露個資之儲存媒體(如網站,資料庫等)\n",
      "\n",
      "此外，請依個人資料保護法(第12條)及個人資料保護法施行細則(第22 條)進行個資外洩公告 (指以「適當方式」使當事人知悉)。\n",
      "ROUGE-L：0.5723270440251572\n"
     ]
    },
    {
     "name": "stderr",
     "output_type": "stream",
     "text": [
      "Featurizing p: 100%|██████████| 57/57 [00:01<00:00, 55.69it/s]\n",
      "Featurizing q: 100%|██████████| 84/84 [00:01<00:00, 59.58it/s]\n"
     ]
    },
    {
     "name": "stdout",
     "output_type": "stream",
     "text": [
      "問題：在資安事件等級綜合評估中，何時核心業務的中斷是不可容忍的？\n",
      "參考答案：核心業務(未涉及CI 維運)在3級時嚴重影響是不可容忍的，核心業務(涉及CI 維運)在4級時嚴重影響是不可容忍的。\n",
      "生成答案：在資安事件等級綜合評估中，核心業務的中斷是不可容忍的，當涉及關鍵基礎設施維運之核心業務或核心資通系統之運作受影響或停頓，無法於可容忍中斷時間內回復正常運作時，屬於4級。\n",
      "ROUGE-L：0.31205673758865243\n"
     ]
    },
    {
     "name": "stderr",
     "output_type": "stream",
     "text": [
      "Featurizing p: 100%|██████████| 49/49 [00:00<00:00, 54.04it/s]\n",
      "Featurizing q: 100%|██████████| 44/44 [00:00<00:00, 59.69it/s]\n"
     ]
    },
    {
     "name": "stdout",
     "output_type": "stream",
     "text": [
      "問題：如果核心業務涉及CI維運且受到輕微影響，業務是否可於可容忍中斷時間回復？\n",
      "參考答案：核心業務(涉及CI 維運)輕微影響時，核心/資通系統(涉及CI 維運)是可於可容忍中斷時間回復的。\n",
      "生成答案：根據提供的文件內容，如果核心業務涉及CI維運且受到輕微影響，業務可於可容忍中斷時間回復。\n",
      "ROUGE-L：0.5806451612903225\n"
     ]
    },
    {
     "name": "stderr",
     "output_type": "stream",
     "text": [
      "Featurizing p: 100%|██████████| 24/24 [00:00<00:00, 50.88it/s]\n",
      "Featurizing q: 100%|██████████| 45/45 [00:00<00:00, 60.18it/s]\n"
     ]
    },
    {
     "name": "stdout",
     "output_type": "stream",
     "text": [
      "問題：在確認三級以上事件成立後，事發機關需要在什麼時候提交改善報告？\n",
      "參考答案：事發機關應於１個月內提交相關改善報告至主管機關。\n",
      "生成答案：在確認三級(含)以上事件成立後,事發機關應於1個月內提交相關改善報告(附件三)至主管機關。\n",
      "ROUGE-L：0.6666666666666666\n"
     ]
    },
    {
     "name": "stderr",
     "output_type": "stream",
     "text": [
      "Featurizing p: 100%|██████████| 74/74 [00:01<00:00, 57.04it/s]\n",
      "Featurizing q: 100%|██████████| 79/79 [00:01<00:00, 61.18it/s]\n"
     ]
    },
    {
     "name": "stdout",
     "output_type": "stream",
     "text": [
      "問題：在哪裡可以下載資安事件改善報告的空白格式？\n",
      "參考答案：可以在 https://info.cert.tanet.edu.tw/docinfo/infoattach.zip 下載資安事件改善報告的空白格式。\n",
      "生成答案：您可以於以下網址下載資安事件改善報告的空白格式: https://info. cert.tanet.edu.tw/docinfo/infoattach.zip\n",
      "ROUGE-L：0.7320261437908496\n"
     ]
    },
    {
     "name": "stderr",
     "output_type": "stream",
     "text": [
      "Featurizing p: 100%|██████████| 21/21 [00:00<00:00, 52.88it/s]\n",
      "Featurizing q: 100%|██████████| 32/32 [00:00<00:00, 55.24it/s]\n"
     ]
    },
    {
     "name": "stdout",
     "output_type": "stream",
     "text": [
      "問題：教育機構資安通報平台新增的欄位資料何時正式上線？\n",
      "參考答案：新增欄位預計於112 年6 月初正式上線。\n",
      "生成答案：教育機構資安通報平台新增的欄位資料預計於112年6月初正式上線。\n",
      "ROUGE-L：0.7169811320754718\n"
     ]
    },
    {
     "name": "stderr",
     "output_type": "stream",
     "text": [
      "Featurizing p: 100%|██████████| 58/58 [00:01<00:00, 55.65it/s]\n",
      "Featurizing q: 100%|██████████| 91/91 [00:01<00:00, 60.36it/s]\n"
     ]
    },
    {
     "name": "stdout",
     "output_type": "stream",
     "text": [
      "問題：在資安通報流程中，新增了哪些欄位資料？\n",
      "參考答案：通報流程新增「受駭設備類型」、「受害設備說明」、「損害類別說明」、「攻擊手法」、「調查說明」、「情資類型」欄位資料。\n",
      "生成答案：在資安通報流程中，新增了以下欄位資料：\n",
      "1. 「受駭設備類型」。\n",
      "2. 「受害設備說明」。\n",
      "3. 「損害類別說明」。\n",
      "4. 「攻擊手法」。\n",
      "5. 「調查說明」。\n",
      "6. 「情資類型」。\n",
      "ROUGE-L：0.6577181208053691\n"
     ]
    },
    {
     "name": "stderr",
     "output_type": "stream",
     "text": [
      "Featurizing p: 100%|██████████| 31/31 [00:00<00:00, 53.53it/s]\n",
      "Featurizing q: 100%|██████████| 93/93 [00:01<00:00, 59.63it/s]\n"
     ]
    },
    {
     "name": "stdout",
     "output_type": "stream",
     "text": [
      "問題：如果我遇到系統被未經授權存取的情況，應該將其歸類為哪種情資類型？\n",
      "參考答案：入侵攻擊：針對系統遭未經授權存取或取得系統/使用者權限之事件。\n",
      "生成答案：入侵攻擊:針對系統遭未經授權存取或取得系統/使用者 權限 各機關應就所接收之情資，採取適當之安全維護措施，避免情資內容、個人資料或依法規規定不得分享之資訊外洩，或遭未經授權之存取或竄改。\n",
      "ROUGE-L：0.45161290322580644\n"
     ]
    },
    {
     "name": "stderr",
     "output_type": "stream",
     "text": [
      "Featurizing p: 100%|██████████| 17/17 [00:00<00:00, 52.01it/s]\n",
      "Featurizing q: 100%|██████████| 27/27 [00:00<00:00, 55.54it/s]\n"
     ]
    },
    {
     "name": "stdout",
     "output_type": "stream",
     "text": [
      "問題：當發現系統存在弱點時，這屬於哪一類的事件？\n",
      "參考答案：系統弱點：針對系統存在弱點之事件。\n",
      "生成答案：當發現系統存在弱點時，這屬於「系統弱點」這一類的事件。\n",
      "ROUGE-L：0.5\n"
     ]
    },
    {
     "name": "stderr",
     "output_type": "stream",
     "text": [
      "Featurizing p: 100%|██████████| 32/32 [00:00<00:00, 53.28it/s]\n",
      "Featurizing q: 100%|██████████| 33/33 [00:00<00:00, 59.65it/s]\n"
     ]
    },
    {
     "name": "stdout",
     "output_type": "stream",
     "text": [
      "問題：如果有攻擊行為是偽冒他人身分進行的，這應該歸類為什麼類型？\n",
      "參考答案：詐欺攻擊：針對偽冒他人身分、系統服務及組織等進行攻擊行為之事件。\n",
      "生成答案：如果有攻擊行為是偽冒他人身分進行的，這應該歸類為「社交工程攻擊」。\n",
      "ROUGE-L：0.4\n"
     ]
    },
    {
     "name": "stderr",
     "output_type": "stream",
     "text": [
      "Featurizing p: 100%|██████████| 18/18 [00:00<00:00, 52.21it/s]\n",
      "Featurizing q: 100%|██████████| 27/27 [00:00<00:00, 55.42it/s]\n"
     ]
    },
    {
     "name": "stdout",
     "output_type": "stream",
     "text": [
      "問題：在處理惡意程式相關事件時，應選擇哪種情資類型？\n",
      "參考答案：惡意程式：針對與相關惡意程式之事件。\n",
      "生成答案：在處理惡意程式相關事件時，應選擇「惡意程式」情資類型。\n",
      "ROUGE-L：0.4888888888888889\n"
     ]
    },
    {
     "name": "stderr",
     "output_type": "stream",
     "text": [
      "Featurizing p: 100%|██████████| 27/27 [00:00<00:00, 52.55it/s]\n",
      "Featurizing q: 100%|██████████| 40/40 [00:00<00:00, 56.81it/s]\n"
     ]
    },
    {
     "name": "stdout",
     "output_type": "stream",
     "text": [
      "問題：如果發現有攻擊影響到服務的可用性，這應該被歸類為哪種事件？\n",
      "參考答案：阻斷服務：針對影響服務可用性或造成服務中斷之攻擊事件。\n",
      "生成答案：如果發現有攻擊影響到服務的可用性，這應該被歸類為阻斷服務 (DoS) 攻擊事件。\n",
      "ROUGE-L：0.417910447761194\n"
     ]
    },
    {
     "name": "stderr",
     "output_type": "stream",
     "text": [
      "Featurizing p: 100%|██████████| 68/68 [00:01<00:00, 56.43it/s]\n",
      "Featurizing q: 100%|██████████| 96/96 [00:01<00:00, 59.93it/s]\n"
     ]
    },
    {
     "name": "stdout",
     "output_type": "stream",
     "text": [
      "問題：在應變流程中，如何選擇適合的損害控制狀態選項？\n",
      "參考答案：應根據實際狀況選擇適合的選項：1、損害控制：已控管此事件所造成的危害。2、完成損害控制與復原：已控管此事件所造成的危害並已完成系統復原。\n",
      "生成答案：在應變流程中，選擇適合的「損害控管狀態」選項時，可依實際狀況選擇以下兩種狀態：\n",
      "1. 損害控制:已控管此事件所造成的危害。\n",
      "2. 完成損害控制與復原:已控管此事件所造成的危害並已完成系統復原。\n",
      "ROUGE-L：0.7073170731707317\n"
     ]
    },
    {
     "name": "stderr",
     "output_type": "stream",
     "text": [
      "Featurizing p: 100%|██████████| 26/26 [00:00<00:00, 51.47it/s]\n",
      "Featurizing q: 100%|██████████| 134/134 [00:02<00:00, 59.40it/s]\n"
     ]
    },
    {
     "name": "stdout",
     "output_type": "stream",
     "text": [
      "問題：在進行系統調查時，應該檢查哪些系統或網路相關資訊？\n",
      "參考答案：檢查系統或網路相關LOG 資訊，查看是否有異常之處。\n",
      "生成答案：在進行系統調查時,建議檢查下列步驟:\n",
      "1. 檢查系統或網路相關 LOG 資訊,查看是否有異常之處。\n",
      "2. 利用如 TCPVIEW 工具軟體或 netstat 指令來查看系統是否有開啟可疑之服務或是否有可疑之來源連線。\n",
      "3. 查看防火牆之連線記錄,確認是否有可疑之連線。\n",
      "ROUGE-L：0.3125\n"
     ]
    },
    {
     "name": "stderr",
     "output_type": "stream",
     "text": [
      "Featurizing p: 100%|██████████| 53/53 [00:00<00:00, 54.61it/s]\n",
      "Featurizing q: 100%|██████████| 54/54 [00:00<00:00, 60.61it/s]\n"
     ]
    },
    {
     "name": "stdout",
     "output_type": "stream",
     "text": [
      "問題：如何查看系統是否有開啟可疑的服務或來源連線？\n",
      "參考答案：利用如TCPVIEW 工具軟體或netstat 指令來查看系統是否有開啟可疑之服務或是否有可疑之來源連線。\n",
      "生成答案：使用「TCPVIEW」工具軟體或 netstat 指令來查看系統是否有開啟可疑之服務或是否有可疑之來源連線。\n",
      "ROUGE-L：0.9345794392523364\n"
     ]
    },
    {
     "name": "stderr",
     "output_type": "stream",
     "text": [
      "Featurizing p: 100%|██████████| 22/22 [00:00<00:00, 52.88it/s]\n",
      "Featurizing q: 100%|██████████| 215/215 [00:03<00:00, 60.61it/s]\n"
     ]
    },
    {
     "name": "stdout",
     "output_type": "stream",
     "text": [
      "問題：在防火牆中應該檢查什麼以確認是否有可疑連線？\n",
      "參考答案：查看防火牆之連線記錄，確認是否有可疑之連線。\n",
      "生成答案：在防火牆中應該檢查以下幾點以確認是否有可疑連線：\n",
      "1. 如果有設置入侵偵測軟體(IDS)，進行查看是否有惡意的連線行為。\n",
      "2. 尋找影響防火牆、防毒與檔案保護的事件，或是任何可疑活動，例如6 Taiwan Academic Network Computer emergency Response Team (TACERT) 的服務。\n",
      "3. 尋找大量的登入嘗試錯誤或是被封鎖的帳戶。\n",
      "4. 檢視防火牆(如果有的話)記錄中的可疑活動。\n",
      "ROUGE-L：0.10970464135021096\n"
     ]
    },
    {
     "name": "stderr",
     "output_type": "stream",
     "text": [
      "Featurizing p: 100%|██████████| 15/15 [00:00<00:00, 50.85it/s]\n",
      "Featurizing q: 100%|██████████| 32/32 [00:00<00:00, 54.96it/s]\n"
     ]
    },
    {
     "name": "stdout",
     "output_type": "stream",
     "text": [
      "問題：如果有設置入侵偵測軟體（IDS），應該如何使用來檢查系統安全？\n",
      "參考答案：進行查看是否有惡意的連線行為。\n",
      "生成答案：如果有設置入侵偵測軟體(IDS)，進行查看是否有惡意的連線行為。\n",
      "ROUGE-L：0.6382978723404256\n"
     ]
    },
    {
     "name": "stderr",
     "output_type": "stream",
     "text": [
      "Featurizing p: 100%|██████████| 67/67 [00:01<00:00, 56.69it/s]\n",
      "Featurizing q: 100%|██████████| 65/65 [00:01<00:00, 60.86it/s]\n"
     ]
    },
    {
     "name": "stdout",
     "output_type": "stream",
     "text": [
      "問題：如果我想查詢或閱覽我的個人資料，該怎麼做？\n",
      "參考答案：可透過書面或撥打服務專線07-5250211(週一~週五 09:00~17:00)，請TACERT提供查詢或請求閱覽您的個人資料服務。\n",
      "生成答案：您可以透過書面或撥打服務專線07-5250211(週一~週五 09:00~17:00)，向TACERT請求查詢或閱覽您的個人資料。\n",
      "ROUGE-L：0.9090909090909091\n"
     ]
    },
    {
     "name": "stderr",
     "output_type": "stream",
     "text": [
      "Featurizing p: 100%|██████████| 22/22 [00:00<00:00, 50.44it/s]\n",
      "Featurizing q: 100%|██████████| 37/37 [00:00<00:00, 56.79it/s]\n"
     ]
    },
    {
     "name": "stdout",
     "output_type": "stream",
     "text": [
      "問題：TACERT蒐集的個人資料會在哪些地區被利用？\n",
      "參考答案：地區：台灣地區(包含金門、澎湖、馬祖等地)。\n",
      "生成答案：TACERT蒐集的個人資料會在台灣地區(包含金門、澎湖、馬祖等地)被利用。\n",
      "ROUGE-L：0.6440677966101694\n"
     ]
    },
    {
     "name": "stderr",
     "output_type": "stream",
     "text": [
      "Featurizing p: 100%|██████████| 25/25 [00:00<00:00, 51.69it/s]\n",
      "Featurizing q: 100%|██████████| 90/90 [00:01<00:00, 59.22it/s]\n"
     ]
    },
    {
     "name": "stdout",
     "output_type": "stream",
     "text": [
      "問題：我可以要求TACERT停止蒐集我的個人資料嗎？\n",
      "參考答案：可以，您可以請求停止蒐集、處理或利用您的個人資料。\n",
      "生成答案：您可以要求TACERT停止蒐集您的個人資料。若您選擇不提供個人資料或是提供不完整時,基於提供您更好的服務,TACERT 將因此無法提供相關的服務。因此而導致之後果,將由您自行承擔。\n",
      "ROUGE-L：0.2608695652173913\n"
     ]
    },
    {
     "name": "stderr",
     "output_type": "stream",
     "text": [
      "Featurizing p: 100%|██████████| 25/25 [00:00<00:00, 52.89it/s]\n",
      "Featurizing q: 100%|██████████| 65/65 [00:01<00:00, 58.23it/s]\n"
     ]
    },
    {
     "name": "stdout",
     "output_type": "stream",
     "text": [
      "問題：TACERT會以什麼方式利用我的個人資料？\n",
      "參考答案：方式：電子文件、紙本或其他合於當時科技之適當方式。\n",
      "生成答案：TACERT會以以下方式利用您的個人資料：\n",
      "1. 發送簡訊或電子郵件通知單位連絡人資安事件。\n",
      "2. 其他合於計劃所定之目標所需要。\n",
      "ROUGE-L：0.2666666666666667\n"
     ]
    },
    {
     "name": "stderr",
     "output_type": "stream",
     "text": [
      "Featurizing p: 100%|██████████| 50/50 [00:00<00:00, 54.37it/s]\n",
      "Featurizing q: 100%|██████████| 48/48 [00:00<00:00, 60.32it/s]\n"
     ]
    },
    {
     "name": "stdout",
     "output_type": "stream",
     "text": [
      "問題：如果我不提供個人資料，會有什麼影響？\n",
      "參考答案：若您選擇不提供個人資料或是提供不完整時，基於提供您更好的服務，TACERT將因此無法提供相關的服務。\n",
      "生成答案：如果您不提供個人資料，TACERT 將因此無法提供相關的服務。因此而導致之後果,將由您自行承擔。\n",
      "ROUGE-L：0.5714285714285714\n"
     ]
    },
    {
     "name": "stderr",
     "output_type": "stream",
     "text": [
      "Featurizing p: 100%|██████████| 86/86 [00:01<00:00, 56.90it/s]\n",
      "Featurizing q: 100%|██████████| 118/118 [00:01<00:00, 60.47it/s]\n"
     ]
    },
    {
     "name": "stdout",
     "output_type": "stream",
     "text": [
      "問題：如果因網路中斷無法上網填報資安事件，應該如何通報？\n",
      "參考答案：可先填具附件一教育機構資通安全事件單，以TACERT 備用通報信箱或傳真方式送至臺灣學術網路危機處理中心(TACERT)，惟待網路連線恢復後，仍須至通報應變網站補登錄通報。\n",
      "生成答案：如果因網路或電力中斷等事由,致使無法上網填報資安事件,可先填具附件一教 育機構資通安全事件單,以TACERT 備用通報信箱或傳真方式送至臺灣學術網 路危機處理中心( TACERT ),惟待網路連線恢復後,仍須至通報應變網站補登錄 通報。\n",
      "ROUGE-L：0.8137254901960784\n"
     ]
    },
    {
     "name": "stderr",
     "output_type": "stream",
     "text": [
      "Featurizing p: 100%|██████████| 212/212 [00:03<00:00, 58.98it/s]\n",
      "Featurizing q: 100%|██████████| 193/193 [00:03<00:00, 60.63it/s]\n"
     ]
    },
    {
     "name": "stdout",
     "output_type": "stream",
     "text": [
      "問題：在遭受DDoS攻擊時，如何申請流量清洗服務？\n",
      "參考答案：當連線單位遭受分散式阻斷服務攻擊（DDoS）時，連線單位可申請學術網路 DDoS 攻擊流量清洗服務並進行資安事件通報。如因網路或電力中斷等事由，致使無法上網申請DDoS 攻擊流量清洗服務事件單，可先填具附件二學術網路DDoS 攻擊流量清洗服務申請單，以TACERT 備用通報信箱或傳真方式送至臺灣學術網路危機處理中心(TACERT)，惟待網路連線恢復後，仍須至教育機構資安通報報表系統補申請DDoS 攻擊流量清洗服務事件單。\n",
      "生成答案：在遭受DDoS攻擊時,申請流量清洗服務的步驟如下:\n",
      "\n",
      "1. 填寫事件相關基本資料,包括單位名稱、通報人、電話、傳真、電子郵件信箱等。\n",
      "2. 填寫申請DDoS 清洗服務的IP資訊,包括清洗IP、DNS IP、通訊協定、通訊埠、服務說明及申請理由。\n",
      "3. 依照教育體系DDoS攻擊清洗申請流程表進行申請。\n",
      "\n",
      "注意:若學術單位遭受DDoS攻擊時,應透過其所屬之區縣市網路中心申請流量清洗服務。\n",
      "ROUGE-L：0.28641975308641976\n"
     ]
    },
    {
     "name": "stderr",
     "output_type": "stream",
     "text": [
      "Featurizing p: 100%|██████████| 58/58 [00:01<00:00, 54.96it/s]\n",
      "Featurizing q: 100%|██████████| 28/28 [00:00<00:00, 59.62it/s]\n"
     ]
    },
    {
     "name": "stdout",
     "output_type": "stream",
     "text": [
      "問題：資安事件確認後，應在多長時間內通報？\n",
      "參考答案：經確認為資安事件後，須於 1 小時內，至教育機構資安通報應變網站通報登錄資安事件細節、影響等級及是否申請支援等資訊。\n",
      "生成答案：資安事件確認後，應在確認時間後1小時內完成事件通報流程。\n",
      "ROUGE-L：0.3023255813953489\n"
     ]
    },
    {
     "name": "stderr",
     "output_type": "stream",
     "text": [
      "Featurizing p: 100%|██████████| 113/113 [00:01<00:00, 57.22it/s]\n",
      "Featurizing q: 100%|██████████| 59/59 [00:00<00:00, 60.33it/s]\n"
     ]
    },
    {
     "name": "stdout",
     "output_type": "stream",
     "text": [
      "問題：在填寫教育機構資通安全事件通報單時，哪些項目是必填的？\n",
      "參考答案：填報時間、單位名稱、通報人、電話、傳真、電子郵件信箱、事件發生時間、確認(知悉)為資安事件時間、IP 位置、網際網路位置、設備廠牌、機型、作業系統（名稱/版本)、受駭應用軟體（名稱/版本)、已裝置之安全防護軟體、受駭設備類型。\n",
      "生成答案：在填寫教育機構資通安全事件通報單時，必填的項目包括：\n",
      "1. 發生資通安全事件之機關(機構)聯絡資料：單位名稱、通報人。\n",
      "ROUGE-L：0.18604651162790697\n"
     ]
    },
    {
     "name": "stderr",
     "output_type": "stream",
     "text": [
      "Featurizing p: 100%|██████████| 125/125 [00:02<00:00, 57.43it/s]\n",
      "Featurizing q: 100%|██████████| 71/71 [00:01<00:00, 60.80it/s]\n"
     ]
    },
    {
     "name": "stdout",
     "output_type": "stream",
     "text": [
      "問題：在事件發生時需要提供哪些設備資料？\n",
      "參考答案：需要提供的設備資料包括：IP 位置（IP address）、網際網路位置（web-url）、設備廠牌、機型、作業系統（名稱/版本)、受駭應用軟體（名稱/版本)、已裝置之安全防護軟體（防毒軟體、防火牆、IPS/IDS、其它的名稱/版本)、受駭設備類型。\n",
      "生成答案：在事件發生時需要提供的設備資料包括：IP位置(IP address)、網際網路位置(web-url)、設備廠牌、機型和作業系統(名稱/版本)。\n",
      "ROUGE-L：0.6020408163265306\n"
     ]
    },
    {
     "name": "stderr",
     "output_type": "stream",
     "text": [
      "Featurizing p: 100%|██████████| 73/73 [00:01<00:00, 56.00it/s]\n",
      "Featurizing q: 100%|██████████| 69/69 [00:01<00:00, 60.95it/s]\n"
     ]
    },
    {
     "name": "stdout",
     "output_type": "stream",
     "text": [
      "問題：如果事件涉及受駭設備，應如何分類設備類型？\n",
      "參考答案：受駭設備類型可以分類為：個人電腦、伺服器、大型主機、網路通訊設備、SCADA(資料採集與監視系統)、控制器(PLC、PAC)、人機介面(HMI)。\n",
      "生成答案：受駭設備類型包括個人電腦、伺服器、大型主機、網路通訊設備、SCADA(資料採集與監視系統)、控制器(PLC、PAC)和人機介面(HMI)。\n",
      "ROUGE-L：0.9295774647887325\n"
     ]
    },
    {
     "name": "stderr",
     "output_type": "stream",
     "text": [
      "Featurizing p: 100%|██████████| 25/25 [00:00<00:00, 52.35it/s]\n",
      "Featurizing q: 100%|██████████| 33/33 [00:00<00:00, 57.62it/s]\n"
     ]
    },
    {
     "name": "stdout",
     "output_type": "stream",
     "text": [
      "問題：如果發生3、4級的資安事件，應該如何處理？\n",
      "參考答案：若有3、4級事件，請立刻電話告知您所屬的主管機關。\n",
      "生成答案：若發生3、4級的資安事件,應立即通報主管機關並於2小時內完成審核。\n",
      "ROUGE-L：0.44827586206896547\n"
     ]
    },
    {
     "name": "stderr",
     "output_type": "stream",
     "text": [
      "Featurizing p: 100%|██████████| 31/31 [00:00<00:00, 53.51it/s]\n",
      "Featurizing q: 100%|██████████| 37/37 [00:00<00:00, 59.25it/s]\n"
     ]
    },
    {
     "name": "stdout",
     "output_type": "stream",
     "text": [
      "問題：在無法確定如何填寫資安事件等級時，應該怎麼辦？\n",
      "參考答案：如果您無法確定如何填寫時，請電話連絡您所屬的主管機關請求協助。\n",
      "生成答案：如果無法確定如何填寫資安事件等級時，應該電話連絡您所屬的主管機關請求協助。\n",
      "ROUGE-L：0.8529411764705881\n"
     ]
    },
    {
     "name": "stderr",
     "output_type": "stream",
     "text": [
      "Featurizing p: 100%|██████████| 61/61 [00:01<00:00, 55.02it/s]\n",
      "Featurizing q: 100%|██████████| 639/639 [00:10<00:00, 59.83it/s]\n"
     ]
    },
    {
     "name": "stdout",
     "output_type": "stream",
     "text": [
      "問題：如何評估資安事件的影響等級？\n",
      "參考答案：請分別評估資安事件造成之機密性、完整性以及可用性衝擊，資安事件影響等級為機密性、完整性及可用性衝擊最嚴重者(數字最大者)。\n",
      "生成答案：要評估資安事件的影響等級,需分別評估其造成之機密性、完整性及可用性衝擊。依據提供的文件內容,可以參考以下標準:\n",
      "\n",
      "1. 機密性衝擊:\n",
      "- 1級:非核心業務資訊遭輕微洩漏\n",
      "- 2級:非核心業務資訊或未涉及關鍵基礎設施維運之核心業務資訊遭嚴重洩漏\n",
      "- 3級:一般公務機密、敏感資訊或涉及關鍵基礎設施維運之核心業務資訊遭輕微洩漏\n",
      "- 4級:一般公務機密、敏感資訊、涉及關鍵基礎設施維運之核心業務資訊或國家機密遭嚴重洩漏\n",
      "\n",
      "2. 完整性衝擊:\n",
      "- 1級:非核心業務資訊或非核心資通系統遭輕微竄改\n",
      "- 2級:非核心業務資訊或未涉及關鍵基礎設施維運之核心業務資訊或核心資通系統遭嚴重竄改  \n",
      "- 3級:未涉及關鍵基礎設施維運之核心業務資訊或核心資通系統遭輕微竄改\n",
      "- 4級:一般公務機密、敏感資訊、涉及關鍵基礎設施維運之核心業務資訊或國家機密遭嚴重竄改\n",
      "\n",
      "3. 可用性衝擊:\n",
      "- 1級:非核心業務之運作受影響或停頓,於可容忍中斷時間內回復正常運作\n",
      "- 2級:未涉及關鍵基礎設施維運之核心業務或核心資通系統之運作受影響或停頓,於可容忍中斷時間內回復正常運作\n",
      "- 3級:未涉及關鍵基礎設施維運之核心業務或核心資通系統之運作受影響或停頓,無法於可容忍中斷時間內回復正常運作\n",
      "- 4級:涉及關鍵基礎設施維運之核心業務或核心資通系統之運作受影響或停頓,無法於可容忍中斷時間內回復正常運作\n",
      "\n",
      "綜合上述三個面向的衝擊程度,取其中最高等級當成最後之事件等級。若無法確定如何填寫,可請求所屬主管機關協助評估。\n",
      "ROUGE-L：0.11142857142857143\n"
     ]
    },
    {
     "name": "stderr",
     "output_type": "stream",
     "text": [
      "Featurizing p: 100%|██████████| 89/89 [00:01<00:00, 57.59it/s]\n",
      "Featurizing q: 100%|██████████| 100/100 [00:01<00:00, 60.34it/s]\n"
     ]
    },
    {
     "name": "stdout",
     "output_type": "stream",
     "text": [
      "問題：一線人員如何取得惡意網站威脅來源清單的相關資訊？\n",
      "參考答案：一線人員（學校資安人員）請洽詢所屬的上層區縣市網人員來取得相關資訊，您可利用登入資安通報平台（https://info.cert.tanet.edu.tw/）來取得二線人員資訊。\n",
      "生成答案：一線人員可以透過所屬的上層區縣市網路中心取得惡意網站威脅來源清單相關資訊。若需進一步取得,可利用登入資安通報平台(https://info. cert.tanet.edu.tw/)來取得二線人員資訊。\n",
      "ROUGE-L：0.7513227513227513\n"
     ]
    },
    {
     "name": "stderr",
     "output_type": "stream",
     "text": [
      "Featurizing p: 100%|██████████| 94/94 [00:01<00:00, 57.64it/s]\n",
      "Featurizing q: 100%|██████████| 138/138 [00:02<00:00, 60.38it/s]\n"
     ]
    },
    {
     "name": "stdout",
     "output_type": "stream",
     "text": [
      "問題：二線人員如何下載惡意網站威脅來源清單？\n",
      "參考答案：二線人員可利用二線審核帳號(英文+OID 帳號，如Z2.16…..)及密碼登入資安通報報表系統（https://portal.cert.tanet.edu.tw/）的「威脅名單」功能下載。\n",
      "生成答案：二線人員可以透過登入資安通報平台(https://info. cert.tanet.edu.tw/)來取得惡意網站威脅來源清單。具體步驟如下：\n",
      "1. 選擇「威脅名單」開啟惡意網站威脅來源清單公告系統。\n",
      "2. 在惡意網站威脅來源清單公告系統中，會列出最新一次更新之威脅名單列表。\n",
      "ROUGE-L：0.396551724137931\n"
     ]
    },
    {
     "name": "stderr",
     "output_type": "stream",
     "text": [
      "Featurizing p: 100%|██████████| 37/37 [00:00<00:00, 53.11it/s]\n",
      "Featurizing q: 100%|██████████| 20/20 [00:00<00:00, 56.33it/s]\n"
     ]
    },
    {
     "name": "stdout",
     "output_type": "stream",
     "text": [
      "問題：下載的威脅清單應如何處理？\n",
      "參考答案：威脅清單內容為機敏性資料，僅供公務使用，嚴禁外流並依公務密件相關規定處理。\n",
      "生成答案：下載的威脅清單應依公務密件相關規定處理。\n",
      "ROUGE-L：0.5614035087719298\n"
     ]
    },
    {
     "name": "stderr",
     "output_type": "stream",
     "text": [
      "Featurizing p: 100%|██████████| 78/78 [00:01<00:00, 56.20it/s]\n",
      "Featurizing q: 100%|██████████| 92/92 [00:01<00:00, 60.25it/s]\n"
     ]
    },
    {
     "name": "stdout",
     "output_type": "stream",
     "text": [
      "問題：如果我在密碼變更或重設時遇到問題，應該怎麼辦？\n",
      "參考答案：TACERT 會進後台人工重設密碼，連同OID 一起寄信回覆。校方須提供完整校名或OID，以及Email，使得TACERT 查詢、重設密碼與提供資訊給對方。\n",
      "生成答案：如果在密碼變更或重設時遇到問題，您應該提供完整的校名或OID，以及Email，以便TACERT查詢、重設密碼並提供資訊給您。TACERT會進後台人工重設密碼，並連同OID一起寄信回覆。\n",
      "ROUGE-L：0.4823529411764706\n"
     ]
    },
    {
     "name": "stderr",
     "output_type": "stream",
     "text": [
      "Featurizing p: 100%|██████████| 56/56 [00:01<00:00, 54.31it/s]\n",
      "Featurizing q: 100%|██████████| 70/70 [00:01<00:00, 60.33it/s]\n"
     ]
    },
    {
     "name": "stdout",
     "output_type": "stream",
     "text": [
      "問題：我需要調整事件單的等級或內容，該如何處理？\n",
      "參考答案：因送出後學校無法調整內容，由TACERT 依照要求進後台調整。請提供本中心欲調整之事件單編號，以及欲調整之內容。\n",
      "生成答案：若在職,可直接請異動之聯絡人修改個人資料。要新增或是刪除聯絡人,必須使用第一或第二聯絡人帳號,在帳號管理裡面做新增或是刪除後面聯絡人的帳號。\n",
      "ROUGE-L：0.06349206349206349\n"
     ]
    },
    {
     "name": "stderr",
     "output_type": "stream",
     "text": [
      "Featurizing p: 100%|██████████| 56/56 [00:00<00:00, 56.57it/s]\n",
      "Featurizing q: 100%|██████████| 76/76 [00:01<00:00, 60.22it/s]\n"
     ]
    },
    {
     "name": "stdout",
     "output_type": "stream",
     "text": [
      "問題：如果事件單出現錯誤需要重派或刪除，該怎麼辦？\n",
      "參考答案：TACERT 進後台重新輸入正確OID 並重派，或是把工單刪除。請提供本中心錯誤事件單之編號，以及有問題之內容。\n",
      "生成答案：如果事件單出現錯誤需要重派或刪除，TACERT 後台重新輸入正確OID 並重派，或是把工單刪除。請提供本中心錯誤事件單之編號,以及有問題之內容,謝謝您。\n",
      "ROUGE-L：0.8181818181818182\n"
     ]
    },
    {
     "name": "stderr",
     "output_type": "stream",
     "text": [
      "Featurizing p: 100%|██████████| 122/122 [00:02<00:00, 57.65it/s]\n",
      "Featurizing q: 100%|██████████| 76/76 [00:01<00:00, 60.66it/s]\n"
     ]
    },
    {
     "name": "stdout",
     "output_type": "stream",
     "text": [
      "問題：如何回報HITCON的漏洞修補情況？\n",
      "參考答案：學校方告知漏洞編號，並由TACERT 進入HITCON 後台更改漏洞狀態。請確認HITCON 之漏洞詳情頁面，若該漏洞上方發信單位為TACERT 台灣學術網路危機處理中心，即可由本中心調整漏洞狀態為已修補，再請提供本中心HITCON 漏洞編號。\n",
      "生成答案：若漏洞修補完成後,需通知本中心,由本中心向HITCON寄信,請官方更改漏洞狀態。由於HITCON需要閱讀信件,此方案可能需要幾天時間才能將漏洞狀態更改。\n",
      "ROUGE-L：0.29292929292929293\n"
     ]
    },
    {
     "name": "stderr",
     "output_type": "stream",
     "text": [
      "Featurizing p: 100%|██████████| 90/90 [00:01<00:00, 56.53it/s]\n",
      "Featurizing q: 100%|██████████| 246/246 [00:04<00:00, 60.00it/s]\n"
     ]
    },
    {
     "name": "stdout",
     "output_type": "stream",
     "text": [
      "問題：如果HITCON帳號遺失或需要申請組織帳號，該怎麼辦？\n",
      "參考答案：HITCON 將漏洞所屬權派給校方，因帳號遺失或沒有組織帳號，無法自行更改，會由本中心寄信通知HITCON 修改漏洞狀態，或是請學校申請一個組織帳號並驗證，通過後自行更改漏洞狀態。\n",
      "生成答案：如果HITCON帳號遺失或需要申請組織帳號，可以透過以下方式處理：\n",
      "\n",
      "1. 重新創辦貴單位之HITCON帳號，並申請組織帳號。申請組織帳號後，可自行新增或移除共同管理組織帳號的使用者，並獲得後台權限(可被派發漏洞資訊及更改漏洞狀態)，若申請途中有遇到問題，請寄信至service@zeroday.hitcon.org，請官方幫忙協調。\n",
      "\n",
      "2. 將漏洞修補完成後，通知本中心，由本中心向HITCON寄信，請官方更改漏洞狀態。由於HITCON需閱讀信件，此方案可能需要幾天時間才能將漏洞狀態更改。\n",
      "ROUGE-L：0.25595238095238093\n"
     ]
    },
    {
     "name": "stderr",
     "output_type": "stream",
     "text": [
      "Featurizing p: 100%|██████████| 39/39 [00:00<00:00, 53.60it/s]\n",
      "Featurizing q: 100%|██████████| 84/84 [00:01<00:00, 59.99it/s]\n"
     ]
    },
    {
     "name": "stdout",
     "output_type": "stream",
     "text": [
      "問題：完成漏洞修補後，應該如何通知HITCON更改漏洞狀態？\n",
      "參考答案：將漏洞修補完成後，通知本中心，由本中心向HITCON寄信，請官方更改漏洞狀態。\n",
      "生成答案：完成漏洞修補後,應該由本中心向HITCON寄信,請官方更改漏洞狀態。若申請途中有遇到問題,可寄信至service@zeroday.hitcon.org,請官方幫忙協調。\n",
      "ROUGE-L：0.4552845528455284\n"
     ]
    },
    {
     "name": "stderr",
     "output_type": "stream",
     "text": [
      "Featurizing p: 100%|██████████| 169/169 [00:02<00:00, 58.78it/s]\n",
      "Featurizing q: 100%|██████████| 162/162 [00:02<00:00, 60.12it/s]\n"
     ]
    },
    {
     "name": "stdout",
     "output_type": "stream",
     "text": [
      "問題：在進行系統調查時，建議的步驟有哪些？\n",
      "參考答案：建議在進行系統調查時進行下列步驟：(1) 檢查系統或網路相關 LOG 資訊，查看是否有異常之處。(2) 利用如 TCPVIEW 工具軟體或 netstat 指令來查看系統是否有開啟可疑之服務或是否有可疑之來源連線。(3) 查看防火牆之連線記錄，確認是否有可疑之連線。(4) 如果有設置入侵偵測軟體（IDS），進行查看是否有惡意的連線行為。\n",
      "生成答案：在進行系統調查時,建議的步驟有:\n",
      "1. 檢查系統或網路相關LOG資訊,查看是否有異常之處。\n",
      "2. 利用如TCPVIEW工具軟體或netstat指令來查看系統是否有開啟可疑之服務或是否有可疑之來源連線。\n",
      "3. 查看防火牆之連線記錄,確認是否有可疑之連線。\n",
      "4. 如果有設置入侵偵測軟體(IDS),進行查看是否有惡意的連線行為。\n",
      "ROUGE-L：0.8640483383685801\n"
     ]
    },
    {
     "name": "stderr",
     "output_type": "stream",
     "text": [
      "Featurizing p: 100%|██████████| 57/57 [00:01<00:00, 54.25it/s]\n",
      "Featurizing q: 100%|██████████| 47/47 [00:00<00:00, 60.65it/s]\n"
     ]
    },
    {
     "name": "stdout",
     "output_type": "stream",
     "text": [
      "問題：不同級數的事件通報應變時效是多久？\n",
      "參考答案：事件通報應變時效因級數而有所不同，「1」、「2」級事件需於72小時內完成；「3」、「4」級事件需於36小時內完成。\n",
      "生成答案：1. 「1」、「2」級事件需於72小時內完成。\n",
      "2. 「3」、「4」級事件需於36小時內完成。\n",
      "ROUGE-L：0.7499999999999999\n"
     ]
    },
    {
     "name": "stderr",
     "output_type": "stream",
     "text": [
      "Featurizing p: 100%|██████████| 64/64 [00:01<00:00, 55.53it/s]\n",
      "Featurizing q: 100%|██████████| 24/24 [00:00<00:00, 59.96it/s]\n"
     ]
    },
    {
     "name": "stdout",
     "output_type": "stream",
     "text": [
      "問題：在通報流程中，若未發現資安事件威脅，應選擇哪種情資類型？\n",
      "參考答案：當收到資安情資後，經適當且有效的系統調查後，並未發現有直接或間接證據可證明系統遭受到資安事件之威脅即可選擇INFO(資安情資)。\n",
      "生成答案：若未發現資安事件威脅,應選擇TII(威脅情報)。\n",
      "ROUGE-L：0.36363636363636365\n"
     ]
    },
    {
     "name": "stderr",
     "output_type": "stream",
     "text": [
      "Featurizing p: 100%|██████████| 82/82 [00:01<00:00, 56.13it/s]\n",
      "Featurizing q: 100%|██████████| 91/91 [00:01<00:00, 59.83it/s]\n"
     ]
    },
    {
     "name": "stdout",
     "output_type": "stream",
     "text": [
      "問題：損害控制狀態有哪些選項？\n",
      "參考答案：應變流程之「損害控制狀態」可分為完成下列兩種狀態：(1) 損害控制：已控管此事件所造成的危害。(2) 完成損害控制與復原：已控管此事件所造成的危害並已完成系統復原。\n",
      "生成答案：「損害控制狀態」可分為完成下列兩種狀態,請依實際狀況選擇適合的選項:\n",
      "1、 損害控制:已控管此事件所造成的危害。\n",
      "2、 完成損害控制與復原:已控管此事件所造成的危害並已完成系統復原。\n",
      "ROUGE-L：0.8092485549132947\n"
     ]
    },
    {
     "name": "stderr",
     "output_type": "stream",
     "text": [
      "Featurizing p: 100%|██████████| 42/42 [00:00<00:00, 55.34it/s]\n",
      "Featurizing q: 100%|██████████| 41/41 [00:00<00:00, 59.70it/s]\n"
     ]
    },
    {
     "name": "stdout",
     "output_type": "stream",
     "text": [
      "問題：在通報演練期間，第一、第二聯絡人需要做什麼操作？\n",
      "參考答案：第一、第二聯絡人需在演練資料整備作業期間更換一次密碼，並檢查資安聯絡人資料是否正確。\n",
      "生成答案：第一、第二聯絡人需在演練資料整備時限內至教育機構資安通報演練平台完成事件通報流程。\n",
      "ROUGE-L：0.4578313253012048\n"
     ]
    },
    {
     "name": "stderr",
     "output_type": "stream",
     "text": [
      "Featurizing p: 100%|██████████| 74/74 [00:01<00:00, 56.30it/s]\n",
      "Featurizing q: 100%|██████████| 52/52 [00:00<00:00, 59.66it/s]\n"
     ]
    },
    {
     "name": "stdout",
     "output_type": "stream",
     "text": [
      "問題：收到資安演練事件通知單後，執行演練單位應如何處理？\n",
      "參考答案：執行演練單位於收到mail及簡訊通知後，應於規定的時限內至教育機構資安通報演練平台完成事件通報流程，並依事件等級於處理時限內完成事件應變處理並結案。\n",
      "生成答案：執行演練單位應於收到「資安演練事件通知單」後,於規定的時限內至教育機構資安通報演練平台完成事件通報流程。\n",
      "ROUGE-L：0.6507936507936507\n"
     ]
    },
    {
     "name": "stderr",
     "output_type": "stream",
     "text": [
      "Featurizing p: 100%|██████████| 36/36 [00:00<00:00, 53.36it/s]\n",
      "Featurizing q: 100%|██████████| 36/36 [00:00<00:00, 58.98it/s]\n"
     ]
    },
    {
     "name": "stdout",
     "output_type": "stream",
     "text": [
      "問題：如何下載事件單的LOG附檔？\n",
      "參考答案：確認事件單的「發佈編號」後，可至「事件附檔下載」，下載所需之LOG附檔。\n",
      "生成答案：確認事件單的「發佈編號」後,可至「事件附檔下載」,下載所需之LOG附檔。\n",
      "ROUGE-L：0.9444444444444444\n"
     ]
    },
    {
     "name": "stderr",
     "output_type": "stream",
     "text": [
      "Featurizing p: 100%|██████████| 62/62 [00:01<00:00, 55.41it/s]\n",
      "Featurizing q: 100%|██████████| 68/68 [00:01<00:00, 59.74it/s]\n"
     ]
    },
    {
     "name": "stdout",
     "output_type": "stream",
     "text": [
      "問題：如何處理通報平台聯絡人異動問題？\n",
      "參考答案：聯絡人若已不在職，可先申請重設密碼後請他人登入，並修改個人資料，以更換新的聯絡人；若在職，可直接請異動之聯絡人修改個人資料。\n",
      "生成答案：若在職,可直接請異動之聯絡人修改個人資料。要新增或刪除聯絡人,必須使用第一或第二聯絡人帳號,在帳號管理裡面做新增或刪除後面聯絡人的帳號。\n",
      "ROUGE-L：0.3230769230769231\n"
     ]
    },
    {
     "name": "stderr",
     "output_type": "stream",
     "text": [
      "Featurizing p: 100%|██████████| 49/49 [00:00<00:00, 54.89it/s]\n",
      "Featurizing q: 100%|██████████| 88/88 [00:01<00:00, 59.82it/s]\n"
     ]
    },
    {
     "name": "stdout",
     "output_type": "stream",
     "text": [
      "問題：如何新增或刪除通報平台的聯絡人？\n",
      "參考答案：要新增或是刪除聯絡人，必須使用第一或第二聯絡人帳號，在帳號管理裡面做新增或是刪除後面聯絡人的帳號。\n",
      "生成答案：若聯絡人已不在職，可先申請重設密碼後請他人登入，並修改個人資料，以更換新的聯絡人。要新增或刪除聯絡人，必須使用第一或第二聯絡人帳號，在帳號管理裡面做新增或刪除後面聯絡人的帳號。\n",
      "ROUGE-L：0.6861313868613138\n"
     ]
    },
    {
     "name": "stderr",
     "output_type": "stream",
     "text": [
      "Featurizing p: 100%|██████████| 39/39 [00:00<00:00, 53.31it/s]\n",
      "Featurizing q: 100%|██████████| 48/48 [00:00<00:00, 60.00it/s]\n"
     ]
    },
    {
     "name": "stdout",
     "output_type": "stream",
     "text": [
      "問題：在EWA事件單中，如何處理確實事件？\n",
      "參考答案：確實事件：經查證後為確實事件，須先「自行通報」，並填入自行通報的資安事件編號。\n",
      "生成答案：在EWA事件單中，處理確實事件的步驟如下：\n",
      "1. 自行通報。\n",
      "2. 填入自行通報的資安事件編號。\n",
      "ROUGE-L：0.5517241379310345\n"
     ]
    },
    {
     "name": "stderr",
     "output_type": "stream",
     "text": [
      "Featurizing p: 100%|██████████| 32/32 [00:00<00:00, 52.58it/s]\n",
      "Featurizing q: 100%|██████████| 96/96 [00:01<00:00, 58.58it/s]\n"
     ]
    },
    {
     "name": "stdout",
     "output_type": "stream",
     "text": [
      "問題：在EWA事件單中，如何處理誤判事件？\n",
      "參考答案：誤判：經查證後確認為誤判事件，並於「原因」欄位中，說明誤判原因。\n",
      "生成答案：在EWA事件單中，誤判事件的處理方式為：開啟資安預警事件報表系統後，選擇「EWA列表」，將列出貴單位轄下管理之預警事件個案分析- HTTP_Windows_Executable 事件分析報告。\n",
      "ROUGE-L：0.15625\n",
      "已儲存 1352 筆資料到 FAISS\n"
     ]
    },
    {
     "name": "stderr",
     "output_type": "stream",
     "text": [
      "Featurizing p: 100%|██████████| 105/105 [00:01<00:00, 57.85it/s]\n",
      "Featurizing q: 100%|██████████| 147/147 [00:02<00:00, 60.38it/s]\n"
     ]
    },
    {
     "name": "stdout",
     "output_type": "stream",
     "text": [
      "問題：如何在教育機構資安通報平台修改資安長的資料？\n",
      "參考答案：請單位的資安連絡人登錄「教育機構資安通報平台」(https://info.cert.tanet.edu.tw)後，點選左方功能列之「修改資安長資料」功能項，輸入單位的資安長相關連絡資訊，點選「送出」以儲存資料。\n",
      "生成答案：1. 請單位的資安連絡人登錄「教育機構資安通報平台」(https://info.cert.tanet.edu.tw)後,點選左方功能列(圖1)之「修改資 安長資料」功能項。\n",
      "2. 輸入單位的資安長相關連絡資訊(包含資安長姓名、資安長公務電 話及資安長公務e-mail),點選「送出」以儲存資料。\n",
      "ROUGE-L：0.8095238095238094\n"
     ]
    },
    {
     "name": "stderr",
     "output_type": "stream",
     "text": [
      "Featurizing p: 100%|██████████| 38/38 [00:00<00:00, 52.96it/s]\n",
      "Featurizing q: 100%|██████████| 36/36 [00:00<00:00, 59.34it/s]\n"
     ]
    },
    {
     "name": "stdout",
     "output_type": "stream",
     "text": [
      "問題：資安長的聯絡資訊需要包含哪些內容？\n",
      "參考答案：資安長的聯絡資訊需要包含資安長姓名、資安長公務電話及資安長公務e-mail。\n",
      "生成答案：資安長的聯絡資訊需要包含資安長姓名、資安長公務電話及資安長公務電子郵件。\n",
      "ROUGE-L：0.8648648648648649\n"
     ]
    },
    {
     "name": "stderr",
     "output_type": "stream",
     "text": [
      "Featurizing p: 100%|██████████| 57/57 [00:01<00:00, 55.66it/s]\n",
      "Featurizing q: 100%|██████████| 198/198 [00:03<00:00, 59.94it/s]\n"
     ]
    },
    {
     "name": "stdout",
     "output_type": "stream",
     "text": [
      "問題：在資安事件發生時，臺灣學術網路各級學校應如何確保正常運作？\n",
      "參考答案：在資安事件發生時，臺灣學術網路各級學校應迅速通報及緊急應變處置，以確保正常運作，並符合「資通安全管理法」相關規範。\n",
      "生成答案：在資安事件發生時，臺灣學術網路各級學校應依據「臺灣學術網路各級學校資通安全通報應變作業程序」，於1小時內至教育機構資安通報應變網站(https://info.cert.tanet.edu.tw)通報登錄資安事件細節、影響等級及是否申請支援等資訊。若因網路或電力中斷無法上網，則可先填具附件一教育機構資通安全事件單，以TACERT備用通報信箱或傳真方式送至臺灣學術網路危機處理中心(TACERT)。\n",
      "ROUGE-L：0.25098039215686274\n"
     ]
    },
    {
     "name": "stderr",
     "output_type": "stream",
     "text": [
      "Featurizing p: 100%|██████████| 55/55 [00:01<00:00, 54.77it/s]\n",
      "Featurizing q: 100%|██████████| 300/300 [00:05<00:00, 59.86it/s]\n"
     ]
    },
    {
     "name": "stdout",
     "output_type": "stream",
     "text": [
      "問題：資安事件發生後，應變作業包括哪些具體機制？\n",
      "參考答案：應變作業包括各級學校、教育及研究機構之事前安全防護、事中緊急應變、事後復原作業之具體機制及相關應變作業檢討等。\n",
      "生成答案：資安事件發生後,各級學校、學術機構及連線單位應建立資安事件之「事前安全防護」、「事中緊急應變」及「事後復原」作業之具體機制,並至少包含下列各項:\n",
      "\n",
      "1. 事前安全防護:全面檢討網路安全措施、修補安全弱點、修正防火牆設定等具體改善措施,以防止類似入侵或攻擊情事再度發生,並視需要修訂應變計畫。\n",
      "\n",
      "2. 事中緊急應變:依事件級別通報本部資科司,必要時召開緊急應變會議;重大(「4」、「3」級)資安事件經評估涉及網路犯罪相關議題或關鍵基礎設施時,啟動相關應變機制。\n",
      "\n",
      "3. 事後復原:全面檢討網路安全措施、修補安全弱點、修正防火牆設定等具體改善措施,以防止類似入侵或攻擊情事再度發生,並視需要修訂應變計畫。\n",
      "ROUGE-L：0.23098591549295774\n"
     ]
    },
    {
     "name": "stderr",
     "output_type": "stream",
     "text": [
      "Featurizing p: 100%|██████████| 42/42 [00:00<00:00, 55.12it/s]\n",
      "Featurizing q: 100%|██████████| 53/53 [00:00<00:00, 59.78it/s]\n"
     ]
    },
    {
     "name": "stdout",
     "output_type": "stream",
     "text": [
      "問題：資安演練作業的目的為何？\n",
      "參考答案：資安演練作業的目的是檢驗區、縣（市）網路中心及所屬連線單位之資安通報機制及應變能力。\n",
      "生成答案：資安演練作業的目的包括：檢驗各單位的資安通報機制及應變能力、規劃及辦理資通安全演練作業以強化資安防護能力。\n",
      "ROUGE-L：0.5263157894736842\n"
     ]
    },
    {
     "name": "stderr",
     "output_type": "stream",
     "text": [
      "Featurizing p: 100%|██████████| 28/28 [00:00<00:00, 52.21it/s]\n",
      "Featurizing q: 100%|██████████| 37/37 [00:00<00:00, 57.43it/s]\n"
     ]
    },
    {
     "name": "stdout",
     "output_type": "stream",
     "text": [
      "問題：獎懲及減責標準中包含哪些內容？\n",
      "參考答案：獎懲及減責標準中包含提報獎勵標準、懲處規定及減責規定等。\n",
      "生成答案：獎懲及減責標準中包含以下內容：\n",
      "一、 獎勵標準\n",
      "二、 權責\n",
      "三、 減責標準\n",
      "ROUGE-L：0.5230769230769231\n"
     ]
    },
    {
     "name": "stderr",
     "output_type": "stream",
     "text": [
      "Featurizing p: 100%|██████████| 43/43 [00:00<00:00, 54.19it/s]\n",
      "Featurizing q: 100%|██████████| 62/62 [00:01<00:00, 59.99it/s]\n"
     ]
    },
    {
     "name": "stdout",
     "output_type": "stream",
     "text": [
      "問題：在臺灣學術網路通報應變架構中，第一線人員的職責是什麼？\n",
      "參考答案：第一線人員指各連線單位之網管、資安人員，其職掌範圍為其所管轄單位之資安事件通報與處理。\n",
      "生成答案：在臺灣學術網路通報應變架構中，第一線人員的職責是指各連線單位之網管、資安人員，其職掌範圍為其所管轄單位之資安事件通報與處理。\n",
      "ROUGE-L：0.8190476190476191\n"
     ]
    },
    {
     "name": "stderr",
     "output_type": "stream",
     "text": [
      "Featurizing p: 100%|██████████| 30/30 [00:00<00:00, 52.74it/s]\n",
      "Featurizing q: 100%|██████████| 25/25 [00:00<00:00, 57.02it/s]\n"
     ]
    },
    {
     "name": "stdout",
     "output_type": "stream",
     "text": [
      "問題：誰負責指揮與監督重大資安事件之通報應變？\n",
      "參考答案：教育部資訊及科技教育司負責指揮與監督重大資安事件之通報應變。\n",
      "生成答案：教育部資科司負責指揮與監督重大資安事件之通報應變。\n",
      "ROUGE-L：0.9090909090909091\n"
     ]
    },
    {
     "name": "stderr",
     "output_type": "stream",
     "text": [
      "Featurizing p: 100%|██████████| 60/60 [00:01<00:00, 55.92it/s]\n",
      "Featurizing q: 100%|██████████| 60/60 [00:01<00:00, 59.71it/s]\n"
     ]
    },
    {
     "name": "stdout",
     "output_type": "stream",
     "text": [
      "問題：各級學校資安通報應變小組的職掌範圍是什麼？\n",
      "參考答案：各級學校資安通報應變小組的職掌範圍為負責各級學校資安通報平台之營運，審核所有資安事件，協調資安事件通報、處理與支援事項。\n",
      "生成答案：各級學校資安通報應變小組的職掌範圍為負責各級學校資安通報平台之營運,審核所有資安事件,協調資安事件通報、處理與支援事項。\n",
      "ROUGE-L：0.9666666666666667\n"
     ]
    },
    {
     "name": "stderr",
     "output_type": "stream",
     "text": [
      "Featurizing p: 100%|██████████| 64/64 [00:01<00:00, 56.28it/s]\n",
      "Featurizing q: 100%|██████████| 19/19 [00:00<00:00, 59.81it/s]\n"
     ]
    },
    {
     "name": "stdout",
     "output_type": "stream",
     "text": [
      "問題：如果國家機密遭洩漏，這屬於哪一級的資通安全事件？\n",
      "參考答案：符合下列任一情形者，屬4 級事件：1. 一般公務機密、敏感資訊或涉及關鍵基礎設施維運之核心業務資訊遭嚴重洩漏，或國家機密遭洩漏。\n",
      "生成答案：國家機密遭洩漏屬於第四級資通安全事件。\n",
      "ROUGE-L：0.1927710843373494\n"
     ]
    },
    {
     "name": "stderr",
     "output_type": "stream",
     "text": [
      "Featurizing p: 100%|██████████| 58/58 [00:01<00:00, 55.36it/s]\n",
      "Featurizing q: 100%|██████████| 36/36 [00:00<00:00, 59.83it/s]\n"
     ]
    },
    {
     "name": "stdout",
     "output_type": "stream",
     "text": [
      "問題：當核心業務資訊遭輕微洩漏，但不涉及關鍵基礎設施維運時，這屬於哪一級事件？\n",
      "參考答案：符合下列任一情形者，屬2 級事件：1. 非核心業務資訊遭嚴重洩漏，或未涉及關鍵基礎設施維運之核心業務資訊遭輕微洩漏。\n",
      "生成答案：當核心業務資訊遭輕微洩漏，但不涉及關鍵基礎設施維運時，屬於 2 級事件。\n",
      "ROUGE-L：0.44680851063829785\n"
     ]
    },
    {
     "name": "stderr",
     "output_type": "stream",
     "text": [
      "Featurizing p: 100%|██████████| 120/120 [00:02<00:00, 57.41it/s]\n",
      "Featurizing q: 100%|██████████| 42/42 [00:00<00:00, 59.69it/s]\n"
     ]
    },
    {
     "name": "stdout",
     "output_type": "stream",
     "text": [
      "問題：如果核心業務或核心資通系統的運作受影響，但能在可容忍中斷時間內恢復，這屬於哪一級事件？\n",
      "參考答案：符合下列任一情形者，屬3 級事件：3. 未涉及關鍵基礎設施維運之核心業務或核心資通系統之運作受影響或停頓，無法於可容忍中斷時間內回復正常運作，或涉及關鍵基礎設施維運之核心業務或核心資通系統之運作受影響或停頓，於可容忍中斷時間內回復正常運作。\n",
      "生成答案：如果核心業務或核心資通系統的運作受影響,但能在可容忍中斷時間內恢復,這屬於4級事件。\n",
      "ROUGE-L：0.33333333333333337\n"
     ]
    },
    {
     "name": "stderr",
     "output_type": "stream",
     "text": [
      "Featurizing p: 100%|██████████| 28/28 [00:00<00:00, 51.31it/s]\n",
      "Featurizing q: 100%|██████████| 245/245 [00:04<00:00, 59.69it/s]\n"
     ]
    },
    {
     "name": "stdout",
     "output_type": "stream",
     "text": [
      "問題：如果需要通報資安事件，應該在哪個網站進行登錄作業？\n",
      "參考答案：應該至各級學校資安通報平台（通報應變網站）進行登錄作業。\n",
      "生成答案：各單位通報資安事件或進行結案,以及區域網路中心及縣市教育網路中心審 核所屬連線單位資安事件通報或結案時,均須至各級學校資安通報平台(以下簡 稱通報應變網站)登錄作業,該網站營運維護、資安事件通報管理、技術諮詢及支 援等服務,由本部委託臺灣學術網路危機處理中心負責,聯繫資訊如下: \n",
      "(一)網址:https://cert. tanet.edu.tw\n",
      "(二)聯絡電話:(07)525-0211\n",
      "(三)網路電話:98400000\n",
      "(四)電子郵件:service@cert.tanet.edu.tw\n",
      "ROUGE-L：0.15384615384615383\n"
     ]
    },
    {
     "name": "stderr",
     "output_type": "stream",
     "text": [
      "Featurizing p: 100%|██████████| 20/20 [00:00<00:00, 50.98it/s]\n",
      "Featurizing q: 100%|██████████| 42/42 [00:00<00:00, 57.04it/s]\n"
     ]
    },
    {
     "name": "stdout",
     "output_type": "stream",
     "text": [
      "問題：誰負責營運維護資安事件通報管理及技術支援服務？\n",
      "參考答案：由本部委託臺灣學術網路危機處理中心負責。\n",
      "生成答案：臺灣學術網路危機處理中心(TACERT)負責營運維護資安事件通報管理及技術支援服務。\n",
      "ROUGE-L：0.48387096774193544\n"
     ]
    },
    {
     "name": "stderr",
     "output_type": "stream",
     "text": [
      "Featurizing p: 100%|██████████| 37/37 [00:00<00:00, 53.88it/s]\n",
      "Featurizing q: 100%|██████████| 58/58 [00:00<00:00, 60.51it/s]\n"
     ]
    },
    {
     "name": "stdout",
     "output_type": "stream",
     "text": [
      "問題：若需要聯繫技術支援，應該使用哪個電子郵件地址？\n",
      "參考答案：應該使用電子郵件地址 service@cert.tanet.edu.tw。\n",
      "生成答案：若需要聯繫技術支援，應該使用 mis.nsysu.edu.tw 的電子郵件地址，並撥打專線 (07)5250211。\n",
      "ROUGE-L：0.3368421052631579\n"
     ]
    },
    {
     "name": "stderr",
     "output_type": "stream",
     "text": [
      "Featurizing p: 100%|██████████| 37/37 [00:00<00:00, 54.49it/s]\n",
      "Featurizing q: 100%|██████████| 26/26 [00:00<00:00, 57.97it/s]\n"
     ]
    },
    {
     "name": "stdout",
     "output_type": "stream",
     "text": [
      "問題：通報資安事件時，可以撥打哪個電話號碼進行聯繫？\n",
      "參考答案：可以撥打聯絡電話 (07)525-0211 或網路電話 98400000。\n",
      "生成答案：您可以撥打(07)5250211的電話號碼進行聯繫。\n",
      "ROUGE-L：0.5714285714285714\n"
     ]
    },
    {
     "name": "stderr",
     "output_type": "stream",
     "text": [
      "Featurizing p: 100%|██████████| 40/40 [00:00<00:00, 52.17it/s]\n",
      "Featurizing q: 100%|██████████| 42/42 [00:00<00:00, 59.37it/s]\n"
     ]
    },
    {
     "name": "stdout",
     "output_type": "stream",
     "text": [
      "問題：如果發現資安事件，應在多長時間內通報登錄資安事件細節？\n",
      "參考答案：須於1小時內，至通報應變網站通報登錄資安事件細節、影響等級及是否申請支援等資訊。\n",
      "生成答案：知悉資通安全事件後,應於一小時內依主管機關指定之方式及對象,進行資通安全事件之通報。\n",
      "ROUGE-L：0.2195121951219512\n"
     ]
    },
    {
     "name": "stderr",
     "output_type": "stream",
     "text": [
      "Featurizing p: 100%|██████████| 76/76 [00:01<00:00, 55.53it/s]\n",
      "Featurizing q: 100%|██████████| 102/102 [00:01<00:00, 59.81it/s]\n"
     ]
    },
    {
     "name": "stdout",
     "output_type": "stream",
     "text": [
      "問題：在網路或電力中斷的情況下，如何處理資安事件通報？\n",
      "參考答案：須於確認資安事件條件成立後1小時內，與所屬區、縣（市）網路中心及通報應變小組聯繫，先行提供事件細節，待網路通訊恢復正常後，仍須至通報應變網站補登錄通報。\n",
      "生成答案：如因網路或電力中斷等事由,致使無法上網填報資安事件,須於確認資安事件條件成立後1小時內,與所屬區、縣(市)網路中心及通報應變小組聯繫,先行提供事件細節,待網路通訊恢復正常後,仍須至通報應變網站補登錄通報。\n",
      "ROUGE-L：0.7865168539325842\n"
     ]
    },
    {
     "name": "stderr",
     "output_type": "stream",
     "text": [
      "Featurizing p: 100%|██████████| 29/29 [00:00<00:00, 53.02it/s]\n",
      "Featurizing q: 100%|██████████| 39/39 [00:00<00:00, 60.18it/s]\n"
     ]
    },
    {
     "name": "stdout",
     "output_type": "stream",
     "text": [
      "問題：「4」、「3」級資安事件需要在多長時間內完成損害控制或復原？\n",
      "參考答案：「4」、「3」級資安事件須於36小時內完成損害控制或復原。\n",
      "生成答案：「4」、「3」級資安事件需要在知悉該事件後三十六小時內完成損害控制或復原作業。\n",
      "ROUGE-L：0.7352941176470588\n"
     ]
    },
    {
     "name": "stderr",
     "output_type": "stream",
     "text": [
      "Featurizing p: 100%|██████████| 40/40 [00:00<00:00, 54.05it/s]\n",
      "Featurizing q: 100%|██████████| 119/119 [00:01<00:00, 59.90it/s]\n"
     ]
    },
    {
     "name": "stdout",
     "output_type": "stream",
     "text": [
      "問題：完成資安事件處理後，應如何進行結案通報？\n",
      "參考答案：完成資安事件處理後，須至通報應變網站通報結案，並登錄資安事件處理過程及完成時間。\n",
      "生成答案：資安事件處理結案後,各連線單位應至通報應變網站通報結案。針對「4」、「3」級資安事件,區、縣(市)網路中心於接獲所屬連線單位結案申請,除至通報應變網站審核所屬連線單位資安事件結案內容外,尚需對於該資安事件填寫應配合辦理事項或規劃相關作業。\n",
      "ROUGE-L：0.3018867924528302\n"
     ]
    },
    {
     "name": "stderr",
     "output_type": "stream",
     "text": [
      "Featurizing p: 100%|██████████| 55/55 [00:01<00:00, 53.43it/s]\n",
      "Featurizing q: 100%|██████████| 122/122 [00:02<00:00, 60.03it/s]\n"
     ]
    },
    {
     "name": "stdout",
     "output_type": "stream",
     "text": [
      "問題：如果無法通過網路進行通報，還有哪些方式可以通報資安事件？\n",
      "參考答案：可填寫「臺灣學術網路各級學校資通安全事件通報單」以傳真或電子郵件方式送至「臺灣學術網路危機處理中心」進行通報。\n",
      "生成答案：如果無法通過網路進行通報,還有以下方式可以通報資安事件:\n",
      "1. 與所屬區、縣(市)網路中心及通報應變小組聯繫,先行提供事件細節。\n",
      "2. 填寫「臺灣學術網路各級學校資通安全事件通報單」以傳真或電子郵件方式送至「臺灣學術網路危機處理中心」進行通報。\n",
      "ROUGE-L：0.6214689265536724\n"
     ]
    },
    {
     "name": "stderr",
     "output_type": "stream",
     "text": [
      "Featurizing p: 100%|██████████| 31/31 [00:00<00:00, 53.32it/s]\n",
      "Featurizing q: 100%|██████████| 25/25 [00:00<00:00, 60.27it/s]\n"
     ]
    },
    {
     "name": "stdout",
     "output_type": "stream",
     "text": [
      "問題：如果發生『4』級資安事件，區、縣（市）網路中心需要在多長時間內完成審核？\n",
      "參考答案：若資安事件屬『4』、『3』級事件，須於通報後2小時內完成審核。\n",
      "生成答案：區、縣（市）網路中心需要在通報後2小時內完成審核。\n",
      "ROUGE-L：0.46428571428571425\n"
     ]
    },
    {
     "name": "stderr",
     "output_type": "stream",
     "text": [
      "Featurizing p: 100%|██████████| 55/55 [00:01<00:00, 54.65it/s]\n",
      "Featurizing q: 100%|██████████| 74/74 [00:01<00:00, 59.82it/s]\n"
     ]
    },
    {
     "name": "stdout",
     "output_type": "stream",
     "text": [
      "問題：當區、縣（市）網路中心申請技術支援時，通報應變小組需要做什麼？\n",
      "參考答案：通報應變小組須於完成複核後，聯繫區、縣（市）網路中心確認技術支援事項，並通報本部資科司及協調提供技術支援方式。\n",
      "生成答案：當區、縣（市）網路中心申請技術支援時，通報應變小組須於完成複核後，聯繫區、縣(市)網路中心確認技術支援事項，並通報本部資科司及協調提供技術支援方式。\n",
      "ROUGE-L：0.8217054263565892\n"
     ]
    },
    {
     "name": "stderr",
     "output_type": "stream",
     "text": [
      "Featurizing p: 100%|██████████| 36/36 [00:00<00:00, 53.65it/s]\n",
      "Featurizing q: 100%|██████████| 36/36 [00:00<00:00, 60.07it/s]\n"
     ]
    },
    {
     "name": "stdout",
     "output_type": "stream",
     "text": [
      "問題：通報應變小組在接獲『4』級資安事件後，應在多長時間內進行資通安全事件通報？\n",
      "參考答案：經本部確認級別後一小時內，依行政院指定方式及對象，進行資通安全事件通報。\n",
      "生成答案：經本部確認級別後一小時內,依行政院指定方式及對象,進行資通安全事件通報。\n",
      "ROUGE-L：0.9444444444444444\n"
     ]
    },
    {
     "name": "stderr",
     "output_type": "stream",
     "text": [
      "Featurizing p: 100%|██████████| 42/42 [00:00<00:00, 53.68it/s]\n",
      "Featurizing q: 100%|██████████| 43/43 [00:00<00:00, 59.67it/s]\n"
     ]
    },
    {
     "name": "stdout",
     "output_type": "stream",
     "text": [
      "問題：若區、縣（市）網路中心未能在規定時限內完成通報審核，通報應變小組可以採取什麼措施？\n",
      "參考答案：如區、縣（市）網路中心未能於規定時限內完成通報審核，通報應變小組得逕行通知完成審核。\n",
      "生成答案：若區、縣（市）網路中心未能在規定時限內完成通報審核，通報應變小組可以逕行通知完成審核。\n",
      "ROUGE-L：0.9176470588235294\n"
     ]
    },
    {
     "name": "stderr",
     "output_type": "stream",
     "text": [
      "Featurizing p: 100%|██████████| 56/56 [00:01<00:00, 54.56it/s]\n",
      "Featurizing q: 100%|██████████| 79/79 [00:01<00:00, 59.52it/s]\n"
     ]
    },
    {
     "name": "stdout",
     "output_type": "stream",
     "text": [
      "問題：在事前安全防護中，應如何處理機敏文件和資料？\n",
      "參考答案：應規劃建置資通安全整體防護環境，做好內部資料存取控制，對於機敏文件、資料及檔案等應採取加密或實體隔離等防護措施。\n",
      "生成答案：在事前安全防護中，應如何處理機敏文件和資料？ 應規劃建置資通安全整體防護環境，做好內部資料存取控制，對於機敏文件、資料及檔案等應採取加密或實體隔離等防護措施。\n",
      "ROUGE-L：0.8296296296296296\n"
     ]
    },
    {
     "name": "stderr",
     "output_type": "stream",
     "text": [
      "Featurizing p: 100%|██████████| 60/60 [00:01<00:00, 54.49it/s]\n",
      "Featurizing q: 100%|██████████| 162/162 [00:02<00:00, 59.78it/s]\n"
     ]
    },
    {
     "name": "stdout",
     "output_type": "stream",
     "text": [
      "問題：各連線單位在事前安全防護中，應如何確保系統安全弱點被及早發現並修復？\n",
      "參考答案：應針對上述建立資通安全防護環境及相關措施，列入年度定期稽核項目，定期實施內部稽核，以儘早發現系統安全弱點並完成修復補強。\n",
      "生成答案：各連線單位在事前安全防護中，應建立資安事件之「事前安全防護」、「事中緊急應變」及「事後復原」作業之具體機制，並至少包含下列各項：\n",
      "\n",
      "1. 事前安全環境及相關措施,列入年度定期稽核項目,定期實施內部稽核,以儘早發現系統安全弱點並完成修復補強。\n",
      "2. 應建置並保存相關設備之系統日誌。\n",
      "3. 應每年定期規劃辦理資安認知教育訓練。\n",
      "ROUGE-L：0.4684684684684684\n"
     ]
    },
    {
     "name": "stderr",
     "output_type": "stream",
     "text": [
      "Featurizing p: 100%|██████████| 59/59 [00:01<00:00, 54.51it/s]\n",
      "Featurizing q: 100%|██████████| 68/68 [00:01<00:00, 59.70it/s]\n"
     ]
    },
    {
     "name": "stdout",
     "output_type": "stream",
     "text": [
      "問題：在事中緊急應變中，應如何處理資安事件的相關證據？\n",
      "參考答案：應就資安事件發生原因、影響等級、可能影響範圍、可能損失及是否需要支援等項目逐一檢討與處置，並保留被入侵或破壞相關證據。\n",
      "生成答案：在事中緊急應變中,應就資安事件發生原因、影響等級、可能影響範圍、可能損失及是否需要支援等項目逐一檢討與處置,並保留被入侵或破壞相關證據。\n",
      "ROUGE-L：0.9133858267716536\n"
     ]
    },
    {
     "name": "stderr",
     "output_type": "stream",
     "text": [
      "Featurizing p: 100%|██████████| 51/51 [00:00<00:00, 55.04it/s]\n",
      "Featurizing q: 100%|██████████| 82/82 [00:01<00:00, 59.58it/s]\n"
     ]
    },
    {
     "name": "stdout",
     "output_type": "stream",
     "text": [
      "問題：為了強化資通安全整體防護能力，應實施哪些機制？\n",
      "參考答案：應實施資通安全稽核、網路監控及人員安全管理等機制，以強化資通安全整體防護能力，降低安全威脅及災害損失。\n",
      "生成答案：為了強化資通安全整體防護能力，應實施以下機制：\n",
      "1. 資通安全稽核、網路監控及人員安全管理等機制。\n",
      "2. 保留資安紀錄與備份。\n",
      "3. 針對上述建立資通安全防護措施。\n",
      "ROUGE-L：0.46616541353383456\n"
     ]
    },
    {
     "name": "stderr",
     "output_type": "stream",
     "text": [
      "Featurizing p: 100%|██████████| 43/43 [00:00<00:00, 53.85it/s]\n",
      "Featurizing q: 100%|██████████| 73/73 [00:01<00:00, 59.30it/s]\n"
     ]
    },
    {
     "name": "stdout",
     "output_type": "stream",
     "text": [
      "問題：在事前安全防護中，應如何處理資訊系統的資安紀錄？\n",
      "參考答案：應保留資安紀錄與備份，如資訊系統屬委外建置管理者，應於合約內要求承商保留相關資安紀錄。\n",
      "生成答案：在事前安全防護中，應依「資通安全責任等級分級辦法」第11條或本部訂定之相關資安規定進行盤點作業,判定資訊系統安全防護等級,並據以落實資安防護基準。\n",
      "ROUGE-L：0.17241379310344826\n"
     ]
    },
    {
     "name": "stderr",
     "output_type": "stream",
     "text": [
      "Featurizing p: 100%|██████████| 43/43 [00:00<00:00, 54.16it/s]\n",
      "Featurizing q: 100%|██████████| 51/51 [00:00<00:00, 59.56it/s]\n"
     ]
    },
    {
     "name": "stdout",
     "output_type": "stream",
     "text": [
      "問題：如果無法自行解決系統弱點問題，應該怎麼辦？\n",
      "參考答案：如無法解決，應儘速向所屬區、縣（市）網路中心及通報應變小組反應，請求提供相關技術支援。\n",
      "生成答案：若無法自行解決系統弱點問題,應儘速向所屬區、縣(市)網路中心及通報應變小組反應,請求提供相關技術支援。\n",
      "ROUGE-L：0.8085106382978724\n"
     ]
    },
    {
     "name": "stderr",
     "output_type": "stream",
     "text": [
      "Featurizing p: 100%|██████████| 105/105 [00:01<00:00, 57.07it/s]\n",
      "Featurizing q: 100%|██████████| 165/165 [00:02<00:00, 59.93it/s]\n"
     ]
    },
    {
     "name": "stdout",
     "output_type": "stream",
     "text": [
      "問題：在資安事件中，如何防止損害擴大影響其他使用者？\n",
      "參考答案：若未納入各單位防護範圍之資訊系統發生資安事件，為防止損害擴大影響他人或正常使用者之權益，依據「臺灣學術網路管理規範」，各單位得先行中斷發生資安事件之系統網路連線，待該系統完成通報應變改善作為後，始得恢復其連線。\n",
      "生成答案：在資安事件中防止損害擴大影響其他使用者，可採取以下措施：\n",
      "\n",
      "1. 暫時移除所有有牽涉到此事件的帳戶。\n",
      "2. 移除所有攻擊者安裝的惡意檔案。\n",
      "3. 改變所有系統帳戶的密碼，確保使用者遵從安全方法，如密碼含有大小寫字母、特別字元、數字且至少8個字元。\n",
      "4. 復原所有檔案，復原那些已被攻擊者改變過的檔案（例如svchost.exe）。\n",
      "ROUGE-L：0.18518518518518517\n"
     ]
    },
    {
     "name": "stderr",
     "output_type": "stream",
     "text": [
      "Featurizing p: 100%|██████████| 54/54 [00:00<00:00, 55.45it/s]\n",
      "Featurizing q: 100%|██████████| 118/118 [00:01<00:00, 60.02it/s]\n"
     ]
    },
    {
     "name": "stdout",
     "output_type": "stream",
     "text": [
      "問題：資安事件損壞程度較大時，應該採取哪些措施？\n",
      "參考答案：資安事件損壞程度，請遵循各單位內部備份管理辦法，啟動備援計畫、異地備援或備援中心等應變措施，以防止事件擴大。\n",
      "生成答案：1. 資安事件如涉及刑責,應做好相關資料(含稽核紀錄)保全工作,以便聯繫檢警調單位協助偵查。\n",
      "2. 各連線單位如發生重大(「4」、「3」級)資安事件,應主動提供相關設備系統日誌予所屬區、縣(市)網路中心及通報應變小組,俾提 供相關協助。\n",
      "ROUGE-L：0.1744186046511628\n"
     ]
    },
    {
     "name": "stderr",
     "output_type": "stream",
     "text": [
      "Featurizing p: 100%|██████████| 43/43 [00:00<00:00, 53.84it/s]\n",
      "Featurizing q: 100%|██████████| 43/43 [00:00<00:00, 59.28it/s]\n"
     ]
    },
    {
     "name": "stdout",
     "output_type": "stream",
     "text": [
      "問題：資安事件涉及刑責時，應如何處理相關資料？\n",
      "參考答案：資安事件如涉及刑責，應做好相關資料(含稽核紀錄)保全工作，以便聯繫檢警調單位協助偵查。\n",
      "生成答案：資安事件涉及刑責時,應做好相關資料(含稽核紀錄)保全工作,以便聯繫檢警調單位協助偵查。\n",
      "ROUGE-L：0.9302325581395349\n"
     ]
    },
    {
     "name": "stderr",
     "output_type": "stream",
     "text": [
      "Featurizing p: 100%|██████████| 67/67 [00:01<00:00, 56.88it/s]\n",
      "Featurizing q: 100%|██████████| 67/67 [00:01<00:00, 59.47it/s]\n"
     ]
    },
    {
     "name": "stdout",
     "output_type": "stream",
     "text": [
      "問題：重大資安事件發生後，應提供哪些資料給網路中心？\n",
      "參考答案：各連線單位如發生重大(「4」、「3」級)資安事件，應主動提供相關設備系統日誌予所屬區、縣（市）網路中心及通報應變小組，俾提供相關協助。\n",
      "生成答案：「4」、「3」級資安事件,本部資科司得依事件情形邀集相關處理單位,召開緊急應變會議;必要時逐級陳報至本部資通安全長,召開資安防護會議。\n",
      "ROUGE-L：0.2537313432835821\n"
     ]
    },
    {
     "name": "stderr",
     "output_type": "stream",
     "text": [
      "Featurizing p: 100%|██████████| 90/90 [00:01<00:00, 56.51it/s]\n",
      "Featurizing q: 100%|██████████| 60/60 [00:01<00:00, 59.97it/s]\n"
     ]
    },
    {
     "name": "stdout",
     "output_type": "stream",
     "text": [
      "問題：在完成資安事件的復原重建工作後，應該怎麼做？\n",
      "參考答案：在完成復原重建工作後，應將復原過程之完整紀錄(如資安事件原因分析與檢討改善方案、防止同類事件再次發生之具體方案、稽核軌跡及蒐集分析相關證據等資料)，予以建檔管制，以利爾後查考使用。\n",
      "生成答案：在完成資安事件的復原重建工作後,應將復原過程之完整紀錄(如資安事件原因分析與檢討改善方案)函送本部,由本部彙送主管機關。\n",
      "ROUGE-L：0.5466666666666666\n"
     ]
    },
    {
     "name": "stderr",
     "output_type": "stream",
     "text": [
      "Featurizing p: 100%|██████████| 43/43 [00:00<00:00, 53.76it/s]\n",
      "Featurizing q: 100%|██████████| 39/39 [00:00<00:00, 58.97it/s]\n"
     ]
    },
    {
     "name": "stdout",
     "output_type": "stream",
     "text": [
      "問題：在資安事件處理完成後，區縣（市）教育網路中心應檢視哪些項目？\n",
      "參考答案：區縣（市）教育網路中心應於資安事件處理完成後，針對作業程序和事件處理進行應變作業檢視。\n",
      "生成答案：在資安事件處理完成後，區縣(市)教育網路中心應檢視作業程序和事件處理是否適當。\n",
      "ROUGE-L：0.4878048780487805\n"
     ]
    },
    {
     "name": "stderr",
     "output_type": "stream",
     "text": [
      "Featurizing p: 100%|██████████| 74/74 [00:01<00:00, 55.96it/s]\n",
      "Featurizing q: 100%|██████████| 83/83 [00:01<00:00, 59.84it/s]\n"
     ]
    },
    {
     "name": "stdout",
     "output_type": "stream",
     "text": [
      "問題：當重大資安事件涉及哪些事項時，會由本部資科司提報行政院國家資通安全會報？\n",
      "參考答案：如重大(「4」、「3」級)資安事件涉及網路犯罪相關議題、對關鍵基礎設施造成威脅時、或對國家安全造成威脅時，會由本部資科司提報行政院國家資通安全會報。\n",
      "生成答案：重大資安事件涉及個人、法人或團體營業上秘密或經營事業有關之資訊，且公開會侵害公務機關、個人、法人或團體之權利或其他正當利益時，本部資科司將提報行政院國家資通安全會報。\n",
      "ROUGE-L：0.42038216560509556\n"
     ]
    },
    {
     "name": "stderr",
     "output_type": "stream",
     "text": [
      "Featurizing p: 100%|██████████| 34/34 [00:00<00:00, 54.66it/s]\n",
      "Featurizing q: 100%|██████████| 46/46 [00:00<00:00, 59.43it/s]\n"
     ]
    },
    {
     "name": "stdout",
     "output_type": "stream",
     "text": [
      "問題：資通安全通報演練的目的為何？\n",
      "參考答案：檢驗「區、縣（市）網路中心」及所屬連線單位之資安通報機制及應變能力。\n",
      "生成答案：資通安全通報演練的目的為檢驗「區、縣(市)網路中心」及所屬連線單位之資安通報機制及應變能力。\n",
      "ROUGE-L：0.7999999999999999\n"
     ]
    },
    {
     "name": "stderr",
     "output_type": "stream",
     "text": [
      "Featurizing p: 100%|██████████| 9/9 [00:00<00:00, 48.82it/s]\n",
      "Featurizing q: 100%|██████████| 20/20 [00:00<00:00, 54.23it/s]\n"
     ]
    },
    {
     "name": "stdout",
     "output_type": "stream",
     "text": [
      "問題：資通安全通報演練應於何時完成？\n",
      "參考答案：每年9月底前完成。\n",
      "生成答案：資通安全通報演練應於每年9 月底前完成。\n",
      "ROUGE-L：0.6206896551724138\n"
     ]
    },
    {
     "name": "stderr",
     "output_type": "stream",
     "text": [
      "Featurizing p: 100%|██████████| 26/26 [00:00<00:00, 53.33it/s]\n",
      "Featurizing q: 100%|██████████| 31/31 [00:00<00:00, 55.89it/s]\n"
     ]
    },
    {
     "name": "stdout",
     "output_type": "stream",
     "text": [
      "問題：誰負責規劃演練各種模擬狀況及處理突發狀況？\n",
      "參考答案：危機處理小組負責規劃演練各種模擬狀況及處理突發狀況。\n",
      "生成答案：平台準備及問題處理小組負責規劃演練各種模擬狀況及處理突發狀況。\n",
      "ROUGE-L：0.8421052631578947\n"
     ]
    },
    {
     "name": "stderr",
     "output_type": "stream",
     "text": [
      "Featurizing p: 100%|██████████| 18/18 [00:00<00:00, 50.96it/s]\n",
      "Featurizing q: 100%|██████████| 18/18 [00:00<00:00, 55.56it/s]\n"
     ]
    },
    {
     "name": "stdout",
     "output_type": "stream",
     "text": [
      "問題：演練計畫在實施前需要經過哪個部門的核定？\n",
      "參考答案：演練計畫應簽奉本部資科司核定後實施。\n",
      "生成答案：演練計畫應簽奉本部資科司核定後實施。\n",
      "ROUGE-L：1.0\n"
     ]
    },
    {
     "name": "stderr",
     "output_type": "stream",
     "text": [
      "Featurizing p: 100%|██████████| 43/43 [00:00<00:00, 53.32it/s]\n",
      "Featurizing q: 100%|██████████| 44/44 [00:00<00:00, 59.71it/s]\n"
     ]
    },
    {
     "name": "stdout",
     "output_type": "stream",
     "text": [
      "問題：演練對象的遴選方式是如何進行的？\n",
      "參考答案：遴選演練對象方式，由平台準備及問題處理小組提交單位清單供安全預防小組選取參與演練單位。\n",
      "生成答案：演練對象的遴選方式是由平台準備及問題處理小組提交單位清單供安全預防小組選取參與演練單位。\n",
      "ROUGE-L：0.9195402298850575\n"
     ]
    },
    {
     "name": "stderr",
     "output_type": "stream",
     "text": [
      "Featurizing p: 100%|██████████| 25/25 [00:00<00:00, 53.33it/s]\n",
      "Featurizing q: 100%|██████████| 27/27 [00:00<00:00, 59.40it/s]\n"
     ]
    },
    {
     "name": "stdout",
     "output_type": "stream",
     "text": [
      "問題：演練完成後，應將哪些文件提交至本部資科司備查？\n",
      "參考答案：演練完成後將「演練事件紀錄」提交至本部資科司備查。\n",
      "生成答案：演練完成後,應將「演練事件紀錄」提交至本部資科司備查。\n",
      "ROUGE-L：0.9615384615384615\n"
     ]
    },
    {
     "name": "stderr",
     "output_type": "stream",
     "text": [
      "Featurizing p: 100%|██████████| 39/39 [00:00<00:00, 54.19it/s]\n",
      "Featurizing q: 100%|██████████| 52/52 [00:00<00:00, 59.85it/s]\n"
     ]
    },
    {
     "name": "stdout",
     "output_type": "stream",
     "text": [
      "問題：防範惡意電子郵件社交工程演練的目的為何？\n",
      "參考答案：演練目的：提高「區、縣（市）網路中心」及其所屬連線單位對社交工程攻擊防制認知。\n",
      "生成答案：防範惡意電子郵件社交工程演練的目的為提高「區、縣(市)網路中心」及其所屬連線單位對社交工程攻擊防制認知。\n",
      "ROUGE-L：0.7912087912087913\n"
     ]
    },
    {
     "name": "stderr",
     "output_type": "stream",
     "text": [
      "Featurizing p: 100%|██████████| 16/16 [00:00<00:00, 51.91it/s]\n",
      "Featurizing q: 100%|██████████| 28/28 [00:00<00:00, 57.31it/s]\n"
     ]
    },
    {
     "name": "stdout",
     "output_type": "stream",
     "text": [
      "問題：每年必須在什麼時候完成第一次防範惡意電子郵件社交工程演練？\n",
      "參考答案：須於每年4月底前辦理第1次演練。\n",
      "生成答案：每年4月底前必須完成第一次防範惡意電子郵件社交工程演練。\n",
      "ROUGE-L：0.5\n"
     ]
    },
    {
     "name": "stderr",
     "output_type": "stream",
     "text": [
      "Featurizing p: 100%|██████████| 45/45 [00:00<00:00, 53.49it/s]\n",
      "Featurizing q: 100%|██████████| 47/47 [00:00<00:00, 59.03it/s]\n"
     ]
    },
    {
     "name": "stdout",
     "output_type": "stream",
     "text": [
      "問題：防範惡意電子郵件社交工程演練的報告需要在什麼時間內送交備查？\n",
      "參考答案：演練報告經本部資通安全長核定，並於每次演練完成後1個月內主動送行政院國家資通安全會報備查。\n",
      "生成答案：防範惡意電子郵件社交工程演練報告需要在每次演練完成後1個月內主動送行政院國家資通安全會報備查。\n",
      "ROUGE-L：0.6956521739130436\n"
     ]
    },
    {
     "name": "stderr",
     "output_type": "stream",
     "text": [
      "Featurizing p: 100%|██████████| 62/62 [00:01<00:00, 55.52it/s]\n",
      "Featurizing q: 100%|██████████| 62/62 [00:01<00:00, 59.81it/s]\n"
     ]
    },
    {
     "name": "stdout",
     "output_type": "stream",
     "text": [
      "問題：非公務機關如何制定資通安全事項的獎勵基準？\n",
      "參考答案：非公務機關就其所屬人員辦理業務涉及資通安全事項之獎勵，得依「公務機關所屬人員資通安全事項獎懲辦法」之規定，自行訂定相關基準。\n",
      "生成答案：非公務機關就其所屬人員辦理業務涉及資通安全事項之獎勵,得依「公務機關所屬人員資通安全事項獎懲辦法」之規定,自行訂定相關基準。\n",
      "ROUGE-L：0.967741935483871\n"
     ]
    },
    {
     "name": "stderr",
     "output_type": "stream",
     "text": [
      "Featurizing p: 100%|██████████| 56/56 [00:01<00:00, 55.39it/s]\n",
      "Featurizing q: 100%|██████████| 56/56 [00:00<00:00, 59.88it/s]\n"
     ]
    },
    {
     "name": "stdout",
     "output_type": "stream",
     "text": [
      "問題：如果校內發生資安事件但未通報，會有什麼後果？\n",
      "參考答案：校內發生資安事件，隱匿未向上級機關進行通報者，由本部資科司建議相關單位視情節輕重對所屬人員予以適度追究相關責任。\n",
      "生成答案：如果校內發生資安事件但未通報，將依據臺灣學術網路各級學校資通安全通報應變作業程序第三章第一節第二條規定進行處理。\n",
      "ROUGE-L：0.26785714285714285\n"
     ]
    },
    {
     "name": "stderr",
     "output_type": "stream",
     "text": [
      "Featurizing p: 100%|██████████| 74/74 [00:01<00:00, 55.88it/s]\n",
      "Featurizing q: 100%|██████████| 48/48 [00:00<00:00, 59.70it/s]\n"
     ]
    },
    {
     "name": "stdout",
     "output_type": "stream",
     "text": [
      "問題：當資通系統包含個人資料時，資料持有單位應如何處理？\n",
      "參考答案：各校轄下單位之資通系統，若包含教、職、員、生可識別之個人資料，則該系統資料持有單位應確實評估風險，主動加以防護或納入校內核心系統給予應有之級別防護。\n",
      "生成答案：當資通系統包含個人資料時，資料持有單位應依據相關法規保護個人隱私，並妥善管理與處理該等個人資料。\n",
      "ROUGE-L：0.3278688524590164\n"
     ]
    },
    {
     "name": "stderr",
     "output_type": "stream",
     "text": [
      "Featurizing p: 100%|██████████| 85/85 [00:01<00:00, 56.55it/s]\n",
      "Featurizing q: 100%|██████████| 86/86 [00:01<00:00, 59.96it/s]\n"
     ]
    },
    {
     "name": "stdout",
     "output_type": "stream",
     "text": [
      "問題：在什麼情況下可以建議減輕責任？\n",
      "參考答案：遵循本作業程序規定確實辦理資安事件通報及應變作業並提供資安紀錄，仍致政府或民眾權益受損時，區（縣）市教育網路中心及通報應變小組應協助提供資料予本部資科司，並建議減輕其責。\n",
      "生成答案：在遵循本作業程序規定確實辦理資安事件通報及應變作業並提供資安紀錄,仍致政府或民眾權益受損時,區(縣)市教育網路中心及通報應變小組應協助提供資料予本部資科司,並建議減輕其責。\n",
      "ROUGE-L：0.935672514619883\n"
     ]
    },
    {
     "name": "stderr",
     "output_type": "stream",
     "text": [
      "Featurizing p: 100%|██████████| 66/66 [00:01<00:00, 54.97it/s]\n",
      "Featurizing q: 100%|██████████| 73/73 [00:01<00:00, 59.38it/s]\n"
     ]
    },
    {
     "name": "stdout",
     "output_type": "stream",
     "text": [
      "問題：如果發現Google搜尋結果中出現不當資訊，應該如何確認網站是否遭到入侵？\n",
      "參考答案：確認該網站是否遭到入侵或被置入惡意程式，特別確認該網站網頁內容是否有類似不當連結或有相關轉址的指令，以避免被不當轉址至其它惡意網頁。\n",
      "生成答案：網站管理者可使用Google Search語法「Site:網站網址」查詢所管理的網站是否存在搜尋結果異常,以確認網站是否遭到入侵或被置入惡意程式。\n",
      "ROUGE-L：0.2733812949640288\n"
     ]
    },
    {
     "name": "stderr",
     "output_type": "stream",
     "text": [
      "Featurizing p: 100%|██████████| 54/54 [00:01<00:00, 53.12it/s]\n",
      "Featurizing q: 100%|██████████| 53/53 [00:00<00:00, 61.45it/s]\n"
     ]
    },
    {
     "name": "stdout",
     "output_type": "stream",
     "text": [
      "問題：網站管理者應該如何檢查網站是否存在搜尋結果異常？\n",
      "參考答案：網站管理者可使用Google Search 語法「Site:網站網址」查詢所管理的網站是否存在搜尋結果異常。\n",
      "生成答案：網站管理者可使用Google Search語法「Site:網站網址」查詢所管理的網站是否存在搜尋結果異常。\n",
      "ROUGE-L：0.9906542056074767\n"
     ]
    },
    {
     "name": "stderr",
     "output_type": "stream",
     "text": [
      "Featurizing p: 100%|██████████| 95/95 [00:01<00:00, 57.58it/s]\n",
      "Featurizing q: 100%|██████████| 125/125 [00:02<00:00, 60.99it/s]\n"
     ]
    },
    {
     "name": "stdout",
     "output_type": "stream",
     "text": [
      "問題：如何利用Google的服務來監控網站在搜尋結果中的表現？\n",
      "參考答案：建議網站管理者至Google Search Console 服務申請管理帳號，這是Google 提供的一項免費服務，能夠協助您監控及維持網站在Google 搜尋結果中的排名，並排解相關問題。\n",
      "生成答案：利用Google的服務來監控網站在搜尋結果中的表現，您可以透過Google Search Console 服務申請管理帳號，並輸入網域資訊。接著，您會進行驗證步驟，完成後即可使用該服務來監控及維持網站在Google 搜尋結果中的排名，並排解相關問題。\n",
      "ROUGE-L：0.6090909090909091\n"
     ]
    },
    {
     "name": "stderr",
     "output_type": "stream",
     "text": [
      "Featurizing p: 100%|██████████| 78/78 [00:01<00:00, 57.97it/s]\n",
      "Featurizing q: 100%|██████████| 83/83 [00:01<00:00, 61.41it/s]\n"
     ]
    },
    {
     "name": "stdout",
     "output_type": "stream",
     "text": [
      "問題：如果確認網站遭到SEO中毒攻擊，應該如何避免被查詢到錯誤資訊？\n",
      "參考答案：如確認已遭到SEO中毒攻擊（SEO Poisoning），即可至Google Search Console服務申請「移除網址」以避免被他人查詢到錯誤的資訊。\n",
      "生成答案：如果確認網站遭到SEO中毒攻擊,建議至Google Search Console服務申請「管理帳號」與申請「移除網址」,來清除Google 搜尋結果產生 的錯誤資訊。\n",
      "ROUGE-L：0.6086956521739131\n"
     ]
    },
    {
     "name": "stderr",
     "output_type": "stream",
     "text": [
      "Featurizing p: 100%|██████████| 85/85 [00:01<00:00, 57.22it/s]\n",
      "Featurizing q: 100%|██████████| 86/86 [00:01<00:00, 60.95it/s]\n"
     ]
    },
    {
     "name": "stdout",
     "output_type": "stream",
     "text": [
      "問題：在符合單位政策的情況下，如何避免搜尋引擎檢索站內搜尋結果？\n",
      "參考答案：在符合單位政策的情況下，可在robots.txt加上不允許搜尋引擎檢索站內搜尋結果之指令，也可在站內每個搜尋結果加上<meta noindex>，來避免被搜尋引擎所檢索。\n",
      "生成答案：在符合單位政策的情況下,可在robots.txt 加上不允許搜尋引擎檢索站內搜尋結果之指令,也可在站內每個搜尋結果加上<meta noindex>,來避免被搜尋引擎所檢索。\n",
      "ROUGE-L：0.9590643274853802\n"
     ]
    },
    {
     "name": "stderr",
     "output_type": "stream",
     "text": [
      "Featurizing p: 100%|██████████| 86/86 [00:01<00:00, 59.01it/s]\n",
      "Featurizing q: 100%|██████████| 221/221 [00:03<00:00, 61.75it/s]\n"
     ]
    },
    {
     "name": "stdout",
     "output_type": "stream",
     "text": [
      "問題：如何申請Google Search Console管理帳號？\n",
      "參考答案：網站管理者至Google Search Console服務(網址：https://search.google.com/u/1/search-console/)申請管理帳號。\n",
      "生成答案：要申請Google Search Console管理帳號,請依照以下步驟操作:\n",
      "\n",
      "1. 網站管理者至Google Search Console服務(網址:https://search.google.com/u/1/search-console/)申請管理帳號。\n",
      "2. 請輸入網域資訊,接著即會繼續如圖2的驗證程序,請下載該認證檔,並上傳至網站(通常為網站根目錄(Documentroot))。\n",
      "\n",
      "在上傳完成後,即可完成驗證所有權,如圖3所示。\n",
      "ROUGE-L：0.5537459283387622\n"
     ]
    },
    {
     "name": "stderr",
     "output_type": "stream",
     "text": [
      "Featurizing p: 100%|██████████| 62/62 [00:01<00:00, 55.69it/s]\n",
      "Featurizing q: 100%|██████████| 158/158 [00:02<00:00, 60.20it/s]\n"
     ]
    },
    {
     "name": "stdout",
     "output_type": "stream",
     "text": [
      "問題：申請Google Search Console管理帳號後，如何進行驗證程序？\n",
      "參考答案：請輸入網域資訊，接著即會繼續如圖2的驗證程序，請下載該認證檔，並上傳至網站(通常為網站根目錄(Documentroot))。\n",
      "生成答案：1. 網站管理者至 Google Search Console 服務(網址: https://search.google.com/u/1/search-console/)申請管理帳號。\n",
      "2. 請輸入網域資訊,接著即會繼續如圖2的驗證程序,請下載該認證檔,並上傳至網站(通常為網站根目錄(Documentroot))。\n",
      "ROUGE-L：0.5363636363636364\n"
     ]
    },
    {
     "name": "stderr",
     "output_type": "stream",
     "text": [
      "Featurizing p: 100%|██████████| 17/17 [00:00<00:00, 50.20it/s]\n",
      "Featurizing q: 100%|██████████| 199/199 [00:03<00:00, 60.51it/s]\n"
     ]
    },
    {
     "name": "stdout",
     "output_type": "stream",
     "text": [
      "問題：如何在 Google Search Console 中完成網站所有權的驗證？\n",
      "參考答案：在上傳完成後，即可完成驗證所有權。\n",
      "生成答案：要在 Google Search Console 中完成網站所有權的驗證，請按照以下步驟進行：\n",
      "\n",
      "1. 網站管理者登入 Google Search Console 服務後，點選「移除網址」，再點選「新要求」。\n",
      "2. 輸入要清除的網址等資訊。\n",
      "3. 等待 Google 作業完成後，即可清除相關資訊。\n",
      "\n",
      "驗證成功後，您可以使用 google 搜尋語法（site:網站網址）來確認相關資訊是否已被移除。\n",
      "ROUGE-L：0.0925925925925926\n"
     ]
    },
    {
     "name": "stderr",
     "output_type": "stream",
     "text": [
      "Featurizing p: 100%|██████████| 90/90 [00:01<00:00, 57.29it/s]\n",
      "Featurizing q: 100%|██████████| 173/173 [00:02<00:00, 61.15it/s]\n"
     ]
    },
    {
     "name": "stdout",
     "output_type": "stream",
     "text": [
      "問題：網站管理者如何申請移除網址？\n",
      "參考答案：網站管理者登入Google Search Console 服務後，先點選「移除網址」，再點選「新要求」後，即可輸入要清除的網址等資訊，待Google 作業完成後，即可清除相關資訊。\n",
      "生成答案：網站管理者可以透過以下步驟申請移除網址：\n",
      "\n",
      "1. 登入 Google Search Console 服務。\n",
      "2. 點選「(A) 移除網址」,再點選「(B) 新要求」後輸入要清除的網址等資訊。\n",
      "3. 等待 Google 作業完成後即可清除相關資訊。\n",
      "\n",
      "使用者也可以利用 Google 搜尋語法 (site: 網站網址) 來確認相關資訊是否已被移除。\n",
      "ROUGE-L：0.6159695817490495\n"
     ]
    },
    {
     "name": "stderr",
     "output_type": "stream",
     "text": [
      "Featurizing p: 100%|██████████| 28/28 [00:00<00:00, 52.19it/s]\n",
      "Featurizing q: 100%|██████████| 32/32 [00:00<00:00, 57.40it/s]\n"
     ]
    },
    {
     "name": "stdout",
     "output_type": "stream",
     "text": [
      "問題：在資安事件通報流程中，新增了哪個欄位以記錄事件確認時間？\n",
      "參考答案：於通報流程中新增「確認時間」欄位，以利記錄事件確認時間。\n",
      "生成答案：在資安事件通報流程中，新增了「確認時間」欄位以記錄事件確認時間。\n",
      "ROUGE-L：0.8333333333333334\n"
     ]
    },
    {
     "name": "stderr",
     "output_type": "stream",
     "text": [
      "Featurizing p: 100%|██████████| 32/32 [00:00<00:00, 54.03it/s]\n",
      "Featurizing q: 100%|██████████| 22/22 [00:00<00:00, 56.34it/s]\n"
     ]
    },
    {
     "name": "stdout",
     "output_type": "stream",
     "text": [
      "問題：應變流程中新增了什麼欄位以便處理人員填寫事件改善措施？\n",
      "參考答案：於應變流程中新增「改善措施」欄位，以利處理人員填寫事件改善措施。\n",
      "生成答案：於現行應變流程填寫欄位新增「改善措施」欄位。\n",
      "ROUGE-L：0.5925925925925926\n"
     ]
    },
    {
     "name": "stderr",
     "output_type": "stream",
     "text": [
      "Featurizing p: 100%|██████████| 49/49 [00:00<00:00, 55.41it/s]\n",
      "Featurizing q: 100%|██████████| 23/23 [00:00<00:00, 60.08it/s]\n"
     ]
    },
    {
     "name": "stdout",
     "output_type": "stream",
     "text": [
      "問題：事件通報應變完成後，新增了什麼功能以便處理人員列印事件內容？\n",
      "參考答案：於事件通報應變完成後，於「歷史通報」中新增「事件列印」功能，以利處理人員列印事件內容送呈單位主管。\n",
      "生成答案：新增「事件列印」功能以便處理人員列印事件內容。\n",
      "ROUGE-L：0.6111111111111112\n"
     ]
    },
    {
     "name": "stderr",
     "output_type": "stream",
     "text": [
      "Featurizing p: 100%|██████████| 46/46 [00:00<00:00, 56.10it/s]\n",
      "Featurizing q: 100%|██████████| 46/46 [00:00<00:00, 60.38it/s]\n"
     ]
    },
    {
     "name": "stdout",
     "output_type": "stream",
     "text": [
      "問題：公務機關知悉資通安全事件後，應在多長時間內進行通報？\n",
      "參考答案：公務機關知悉資通安全事件後，應於一小時內依主管機關指定之方式及對象，進行資通安全事件之通報。\n",
      "生成答案：公務機關知悉資通安全事件後，應於一小時內依主管機關指定之方式及對象，進行資通安全事件之通報。\n",
      "ROUGE-L：1.0\n"
     ]
    },
    {
     "name": "stderr",
     "output_type": "stream",
     "text": [
      "Featurizing p: 100%|██████████| 52/52 [00:00<00:00, 56.82it/s]\n",
      "Featurizing q: 100%|██████████| 51/51 [00:00<00:00, 60.08it/s]\n"
     ]
    },
    {
     "name": "stdout",
     "output_type": "stream",
     "text": [
      "問題：特定非公務機關知悉資通安全事件後，應如何進行通報？\n",
      "參考答案：特定非公務機關知悉資通安全事件後，應於一小時內依中央目的事業主管機關指定之方式，進行資通安全事件之通報。\n",
      "生成答案：特定非公務機關知悉資通安全事件後，應於一小時內依中央目的事業主管機關指定之方式進行資通安全事件之通報。\n",
      "ROUGE-L：0.9902912621359222\n"
     ]
    },
    {
     "name": "stderr",
     "output_type": "stream",
     "text": [
      "Featurizing p: 100%|██████████| 71/71 [00:01<00:00, 57.05it/s]\n",
      "Featurizing q: 100%|██████████| 25/25 [00:00<00:00, 60.38it/s]\n"
     ]
    },
    {
     "name": "stdout",
     "output_type": "stream",
     "text": [
      "問題：各連線單位發現資安事件後，應在確認後多長時間內通報？\n",
      "參考答案：各連線單位發現資安事件後可先進行事件確認，經確認為資安事件後，須於一小時內，至通報應變網站通報登錄資安事件細節、影響等級及是否申請支援等資訊。\n",
      "生成答案：各連線單位發現資安事件後,應在確認後一小時內通報。\n",
      "ROUGE-L：0.45833333333333337\n"
     ]
    },
    {
     "name": "stderr",
     "output_type": "stream",
     "text": [
      "Featurizing p: 100%|██████████| 22/22 [00:00<00:00, 52.24it/s]\n",
      "Featurizing q: 100%|██████████| 38/38 [00:00<00:00, 59.76it/s]\n"
     ]
    },
    {
     "name": "stdout",
     "output_type": "stream",
     "text": [
      "問題：在資安事件通報流程中，新增的『確認時間』欄位是什麼時候需要填寫的？\n",
      "參考答案：於現行通報流程填寫欄位新增『確認時間』欄位。\n",
      "生成答案：在資安事件通報流程中，新增的『確認時間』欄位是需要於事件確認後1小時內填寫。\n",
      "ROUGE-L：0.5\n"
     ]
    },
    {
     "name": "stderr",
     "output_type": "stream",
     "text": [
      "Featurizing p: 100%|██████████| 41/41 [00:00<00:00, 55.89it/s]\n",
      "Featurizing q: 100%|██████████| 32/32 [00:00<00:00, 60.19it/s]\n"
     ]
    },
    {
     "name": "stdout",
     "output_type": "stream",
     "text": [
      "問題：資安事件的確認時間有什麼作用？\n",
      "參考答案：確認時間指各連線單位發現資安事件後可先進行事件確認，經確認資安事件條件成立之時間。\n",
      "生成答案：確認時間的作用是記錄事件確認的時間，以利於資安事件的追蹤和處理。\n",
      "ROUGE-L：0.3835616438356165\n"
     ]
    },
    {
     "name": "stderr",
     "output_type": "stream",
     "text": [
      "Featurizing p: 100%|██████████| 20/20 [00:00<00:00, 52.56it/s]\n",
      "Featurizing q: 100%|██████████| 20/20 [00:00<00:00, 54.70it/s]\n"
     ]
    },
    {
     "name": "stdout",
     "output_type": "stream",
     "text": [
      "問題：資安事件通報流程需要在確認時間後多久內完成？\n",
      "參考答案：事件通報流程需於確認時間後1小時內完成。\n",
      "生成答案：事件通報流程需於確認時間後1小時內完成。\n",
      "ROUGE-L：1.0\n"
     ]
    },
    {
     "name": "stderr",
     "output_type": "stream",
     "text": [
      "Featurizing p: 100%|██████████| 20/20 [00:00<00:00, 50.82it/s]\n",
      "Featurizing q: 100%|██████████| 209/209 [00:03<00:00, 59.41it/s]\n"
     ]
    },
    {
     "name": "stdout",
     "output_type": "stream",
     "text": [
      "問題：新增確認時間後，資安事件的應變時效是否有所改變？\n",
      "參考答案：事件通報應變時效不因新增確認時間而改變。\n",
      "生成答案：是的，資安事件的應變時效不因新增確認時間而改變。依據「臺灣學術網路各級學校資通安全通報應變作業程序」第三章第一節第二條規定：「各連線單位發現資安事件後可先進行事件確認，經確認為資安事件後，須於一小時內,至通報應變網站通報登錄資安事件細節、影響等級及是否申請支援等資訊,並評估該事件是否影響其他連線單位運作。」因此，無論是否新增確認時間，「1」、「2」級事件需於72小時內完成; 「3」、「4」級事件需於36小時內完成。\n",
      "ROUGE-L：0.1572052401746725\n"
     ]
    },
    {
     "name": "stderr",
     "output_type": "stream",
     "text": [
      "Featurizing p: 100%|██████████| 40/40 [00:00<00:00, 54.44it/s]\n",
      "Featurizing q: 100%|██████████| 40/40 [00:00<00:00, 59.44it/s]\n"
     ]
    },
    {
     "name": "stdout",
     "output_type": "stream",
     "text": [
      "問題：不同等級的資安事件需要在多長時間內完成應變？\n",
      "參考答案：『1』、『2』級事件需於72小時內完成；『3』、『4』級事件需於36小時內完成。\n",
      "生成答案：「1」、「2」級事件需於72小時內完成;「3」、「4」級事件需於36小時內完成。\n",
      "ROUGE-L：0.775\n"
     ]
    },
    {
     "name": "stderr",
     "output_type": "stream",
     "text": [
      "Featurizing p: 100%|██████████| 20/20 [00:00<00:00, 51.19it/s]\n",
      "Featurizing q: 100%|██████████| 46/46 [00:00<00:00, 60.06it/s]\n"
     ]
    },
    {
     "name": "stdout",
     "output_type": "stream",
     "text": [
      "問題：在應變流程中，應該在哪裡填寫改善措施？\n",
      "參考答案：於現行應變流程填寫欄位新增「改善措施」。\n",
      "生成答案：在應變流程中，應該於「改善措施」欄位填寫改善措施，包含「改善辦法」及「改善時間」等相關資訊。\n",
      "ROUGE-L：0.36363636363636365\n"
     ]
    },
    {
     "name": "stderr",
     "output_type": "stream",
     "text": [
      "Featurizing p: 100%|██████████| 22/22 [00:00<00:00, 52.74it/s]\n",
      "Featurizing q: 100%|██████████| 98/98 [00:01<00:00, 60.20it/s]\n"
     ]
    },
    {
     "name": "stdout",
     "output_type": "stream",
     "text": [
      "問題：改善措施欄位中需要包含哪些內容？\n",
      "參考答案：改善措施包含「改善辦法」及「改善時間」欄位。\n",
      "生成答案：改善措施欄位中需要包含的內容為：一、缺失或待改善之項目及內容。二、發生原因。三、為改正缺失或補強待改善項目所採取管理、技術、人力或資源等層面之措施。四、前款措施之預定完成時程及執行進度之追蹤方式。\n",
      "ROUGE-L：0.21666666666666667\n"
     ]
    },
    {
     "name": "stderr",
     "output_type": "stream",
     "text": [
      "Featurizing p: 100%|██████████| 53/53 [00:00<00:00, 54.01it/s]\n",
      "Featurizing q: 100%|██████████| 27/27 [00:00<00:00, 60.56it/s]\n"
     ]
    },
    {
     "name": "stdout",
     "output_type": "stream",
     "text": [
      "問題：改善措施的目的為何？\n",
      "參考答案：改善措施指各連線單位於完成通報應變後，針對事件發生提出相關改善措施，以完備事件處理流程及預防事件重覆發生。\n",
      "生成答案：改善措施的目的為完備事 件處理流程及預防事件重覆發生。\n",
      "ROUGE-L：0.55\n"
     ]
    },
    {
     "name": "stderr",
     "output_type": "stream",
     "text": [
      "Featurizing p: 100%|██████████| 80/80 [00:01<00:00, 56.44it/s]\n",
      "Featurizing q: 100%|██████████| 137/137 [00:02<00:00, 60.41it/s]\n"
     ]
    },
    {
     "name": "stdout",
     "output_type": "stream",
     "text": [
      "問題：在資安事件通報應變完成後，應如何處理列印單件？\n",
      "參考答案：依據臺灣學術網路各級學校資通安全通報應變作業程序第三章第一節第六條規定，『2』、『1』級資安事件通報應變完成後，應至通報應變網站列印單件，每月彙整送呈單位主管。\n",
      "生成答案：在資安事件通報應變完成後,依據臺灣學術網路各級學校資通安全通報應變作業程序第三章第一節第六條規定:\n",
      "- 「2」、「1」級資安事件通報應變完成後,應至通報應變網站列印單件,每月彙整送呈單位主管; \n",
      "- 「4」、「3」級資安事件需於事件發生後36小時內,通報送陳單位資通安全長。\n",
      "ROUGE-L：0.6728110599078342\n"
     ]
    },
    {
     "name": "stderr",
     "output_type": "stream",
     "text": [
      "Featurizing p: 100%|██████████| 37/37 [00:00<00:00, 53.13it/s]\n",
      "Featurizing q: 100%|██████████| 48/48 [00:00<00:00, 59.02it/s]\n"
     ]
    },
    {
     "name": "stdout",
     "output_type": "stream",
     "text": [
      "問題：發生『4』或『3』級資安事件後，應在多久內通報送陳單位資通安全長？\n",
      "參考答案：『4』、『3』級資安事件需於事件發生後36小時內，通報送陳單位資通安全長。\n",
      "生成答案：發生『4』或『3』級資安事件後,應於一個月內將調查、處理及改善報告函送本部,由本部彙送主管機關。\n",
      "ROUGE-L：0.3764705882352941\n"
     ]
    },
    {
     "name": "stderr",
     "output_type": "stream",
     "text": [
      "Featurizing p: 100%|██████████| 45/45 [00:00<00:00, 52.77it/s]\n",
      "Featurizing q: 100%|██████████| 87/87 [00:01<00:00, 59.95it/s]\n"
     ]
    },
    {
     "name": "stdout",
     "output_type": "stream",
     "text": [
      "問題：如何在教育機構資安通報平台上列印事件單？\n",
      "參考答案：於登入『教育機構資安通報平台』後，左側『歷史通報』中即可套表列印貴單位事件單以利送呈簽核。\n",
      "生成答案：1. 登入「教育機構資安通報平台」後,左側「歷史通報」中即可套表列印貴單位事件單以利送呈簽核。\n",
      "2. 於登入「教育機構資安通報平台」後,點選「事件列印」即可列印所需的事件單。\n",
      "ROUGE-L：0.5909090909090909\n"
     ]
    },
    {
     "name": "stderr",
     "output_type": "stream",
     "text": [
      "Featurizing p: 100%|██████████| 21/21 [00:00<00:00, 51.61it/s]\n",
      "Featurizing q: 100%|██████████| 21/21 [00:00<00:00, 53.89it/s]\n"
     ]
    },
    {
     "name": "stdout",
     "output_type": "stream",
     "text": [
      "問題：事件確認後需要在多長時間內完成確認時間的新增？\n",
      "參考答案：新增「確認時間」並於事件確認後一小時內完成\n",
      "生成答案：事件確認後需要在1小時內完成新增確認時間。\n",
      "ROUGE-L：0.47619047619047616\n"
     ]
    },
    {
     "name": "stderr",
     "output_type": "stream",
     "text": [
      "Featurizing p: 100%|██████████| 17/17 [00:00<00:00, 51.89it/s]\n",
      "Featurizing q: 100%|██████████| 37/37 [00:00<00:00, 55.06it/s]\n"
     ]
    },
    {
     "name": "stdout",
     "output_type": "stream",
     "text": [
      "問題：為了完備事件處理流程，新增了什麼項目？\n",
      "參考答案：新增「改善措施」以完備事件處理流程\n",
      "生成答案：新增了「確認時間」、「改善措施」及「事件列印」等項目，以完備事件處理流程。\n",
      "ROUGE-L：0.6296296296296297\n"
     ]
    },
    {
     "name": "stderr",
     "output_type": "stream",
     "text": [
      "Featurizing p: 100%|██████████| 14/14 [00:00<00:00, 51.94it/s]\n",
      "Featurizing q: 100%|██████████| 30/30 [00:00<00:00, 54.18it/s]\n"
     ]
    },
    {
     "name": "stdout",
     "output_type": "stream",
     "text": [
      "問題：事件列印功能的新增是為了什麼目的？\n",
      "參考答案：新增「事件列印」以利送呈簽核\n",
      "生成答案：事件列印功能的新增是為了利處理人員列印事件內容送呈單位主管。\n",
      "ROUGE-L：0.3181818181818182\n"
     ]
    },
    {
     "name": "stderr",
     "output_type": "stream",
     "text": [
      "Featurizing p: 100%|██████████| 42/42 [00:00<00:00, 55.30it/s]\n",
      "Featurizing q: 100%|██████████| 247/247 [00:04<00:00, 60.57it/s]\n"
     ]
    },
    {
     "name": "stdout",
     "output_type": "stream",
     "text": [
      "問題：各單位在進行資安通報應變作業時需要注意什麼？\n",
      "參考答案：各單位務必掌握時效依照相關規定完成通報應變作業，以避免相關刑事、民事及行政相關責任。\n",
      "生成答案：各單位在進行資安通報應變作業時需要注意以下事項：\n",
      "1. 於完成複核後,聯繫區、縣(市)網路中心確認技術支援事項,並通報本部資科司及協調提供技術支援方式。\n",
      "2. 彙整各級資安事件,定期提供至本部資科司;如接獲「4」、「3」級資安事件,應通報本部資科司。\n",
      "3. 經本部確認級別後一小時內,依行政院指定方式及對象,進行資通安全事件通報,俾供研析相關因應作為。\n",
      "4. 「4」、「3」級資安事件，本部資科司得依事件情形邀集相關處理單位,召開緊急應變會議;必要時逐級陳報至本部資通安全長,召開資安防護會議。\n",
      "ROUGE-L：0.13148788927335642\n"
     ]
    },
    {
     "name": "stderr",
     "output_type": "stream",
     "text": [
      "Featurizing p: 100%|██████████| 65/65 [00:01<00:00, 55.65it/s]\n",
      "Featurizing q: 100%|██████████| 105/105 [00:01<00:00, 60.60it/s]\n"
     ]
    },
    {
     "name": "stdout",
     "output_type": "stream",
     "text": [
      "問題：資安通報平台新增了哪些事件類型分類？\n",
      "參考答案：資安通報平台新增了OTHER(其它事件)類別，其事件類型包含：「設備故障/毀損」、「電力異常」、「網路服務中斷」、「設備遺失」等。\n",
      "生成答案：資安通報平台新增的事件類型分類包括「INT(入侵攻擊)」、「DEF(網頁攻擊)」和「OTHER(其它事件)」。其中「其他事件」的類別包含了「設備故障/毀損」、「電力異常」、「網路服務中斷」、「設備遺失」等事件。\n",
      "ROUGE-L：0.6941176470588235\n"
     ]
    },
    {
     "name": "stderr",
     "output_type": "stream",
     "text": [
      "Featurizing p: 100%|██████████| 39/39 [00:00<00:00, 55.85it/s]\n",
      "Featurizing q: 100%|██████████| 38/38 [00:00<00:00, 61.07it/s]\n"
     ]
    },
    {
     "name": "stdout",
     "output_type": "stream",
     "text": [
      "問題：除了新增的OTHER類別，資安通報平台原有的事件分類有哪些？\n",
      "參考答案：資安通報平台原有的事件分類有「INT(入侵攻擊)」以及「DEF(網頁攻擊)」。\n",
      "生成答案：資安通報平台原有的事件分類有「INT(入侵攻擊)」及「DEF(網頁攻擊)」。\n",
      "ROUGE-L：0.9870129870129869\n"
     ]
    },
    {
     "name": "stderr",
     "output_type": "stream",
     "text": [
      "Featurizing p: 100%|██████████| 157/157 [00:02<00:00, 58.52it/s]\n",
      "Featurizing q: 100%|██████████| 187/187 [00:03<00:00, 60.92it/s]\n"
     ]
    },
    {
     "name": "stdout",
     "output_type": "stream",
     "text": [
      "問題：當發生重大個資外洩事件時，應如何進行通報？\n",
      "參考答案：若為重大個資(個人資料)外洩事件，欲通報三級以上之事件，請於確認外洩事實明確的情況下，進行通報，並於通報單內說明下列事項：1. 確定洩漏筆數 (如約100 筆個資) 2. 確定洩漏資訊欄位 (如姓名,地址,身份證字號等資訊) 3. 確定外洩管道 (如人為疏失等) 4. 遭受揭露個資之儲存媒體（如網站，資料庫等）。\n",
      "生成答案：當發生重大個資外洩事件時,應依個人資料保護法(第12條)及個人資料保護法施行細則(第22 條)進行個資外洩公告。臺灣學術網路危機處理中心(TACERT) TANet Computer Emergency Response Team 單位於確認三級(含)以上事件成立後,在損害控管完成後,依資通安全事件 通報及應變辦法之規範,事發機關應於1個月內提交相關改善報告至 主管機關。\n",
      "ROUGE-L：0.15697674418604649\n"
     ]
    },
    {
     "name": "stderr",
     "output_type": "stream",
     "text": [
      "Featurizing p: 100%|██████████| 57/57 [00:01<00:00, 55.52it/s]\n",
      "Featurizing q: 100%|██████████| 85/85 [00:01<00:00, 60.39it/s]\n"
     ]
    },
    {
     "name": "stdout",
     "output_type": "stream",
     "text": [
      "問題：在資安事件等級綜合評估中，何時核心業務的中斷是不可容忍的？\n",
      "參考答案：核心業務(未涉及CI 維運)在3級時嚴重影響是不可容忍的，核心業務(涉及CI 維運)在4級時嚴重影響是不可容忍的。\n",
      "生成答案：在資安事件等級綜合評估中,核心業務的中斷是不可容忍的,當涉及關鍵基礎設施維運之核心業務或核心資通系統之運作受影響或停頓,無法於可容忍中斷時間內回復正常運作時,屬4級事件。\n",
      "ROUGE-L：0.29577464788732394\n"
     ]
    },
    {
     "name": "stderr",
     "output_type": "stream",
     "text": [
      "Featurizing p: 100%|██████████| 49/49 [00:00<00:00, 56.59it/s]\n",
      "Featurizing q: 100%|██████████| 45/45 [00:00<00:00, 59.91it/s]\n"
     ]
    },
    {
     "name": "stdout",
     "output_type": "stream",
     "text": [
      "問題：如果核心業務涉及CI維運且受到輕微影響，業務是否可於可容忍中斷時間回復？\n",
      "參考答案：核心業務(涉及CI 維運)輕微影響時，核心/資通系統(涉及CI 維運)是可於可容忍中斷時間回復的。\n",
      "生成答案：根據提供的文件內容,如果核心業務涉及CI維運且受到輕微影響,業務是可於可容忍中斷時間回復。\n",
      "ROUGE-L：0.5744680851063829\n"
     ]
    },
    {
     "name": "stderr",
     "output_type": "stream",
     "text": [
      "Featurizing p: 100%|██████████| 24/24 [00:00<00:00, 51.92it/s]\n",
      "Featurizing q: 100%|██████████| 24/24 [00:00<00:00, 58.56it/s]\n"
     ]
    },
    {
     "name": "stdout",
     "output_type": "stream",
     "text": [
      "問題：在確認三級以上事件成立後，事發機關需要在什麼時候提交改善報告？\n",
      "參考答案：事發機關應於１個月內提交相關改善報告至主管機關。\n",
      "生成答案：事發機關應於1個月內提交相關改善報告至主管機關。\n",
      "ROUGE-L：0.9583333333333334\n"
     ]
    },
    {
     "name": "stderr",
     "output_type": "stream",
     "text": [
      "Featurizing p: 100%|██████████| 74/74 [00:01<00:00, 58.12it/s]\n",
      "Featurizing q: 100%|██████████| 41/41 [00:00<00:00, 59.84it/s]\n"
     ]
    },
    {
     "name": "stdout",
     "output_type": "stream",
     "text": [
      "問題：在哪裡可以下載資安事件改善報告的空白格式？\n",
      "參考答案：可以在 https://info.cert.tanet.edu.tw/docinfo/infoattach.zip 下載資安事件改善報告的空白格式。\n",
      "生成答案：在教育機構資安通報平台中,左側「歷史通報」中即可套表列印貴單位事件單以利送呈簽核。\n",
      "ROUGE-L：0.10434782608695652\n"
     ]
    },
    {
     "name": "stderr",
     "output_type": "stream",
     "text": [
      "Featurizing p: 100%|██████████| 21/21 [00:00<00:00, 53.08it/s]\n",
      "Featurizing q: 100%|██████████| 21/21 [00:00<00:00, 55.85it/s]\n"
     ]
    },
    {
     "name": "stdout",
     "output_type": "stream",
     "text": [
      "問題：教育機構資安通報平台新增的欄位資料何時正式上線？\n",
      "參考答案：新增欄位預計於112 年6 月初正式上線。\n",
      "生成答案：新增欄位預計於112 年6 月初正式上線。\n",
      "ROUGE-L：1.0\n"
     ]
    },
    {
     "name": "stderr",
     "output_type": "stream",
     "text": [
      "Featurizing p: 100%|██████████| 58/58 [00:01<00:00, 57.12it/s]\n",
      "Featurizing q: 100%|██████████| 65/65 [00:01<00:00, 60.85it/s]\n"
     ]
    },
    {
     "name": "stdout",
     "output_type": "stream",
     "text": [
      "問題：在資安通報流程中，新增了哪些欄位資料？\n",
      "參考答案：通報流程新增「受駭設備類型」、「受害設備說明」、「損害類別說明」、「攻擊手法」、「調查說明」、「情資類型」欄位資料。\n",
      "生成答案：在資安通報流程中新增的欄位資料包括「受駭設備類型」、「受害設備說明」、「損害類別說明」、「攻擊手法」、「調查說明」、「情資類型」。\n",
      "ROUGE-L：0.8780487804878049\n"
     ]
    },
    {
     "name": "stderr",
     "output_type": "stream",
     "text": [
      "Featurizing p: 100%|██████████| 31/31 [00:00<00:00, 52.22it/s]\n",
      "Featurizing q: 100%|██████████| 36/36 [00:00<00:00, 59.61it/s]\n"
     ]
    },
    {
     "name": "stdout",
     "output_type": "stream",
     "text": [
      "問題：如果我遇到系統被未經授權存取的情況，應該將其歸類為哪種情資類型？\n",
      "參考答案：入侵攻擊：針對系統遭未經授權存取或取得系統/使用者權限之事件。\n",
      "生成答案：如果你遇到系統被未經授權存取的情況，應該將其歸類為「入侵攻擊」情資類型。\n",
      "ROUGE-L：0.2686567164179105\n"
     ]
    },
    {
     "name": "stderr",
     "output_type": "stream",
     "text": [
      "Featurizing p: 100%|██████████| 17/17 [00:00<00:00, 51.98it/s]\n",
      "Featurizing q: 100%|██████████| 26/26 [00:00<00:00, 55.79it/s]\n"
     ]
    },
    {
     "name": "stdout",
     "output_type": "stream",
     "text": [
      "問題：當發現系統存在弱點時，這屬於哪一類的事件？\n",
      "參考答案：系統弱點：針對系統存在弱點之事件。\n",
      "生成答案：當發現系統存在弱點時，屬於「系統弱點」這一類的事件。\n",
      "ROUGE-L：0.5116279069767442\n"
     ]
    },
    {
     "name": "stderr",
     "output_type": "stream",
     "text": [
      "Featurizing p: 100%|██████████| 32/32 [00:00<00:00, 52.41it/s]\n",
      "Featurizing q: 100%|██████████| 16/16 [00:00<00:00, 55.98it/s]\n"
     ]
    },
    {
     "name": "stdout",
     "output_type": "stream",
     "text": [
      "問題：如果有攻擊行為是偽冒他人身分進行的，這應該歸類為什麼類型？\n",
      "參考答案：詐欺攻擊：針對偽冒他人身分、系統服務及組織等進行攻擊行為之事件。\n",
      "生成答案：這應該歸類為針對性的APT攻擊。\n",
      "ROUGE-L：0.20833333333333334\n"
     ]
    },
    {
     "name": "stderr",
     "output_type": "stream",
     "text": [
      "Featurizing p: 100%|██████████| 18/18 [00:00<00:00, 51.50it/s]\n",
      "Featurizing q: 100%|██████████| 47/47 [00:00<00:00, 59.18it/s]\n"
     ]
    },
    {
     "name": "stdout",
     "output_type": "stream",
     "text": [
      "問題：在處理惡意程式相關事件時，應選擇哪種情資類型？\n",
      "參考答案：惡意程式：針對與相關惡意程式之事件。\n",
      "生成答案：在處理惡意程式相關事件時，應選擇「情資類型」為 (2). 惡意程式:針對與相關惡意程式之事件。\n",
      "ROUGE-L：0.5230769230769231\n"
     ]
    },
    {
     "name": "stderr",
     "output_type": "stream",
     "text": [
      "Featurizing p: 100%|██████████| 27/27 [00:00<00:00, 52.70it/s]\n",
      "Featurizing q: 100%|██████████| 129/129 [00:02<00:00, 58.98it/s]\n"
     ]
    },
    {
     "name": "stdout",
     "output_type": "stream",
     "text": [
      "問題：如果發現有攻擊影響到服務的可用性，這應該被歸類為哪種事件？\n",
      "參考答案：阻斷服務：針對影響服務可用性或造成服務中斷之攻擊事件。\n",
      "生成答案：如果發現有攻擊影響到服務的可用性，這應該被歸類為 3 級-未涉及關鍵基礎設施維運之核心業務或核心資通系統之運作受影響或停頓,無法於可容忍中斷時間內回復正常運作,或涉及關鍵基礎設施維運之核心業務或核心資通系統之運作受影響或停頓,於可容忍中斷時間內回復正常運作。\n",
      "ROUGE-L：0.15384615384615385\n"
     ]
    },
    {
     "name": "stderr",
     "output_type": "stream",
     "text": [
      "Featurizing p: 100%|██████████| 68/68 [00:01<00:00, 56.72it/s]\n",
      "Featurizing q: 100%|██████████| 89/89 [00:01<00:00, 60.23it/s]\n"
     ]
    },
    {
     "name": "stdout",
     "output_type": "stream",
     "text": [
      "問題：在應變流程中，如何選擇適合的損害控制狀態選項？\n",
      "參考答案：應根據實際狀況選擇適合的選項：1、損害控制：已控管此事件所造成的危害。2、完成損害控制與復原：已控管此事件所造成的危害並已完成系統復原。\n",
      "生成答案：在應變流程中,選擇適合的損害控制狀態選項時,可分為下列兩種狀態:\n",
      "1. 損害控制:已控管此事件所造成的危害。\n",
      "2. 完成損害控制與復原:已控管此事件所造成的危害並已完成系統復原。\n",
      "ROUGE-L：0.7261146496815287\n"
     ]
    },
    {
     "name": "stderr",
     "output_type": "stream",
     "text": [
      "Featurizing p: 100%|██████████| 26/26 [00:00<00:00, 53.92it/s]\n",
      "Featurizing q: 100%|██████████| 174/174 [00:02<00:00, 60.75it/s]\n"
     ]
    },
    {
     "name": "stdout",
     "output_type": "stream",
     "text": [
      "問題：在進行系統調查時，應該檢查哪些系統或網路相關資訊？\n",
      "參考答案：檢查系統或網路相關LOG 資訊，查看是否有異常之處。\n",
      "生成答案：在進行系統調查時,應該檢查以下系統或網路相關資訊:\n",
      "1. 檢查系統或網路相關LOG 資訊,查看是否有異常之處。\n",
      "2. 利用如TCPVIEW 工具軟體或netstat 指令來查看系統是否有開啟可疑之服務或是否有可疑之來源連線。\n",
      "3. 查看防火牆之連線記錄,確認是否有可疑之連線。\n",
      "4. 如果有設置入侵偵測軟體(IDS),進行查看是否有惡意的連線行為。\n",
      "ROUGE-L：0.25\n"
     ]
    },
    {
     "name": "stderr",
     "output_type": "stream",
     "text": [
      "Featurizing p: 100%|██████████| 53/53 [00:00<00:00, 54.57it/s]\n",
      "Featurizing q: 100%|██████████| 53/53 [00:00<00:00, 61.16it/s]\n"
     ]
    },
    {
     "name": "stdout",
     "output_type": "stream",
     "text": [
      "問題：如何查看系統是否有開啟可疑的服務或來源連線？\n",
      "參考答案：利用如TCPVIEW 工具軟體或netstat 指令來查看系統是否有開啟可疑之服務或是否有可疑之來源連線。\n",
      "生成答案：利用如TCPVIEW 工具軟體或netstat 指令來查看系統是否有開啟可疑之服務或是否有可疑之來源連線。\n",
      "ROUGE-L：1.0\n"
     ]
    },
    {
     "name": "stderr",
     "output_type": "stream",
     "text": [
      "Featurizing p: 100%|██████████| 22/22 [00:00<00:00, 52.54it/s]\n",
      "Featurizing q: 100%|██████████| 14/14 [00:00<00:00, 57.24it/s]\n"
     ]
    },
    {
     "name": "stdout",
     "output_type": "stream",
     "text": [
      "問題：在防火牆中應該檢查什麼以確認是否有可疑連線？\n",
      "參考答案：查看防火牆之連線記錄，確認是否有可疑之連線。\n",
      "生成答案：在防火牆中應該檢查可疑連線。\n",
      "ROUGE-L：0.4444444444444444\n"
     ]
    },
    {
     "name": "stderr",
     "output_type": "stream",
     "text": [
      "Featurizing p: 100%|██████████| 15/15 [00:00<00:00, 52.19it/s]\n",
      "Featurizing q: 100%|██████████| 34/34 [00:00<00:00, 55.49it/s]\n"
     ]
    },
    {
     "name": "stdout",
     "output_type": "stream",
     "text": [
      "問題：如果有設置入侵偵測軟體（IDS），應該如何使用來檢查系統安全？\n",
      "參考答案：進行查看是否有惡意的連線行為。\n",
      "生成答案：如果有設置入侵偵測軟體( IDS ),進行查看是否有惡意的連線行為。\n",
      "ROUGE-L：0.6122448979591837\n"
     ]
    },
    {
     "name": "stderr",
     "output_type": "stream",
     "text": [
      "Featurizing p: 100%|██████████| 67/67 [00:01<00:00, 56.03it/s]\n",
      "Featurizing q: 100%|██████████| 146/146 [00:02<00:00, 61.08it/s]\n"
     ]
    },
    {
     "name": "stdout",
     "output_type": "stream",
     "text": [
      "問題：如果我想查詢或閱覽我的個人資料，該怎麼做？\n",
      "參考答案：可透過書面或撥打服務專線07-5250211(週一~週五 09:00~17:00)，請TACERT提供查詢或請求閱覽您的個人資料服務。\n",
      "生成答案：您可以透過以下方式查詢或閱覽您的個人資料:\n",
      "\n",
      "1. 撥打服務專線07-5250211 (週一~週五 09:00~17:00)\n",
      "2. 透過書面申請\n",
      "\n",
      "此外,若您想製給您的個人資料複製本、補充或更正您的個人資料、停止蒐集、處理或利用您的個人資料,或者刪除您的個人資料,也可以透過上述方式提出申請。\n",
      "ROUGE-L：0.4507042253521127\n"
     ]
    },
    {
     "name": "stderr",
     "output_type": "stream",
     "text": [
      "Featurizing p: 100%|██████████| 22/22 [00:00<00:00, 52.15it/s]\n",
      "Featurizing q: 100%|██████████| 37/37 [00:00<00:00, 56.09it/s]\n"
     ]
    },
    {
     "name": "stdout",
     "output_type": "stream",
     "text": [
      "問題：TACERT蒐集的個人資料會在哪些地區被利用？\n",
      "參考答案：地區：台灣地區(包含金門、澎湖、馬祖等地)。\n",
      "生成答案：TACERT蒐集的個人資料會在台灣地區(包含金門、澎湖、馬祖等地)被利用。\n",
      "ROUGE-L：0.6440677966101694\n"
     ]
    },
    {
     "name": "stderr",
     "output_type": "stream",
     "text": [
      "Featurizing p: 100%|██████████| 25/25 [00:00<00:00, 52.44it/s]\n",
      "Featurizing q: 100%|██████████| 73/73 [00:01<00:00, 59.41it/s]\n"
     ]
    },
    {
     "name": "stdout",
     "output_type": "stream",
     "text": [
      "問題：我可以要求TACERT停止蒐集我的個人資料嗎？\n",
      "參考答案：可以，您可以請求停止蒐集、處理或利用您的個人資料。\n",
      "生成答案：您可以要求TACERT停止蒐集您的個人資料。若您選擇不提供個人資料或是提供不完整時,基於提供您更好的服務,TACERT 將因此無法提供相關的服務。\n",
      "ROUGE-L：0.3061224489795918\n"
     ]
    },
    {
     "name": "stderr",
     "output_type": "stream",
     "text": [
      "Featurizing p: 100%|██████████| 25/25 [00:00<00:00, 51.30it/s]\n",
      "Featurizing q: 100%|██████████| 65/65 [00:01<00:00, 59.50it/s]\n"
     ]
    },
    {
     "name": "stdout",
     "output_type": "stream",
     "text": [
      "問題：TACERT會以什麼方式利用我的個人資料？\n",
      "參考答案：方式：電子文件、紙本或其他合於當時科技之適當方式。\n",
      "生成答案：TACERT會以以下方式利用您的個人資料：\n",
      "1. 發送簡訊或電子郵件通知單位連絡人資安事件。\n",
      "2. 其他合於計劃所定之目標所需要。\n",
      "ROUGE-L：0.2666666666666667\n"
     ]
    },
    {
     "name": "stderr",
     "output_type": "stream",
     "text": [
      "Featurizing p: 100%|██████████| 50/50 [00:00<00:00, 55.67it/s]\n",
      "Featurizing q: 100%|██████████| 68/68 [00:01<00:00, 60.61it/s]\n"
     ]
    },
    {
     "name": "stdout",
     "output_type": "stream",
     "text": [
      "問題：如果我不提供個人資料，會有什麼影響？\n",
      "參考答案：若您選擇不提供個人資料或是提供不完整時，基於提供您更好的服務，TACERT將因此無法提供相關的服務。\n",
      "生成答案：若您選擇不提供個人資料或是提供不完整時,基於提供您更好的服務,TACERT 將因此無法提供相關的服務。因此而導致之後果,將由您自行承擔。\n",
      "ROUGE-L：0.8135593220338982\n"
     ]
    },
    {
     "name": "stderr",
     "output_type": "stream",
     "text": [
      "Featurizing p: 100%|██████████| 86/86 [00:01<00:00, 56.32it/s]\n",
      "Featurizing q: 100%|██████████| 102/102 [00:01<00:00, 60.24it/s]\n"
     ]
    },
    {
     "name": "stdout",
     "output_type": "stream",
     "text": [
      "問題：如果因網路中斷無法上網填報資安事件，應該如何通報？\n",
      "參考答案：可先填具附件一教育機構資通安全事件單，以TACERT 備用通報信箱或傳真方式送至臺灣學術網路危機處理中心(TACERT)，惟待網路連線恢復後，仍須至通報應變網站補登錄通報。\n",
      "生成答案：若因網路或電力中斷等事由,致使無法上網填報資安事件,須於確認資安事件條件成立後1小時內,與所屬區、縣(市)網路中心及通報應變小組聯繫,先行提供事件細節,待網路通訊恢復正常後,仍須至通報應變網站補登錄通報。\n",
      "ROUGE-L：0.32978723404255317\n"
     ]
    },
    {
     "name": "stderr",
     "output_type": "stream",
     "text": [
      "Featurizing p: 100%|██████████| 212/212 [00:03<00:00, 59.30it/s]\n",
      "Featurizing q: 100%|██████████| 38/38 [00:00<00:00, 60.42it/s]\n"
     ]
    },
    {
     "name": "stdout",
     "output_type": "stream",
     "text": [
      "問題：在遭受DDoS攻擊時，如何申請流量清洗服務？\n",
      "參考答案：當連線單位遭受分散式阻斷服務攻擊（DDoS）時，連線單位可申請學術網路 DDoS 攻擊流量清洗服務並進行資安事件通報。如因網路或電力中斷等事由，致使無法上網申請DDoS 攻擊流量清洗服務事件單，可先填具附件二學術網路DDoS 攻擊流量清洗服務申請單，以TACERT 備用通報信箱或傳真方式送至臺灣學術網路危機處理中心(TACERT)，惟待網路連線恢復後，仍須至教育機構資安通報報表系統補申請DDoS 攻擊流量清洗服務事件單。\n",
      "生成答案：若學術單位遭受DDoS攻擊時,請透過其所屬之區縣市網路中心申請流量清洗服務。\n",
      "ROUGE-L：0.192\n"
     ]
    },
    {
     "name": "stderr",
     "output_type": "stream",
     "text": [
      "Featurizing p: 100%|██████████| 58/58 [00:01<00:00, 54.88it/s]\n",
      "Featurizing q: 100%|██████████| 46/46 [00:00<00:00, 59.73it/s]\n"
     ]
    },
    {
     "name": "stdout",
     "output_type": "stream",
     "text": [
      "問題：資安事件確認後，應在多長時間內通報？\n",
      "參考答案：經確認為資安事件後，須於 1 小時內，至教育機構資安通報應變網站通報登錄資安事件細節、影響等級及是否申請支援等資訊。\n",
      "生成答案：公務機關知悉資通安全事件後,應於一小時內依主管機關指定之方式及對象,進行資通安全事件之通報。\n",
      "ROUGE-L：0.3076923076923077\n"
     ]
    },
    {
     "name": "stderr",
     "output_type": "stream",
     "text": [
      "Featurizing p: 100%|██████████| 113/113 [00:01<00:00, 58.73it/s]\n",
      "Featurizing q: 100%|██████████| 166/166 [00:02<00:00, 60.65it/s]\n"
     ]
    },
    {
     "name": "stdout",
     "output_type": "stream",
     "text": [
      "問題：在填寫教育機構資通安全事件通報單時，哪些項目是必填的？\n",
      "參考答案：填報時間、單位名稱、通報人、電話、傳真、電子郵件信箱、事件發生時間、確認(知悉)為資安事件時間、IP 位置、網際網路位置、設備廠牌、機型、作業系統（名稱/版本)、受駭應用軟體（名稱/版本)、已裝置之安全防護軟體、受駭設備類型。\n",
      "生成答案：在填寫教育機構資通安全事件通報單時，必填的項目包括：\n",
      "1. 發生資通安全事件之機關(機構)聯絡資料：單位名稱、通報人、電話、傳真、電子郵件信箱。\n",
      "2. 事件發生時間：事件發生時間、確認(知悉)為資安事件時間。\n",
      "3. 設備資料：IP位置(IP address)、網際網路位置(web-url)、設備廠牌、機型、作業系統(名稱/版本)。\n",
      "ROUGE-L：0.5376344086021506\n"
     ]
    },
    {
     "name": "stderr",
     "output_type": "stream",
     "text": [
      "Featurizing p: 100%|██████████| 125/125 [00:02<00:00, 58.76it/s]\n",
      "Featurizing q: 100%|██████████| 54/54 [00:00<00:00, 59.84it/s]\n"
     ]
    },
    {
     "name": "stdout",
     "output_type": "stream",
     "text": [
      "問題：在事件發生時需要提供哪些設備資料？\n",
      "參考答案：需要提供的設備資料包括：IP 位置（IP address）、網際網路位置（web-url）、設備廠牌、機型、作業系統（名稱/版本)、受駭應用軟體（名稱/版本)、已裝置之安全防護軟體（防毒軟體、防火牆、IPS/IDS、其它的名稱/版本)、受駭設備類型。\n",
      "生成答案：在事件發生時需要提供的設備資料包括：受駭設備類型、受害設備說明、損害類別說明、攻擊手法、調查說明、情資類型。\n",
      "ROUGE-L：0.26815642458100564\n"
     ]
    },
    {
     "name": "stderr",
     "output_type": "stream",
     "text": [
      "Featurizing p: 100%|██████████| 73/73 [00:01<00:00, 56.86it/s]\n",
      "Featurizing q: 100%|██████████| 111/111 [00:01<00:00, 60.74it/s]\n"
     ]
    },
    {
     "name": "stdout",
     "output_type": "stream",
     "text": [
      "問題：如果事件涉及受駭設備，應如何分類設備類型？\n",
      "參考答案：受駭設備類型可以分類為：個人電腦、伺服器、大型主機、網路通訊設備、SCADA(資料採集與監視系統)、控制器(PLC、PAC)、人機介面(HMI)。\n",
      "生成答案：如果事件涉及受駭設備，應如何分類設備類型？ \n",
      "受駭設備類型:\n",
      "□ 個人電腦 \n",
      "□ 伺服器 \n",
      "□ 大型主機 \n",
      "□ 網路通訊設備 \n",
      "□ SCADA(資料採集與監視系統) \n",
      "□ 控制器(PLC、PAC) \n",
      "□ 人機介面(HMI)\n",
      "ROUGE-L：0.6630434782608697\n"
     ]
    },
    {
     "name": "stderr",
     "output_type": "stream",
     "text": [
      "Featurizing p: 100%|██████████| 25/25 [00:00<00:00, 52.62it/s]\n",
      "Featurizing q: 100%|██████████| 60/60 [00:01<00:00, 57.60it/s]\n"
     ]
    },
    {
     "name": "stdout",
     "output_type": "stream",
     "text": [
      "問題：如果發生3、4級的資安事件，應該如何處理？\n",
      "參考答案：若有3、4級事件，請立刻電話告知您所屬的主管機關。\n",
      "生成答案：針對「4」、「3」級資安事件,區、縣(市)網路中心將主動通知通報應變小組,以利通報應變小組評估事件影響及通報本部資科司。\n",
      "ROUGE-L：0.14117647058823532\n"
     ]
    },
    {
     "name": "stderr",
     "output_type": "stream",
     "text": [
      "Featurizing p: 100%|██████████| 31/31 [00:00<00:00, 52.92it/s]\n",
      "Featurizing q: 100%|██████████| 37/37 [00:00<00:00, 59.48it/s]\n"
     ]
    },
    {
     "name": "stdout",
     "output_type": "stream",
     "text": [
      "問題：在無法確定如何填寫資安事件等級時，應該怎麼辦？\n",
      "參考答案：如果您無法確定如何填寫時，請電話連絡您所屬的主管機關請求協助。\n",
      "生成答案：如果無法確定如何填寫資安事件等級時，應該電話連絡您所屬的主管機關請求協助。\n",
      "ROUGE-L：0.8529411764705881\n"
     ]
    },
    {
     "name": "stderr",
     "output_type": "stream",
     "text": [
      "Featurizing p: 100%|██████████| 61/61 [00:01<00:00, 55.27it/s]\n",
      "Featurizing q: 100%|██████████| 367/367 [00:06<00:00, 60.05it/s]\n"
     ]
    },
    {
     "name": "stdout",
     "output_type": "stream",
     "text": [
      "問題：如何評估資安事件的影響等級？\n",
      "參考答案：請分別評估資安事件造成之機密性、完整性以及可用性衝擊，資安事件影響等級為機密性、完整性及可用性衝擊最嚴重者(數字最大者)。\n",
      "生成答案：資安事件的影響等級判斷依據下列三個欄位中最高等級當成最後之事件等級：\n",
      "1. 機密性衝擊：1級-非核心業務資訊遭或核心資通系統遭輕微竄改；4級-一般公務機密、敏感資訊、涉及關鍵基礎設施維運之核心業務資訊或核心資通系統遭嚴重竄改，或國家機密遭竄改；無系統或設備受影響\n",
      "2. 完整性衝擊：1級-非核心業務之運作受影響或停頓，於可容忍中斷時間內回復正常運作，造成機關日常作業影響；4級-一般公務機密、敏感資訊、涉及關鍵基礎設施維運之核心業務資訊或核心資通系統遭嚴重竄改，或國家機密遭竄改；無系統或設備受影響\n",
      "3. 可用性衝擊：1級-非核心業務之運作受影響或停頓，於可容忍中斷時間內回復正常運作，造成機關日常作業影響；4級-一般公務機密、敏感資訊、涉及關鍵基礎設施維運之核心業務資訊或核心資通系統遭嚴重竄改，或國家機密遭竄改；無系統或設備受影響\n",
      "ROUGE-L：0.14018691588785046\n"
     ]
    },
    {
     "name": "stderr",
     "output_type": "stream",
     "text": [
      "Featurizing p: 100%|██████████| 89/89 [00:01<00:00, 58.36it/s]\n",
      "Featurizing q: 100%|██████████| 194/194 [00:03<00:00, 60.69it/s]\n"
     ]
    },
    {
     "name": "stdout",
     "output_type": "stream",
     "text": [
      "問題：一線人員如何取得惡意網站威脅來源清單的相關資訊？\n",
      "參考答案：一線人員（學校資安人員）請洽詢所屬的上層區縣市網人員來取得相關資訊，您可利用登入資安通報平台（https://info.cert.tanet.edu.tw/）來取得二線人員資訊。\n",
      "生成答案：一線人員(學校資安人員)可洽詢所屬的上層區縣市網人員來取得相關資訊,您可利用登入資安通報平台(https://info. cert.tanet.edu.tw/)來取得二線人員資訊。二線人員(區縣市網人員)可利用二線審核帳號(英文+OID 帳號,如Z2.16.....)及密碼登入資安通報報表系統(https://portal.cert.tanet.edu.tw/)的「威脅名單」功能下載。\n",
      "ROUGE-L：0.5865724381625441\n"
     ]
    },
    {
     "name": "stderr",
     "output_type": "stream",
     "text": [
      "Featurizing p: 100%|██████████| 94/94 [00:01<00:00, 58.25it/s]\n",
      "Featurizing q: 100%|██████████| 106/106 [00:01<00:00, 61.10it/s]\n"
     ]
    },
    {
     "name": "stdout",
     "output_type": "stream",
     "text": [
      "問題：二線人員如何下載惡意網站威脅來源清單？\n",
      "參考答案：二線人員可利用二線審核帳號(英文+OID 帳號，如Z2.16…..)及密碼登入資安通報報表系統（https://portal.cert.tanet.edu.tw/）的「威脅名單」功能下載。\n",
      "生成答案：二線人員可利用二線審核帳號(英文+OID 帳號,如Z2.16.....)及密碼登入資安通報報表系統(https://portal.cert.tanet.edu.tw/)的「威脅名單」功能下載惡意網站威脅來源清單。\n",
      "ROUGE-L：0.9\n"
     ]
    },
    {
     "name": "stderr",
     "output_type": "stream",
     "text": [
      "Featurizing p: 100%|██████████| 37/37 [00:00<00:00, 53.75it/s]\n",
      "Featurizing q: 100%|██████████| 105/105 [00:01<00:00, 59.67it/s]\n"
     ]
    },
    {
     "name": "stdout",
     "output_type": "stream",
     "text": [
      "問題：下載的威脅清單應如何處理？\n",
      "參考答案：威脅清單內容為機敏性資料，僅供公務使用，嚴禁外流並依公務密件相關規定處理。\n",
      "生成答案：下載的威脅清單應如何處理？\n",
      "D. 威脅清單內容為機敏性資料,故下載清單會出現「威脅清單內容為機敏性資料,僅供公務使用,嚴禁外流並依公務密件相關規定處理!」的提示視窗,提醒使用者留意,點選「確定」即可下載該清單。\n",
      "ROUGE-L：0.49295774647887325\n"
     ]
    },
    {
     "name": "stderr",
     "output_type": "stream",
     "text": [
      "Featurizing p: 100%|██████████| 78/78 [00:01<00:00, 57.16it/s]\n",
      "Featurizing q: 100%|██████████| 92/92 [00:01<00:00, 59.87it/s]\n"
     ]
    },
    {
     "name": "stdout",
     "output_type": "stream",
     "text": [
      "問題：如果我在密碼變更或重設時遇到問題，應該怎麼辦？\n",
      "參考答案：TACERT 會進後台人工重設密碼，連同OID 一起寄信回覆。校方須提供完整校名或OID，以及Email，使得TACERT 查詢、重設密碼與提供資訊給對方。\n",
      "生成答案：如果在密碼變更或重設時遇到問題,您可以聯繫 TACERT 資安窗口,他們會進後台人工重設密碼。請提供完整校名或OID,以及Email,以便 TACERT 查詢、重設密碼並提供資訊給您。\n",
      "ROUGE-L：0.6470588235294118\n"
     ]
    },
    {
     "name": "stderr",
     "output_type": "stream",
     "text": [
      "Featurizing p: 100%|██████████| 56/56 [00:00<00:00, 56.36it/s]\n",
      "Featurizing q: 100%|██████████| 112/112 [00:01<00:00, 59.77it/s]\n"
     ]
    },
    {
     "name": "stdout",
     "output_type": "stream",
     "text": [
      "問題：我需要調整事件單的等級或內容，該如何處理？\n",
      "參考答案：因送出後學校無法調整內容，由TACERT 依照要求進後台調整。請提供本中心欲調整之事件單編號，以及欲調整之內容。\n",
      "生成答案：您需要調整事件單的等級或內容時，應依下列規定時間完成該資通安全事件等級之審核，並得依審核結果變更其等級：\n",
      "一、通報為第一級或第二級資通安全事件者，於接獲後八小時內。\n",
      "二、通報為第三級或第四級資通安全事件者，於接獲後二小時內。\n",
      "ROUGE-L：0.15476190476190477\n"
     ]
    },
    {
     "name": "stderr",
     "output_type": "stream",
     "text": [
      "Featurizing p: 100%|██████████| 56/56 [00:01<00:00, 55.22it/s]\n",
      "Featurizing q: 100%|██████████| 101/101 [00:01<00:00, 60.25it/s]\n"
     ]
    },
    {
     "name": "stdout",
     "output_type": "stream",
     "text": [
      "問題：如果事件單出現錯誤需要重派或刪除，該怎麼辦？\n",
      "參考答案：TACERT 進後台重新輸入正確OID 並重派，或是把工單刪除。請提供本中心錯誤事件單之編號，以及有問題之內容。\n",
      "生成答案：如果事件單出現錯誤需要重派或刪除，校方須提供完整校名或OID,以及Email,以供TACERT 進後台重新輸入正確OID 並重派,或是把工單刪除。請提供本中心錯誤事件單之編號,以及有問題之內容,謝謝您。\n",
      "ROUGE-L：0.6878980891719746\n"
     ]
    },
    {
     "name": "stderr",
     "output_type": "stream",
     "text": [
      "Featurizing p: 100%|██████████| 122/122 [00:02<00:00, 58.90it/s]\n",
      "Featurizing q: 100%|██████████| 91/91 [00:01<00:00, 60.94it/s]\n"
     ]
    },
    {
     "name": "stdout",
     "output_type": "stream",
     "text": [
      "問題：如何回報HITCON的漏洞修補情況？\n",
      "參考答案：學校方告知漏洞編號，並由TACERT 進入HITCON 後台更改漏洞狀態。請確認HITCON 之漏洞詳情頁面，若該漏洞上方發信單位為TACERT 台灣學術網路危機處理中心，即可由本中心調整漏洞狀態為已修補，再請提供本中心HITCON 漏洞編號。\n",
      "生成答案：若申請途中有遇到問題,可寄信至 service@zeroday.hitcon.org,請官方幫忙協調。漏洞修補完成後,通知本中心,由本中心向HITCON 寄信,請官方 更改漏洞狀態。\n",
      "ROUGE-L：0.19718309859154928\n"
     ]
    },
    {
     "name": "stderr",
     "output_type": "stream",
     "text": [
      "Featurizing p: 100%|██████████| 90/90 [00:01<00:00, 56.83it/s]\n",
      "Featurizing q: 100%|██████████| 246/246 [00:04<00:00, 60.70it/s]\n"
     ]
    },
    {
     "name": "stdout",
     "output_type": "stream",
     "text": [
      "問題：如果HITCON帳號遺失或需要申請組織帳號，該怎麼辦？\n",
      "參考答案：HITCON 將漏洞所屬權派給校方，因帳號遺失或沒有組織帳號，無法自行更改，會由本中心寄信通知HITCON 修改漏洞狀態，或是請學校申請一個組織帳號並驗證，通過後自行更改漏洞狀態。\n",
      "生成答案：如果HITCON帳號遺失或需要申請組織帳號,有以下建議方式:\n",
      "\n",
      "1. 重新創辦貴單位之HITCON帳號,並申請組織帳號,申請組織帳號後可自行新增或移除共同管理組織帳號的使用者,並獲得後台權限(可被派發漏洞資訊及更改漏洞狀態),若申請途中有遇到問題,可寄信至service@zeroday.hitcon.org,請官方幫忙協調。\n",
      "\n",
      "2. 將漏洞修補完成後,通知本中心,由本中心向HITCON寄信,請官方更改漏洞狀態。由於HITCON需閱讀信件,此方案可能需要幾天時間才能將漏洞狀態更改。謝謝您。\n",
      "ROUGE-L：0.24404761904761904\n"
     ]
    },
    {
     "name": "stderr",
     "output_type": "stream",
     "text": [
      "Featurizing p: 100%|██████████| 39/39 [00:00<00:00, 54.75it/s]\n",
      "Featurizing q: 100%|██████████| 78/78 [00:01<00:00, 60.26it/s]\n"
     ]
    },
    {
     "name": "stdout",
     "output_type": "stream",
     "text": [
      "問題：完成漏洞修補後，應該如何通知HITCON更改漏洞狀態？\n",
      "參考答案：將漏洞修補完成後，通知本中心，由本中心向HITCON寄信，請官方更改漏洞狀態。\n",
      "生成答案：完成漏洞修補後,應通知本中心,由本中心向HITCON寄信,請官方更改漏洞狀態。由於HITCON需閱讀信件,此方案可能需要幾天時間才能將漏洞狀態更改。謝謝您。\n",
      "ROUGE-L：0.5641025641025641\n"
     ]
    },
    {
     "name": "stderr",
     "output_type": "stream",
     "text": [
      "Featurizing p: 100%|██████████| 169/169 [00:02<00:00, 58.05it/s]\n",
      "Featurizing q: 100%|██████████| 165/165 [00:02<00:00, 60.56it/s]\n"
     ]
    },
    {
     "name": "stdout",
     "output_type": "stream",
     "text": [
      "問題：在進行系統調查時，建議的步驟有哪些？\n",
      "參考答案：建議在進行系統調查時進行下列步驟：(1) 檢查系統或網路相關 LOG 資訊，查看是否有異常之處。(2) 利用如 TCPVIEW 工具軟體或 netstat 指令來查看系統是否有開啟可疑之服務或是否有可疑之來源連線。(3) 查看防火牆之連線記錄，確認是否有可疑之連線。(4) 如果有設置入侵偵測軟體（IDS），進行查看是否有惡意的連線行為。\n",
      "生成答案：在進行系統調查時,建議您進行下列步驟:\n",
      "1. 檢查系統或網路相關LOG資訊,查看是否有異常之處。\n",
      "2. 利用如TCPVIEW工具軟體或netstat指令來查看系統是否有開啟可疑之服務或是否有可疑之來源連線。\n",
      "3. 查看防火牆之連線記錄,確認是否有可疑之連線。\n",
      "4. 如果有設置入侵偵測軟體(IDS),進行查看是否有惡意的連線行為。\n",
      "ROUGE-L：0.8802395209580838\n"
     ]
    },
    {
     "name": "stderr",
     "output_type": "stream",
     "text": [
      "Featurizing p: 100%|██████████| 57/57 [00:01<00:00, 55.13it/s]\n",
      "Featurizing q: 100%|██████████| 116/116 [00:01<00:00, 60.59it/s]\n"
     ]
    },
    {
     "name": "stdout",
     "output_type": "stream",
     "text": [
      "問題：不同級數的事件通報應變時效是多久？\n",
      "參考答案：事件通報應變時效因級數而有所不同，「1」、「2」級事件需於72小時內完成；「3」、「4」級事件需於36小時內完成。\n",
      "生成答案：根據提供的文件內容,不同等級的資安事件通報應變時效如下:\n",
      "\n",
      "1. 「1」、「2」級事件需於72小時內完成。\n",
      "2. 「3」、「4」級事件需於36小時內完成。\n",
      "\n",
      "這些時間是指從確認資安事件條件成立後開始計算,直到完成損害控制或復原為止。\n",
      "ROUGE-L：0.5433526011560693\n"
     ]
    },
    {
     "name": "stderr",
     "output_type": "stream",
     "text": [
      "Featurizing p: 100%|██████████| 64/64 [00:01<00:00, 55.12it/s]\n",
      "Featurizing q: 100%|██████████| 24/24 [00:00<00:00, 60.46it/s]\n"
     ]
    },
    {
     "name": "stdout",
     "output_type": "stream",
     "text": [
      "問題：在通報流程中，若未發現資安事件威脅，應選擇哪種情資類型？\n",
      "參考答案：當收到資安情資後，經適當且有效的系統調查後，並未發現有直接或間接證據可證明系統遭受到資安事件之威脅即可選擇INFO(資安情資)。\n",
      "生成答案：若未發現資安事件威脅,應選擇TII(威脅情報)。\n",
      "ROUGE-L：0.36363636363636365\n"
     ]
    },
    {
     "name": "stderr",
     "output_type": "stream",
     "text": [
      "Featurizing p: 100%|██████████| 82/82 [00:01<00:00, 57.38it/s]\n",
      "Featurizing q: 100%|██████████| 89/89 [00:01<00:00, 60.13it/s]\n"
     ]
    },
    {
     "name": "stdout",
     "output_type": "stream",
     "text": [
      "問題：損害控制狀態有哪些選項？\n",
      "參考答案：應變流程之「損害控制狀態」可分為完成下列兩種狀態：(1) 損害控制：已控管此事件所造成的危害。(2) 完成損害控制與復原：已控管此事件所造成的危害並已完成系統復原。\n",
      "生成答案：「損害控制狀態」可分為完成下列兩種狀態,請依實際狀況選擇適合的選項:\n",
      "1、損害控制:已控管此事件所造成的危害。\n",
      "2、完成損害控制與復原:已控管此事件所造成的危害並已完成系統復原。\n",
      "ROUGE-L：0.7953216374269005\n"
     ]
    },
    {
     "name": "stderr",
     "output_type": "stream",
     "text": [
      "Featurizing p: 100%|██████████| 42/42 [00:00<00:00, 54.72it/s]\n",
      "Featurizing q: 100%|██████████| 50/50 [00:00<00:00, 59.70it/s]\n"
     ]
    },
    {
     "name": "stdout",
     "output_type": "stream",
     "text": [
      "問題：在通報演練期間，第一、第二聯絡人需要做什麼操作？\n",
      "參考答案：第一、第二聯絡人需在演練資料整備作業期間更換一次密碼，並檢查資安聯絡人資料是否正確。\n",
      "生成答案：在通報演練期間，第一、第二聯絡人需在演練資料整備作業期間更換一次密碼，並檢查資安聯絡人資料是否正確。\n",
      "ROUGE-L：0.9130434782608696\n"
     ]
    },
    {
     "name": "stderr",
     "output_type": "stream",
     "text": [
      "Featurizing p: 100%|██████████| 74/74 [00:01<00:00, 56.47it/s]\n",
      "Featurizing q: 100%|██████████| 52/52 [00:00<00:00, 59.38it/s]\n"
     ]
    },
    {
     "name": "stdout",
     "output_type": "stream",
     "text": [
      "問題：收到資安演練事件通知單後，執行演練單位應如何處理？\n",
      "參考答案：執行演練單位於收到mail及簡訊通知後，應於規定的時限內至教育機構資安通報演練平台完成事件通報流程，並依事件等級於處理時限內完成事件應變處理並結案。\n",
      "生成答案：執行演練單位在收到「資安演練事件通知單」後,應於規定的時限內至教育機構資安通報演練平台完成事件通報流程。\n",
      "ROUGE-L：0.6507936507936507\n"
     ]
    },
    {
     "name": "stderr",
     "output_type": "stream",
     "text": [
      "Featurizing p: 100%|██████████| 36/36 [00:00<00:00, 54.33it/s]\n",
      "Featurizing q: 100%|██████████| 14/14 [00:00<00:00, 59.37it/s]\n"
     ]
    },
    {
     "name": "stdout",
     "output_type": "stream",
     "text": [
      "問題：如何下載事件單的LOG附檔？\n",
      "參考答案：確認事件單的「發佈編號」後，可至「事件附檔下載」，下載所需之LOG附檔。\n",
      "生成答案：事件單附檔下載方法請按這裡。\n",
      "ROUGE-L：0.32\n"
     ]
    },
    {
     "name": "stderr",
     "output_type": "stream",
     "text": [
      "Featurizing p: 100%|██████████| 62/62 [00:01<00:00, 54.42it/s]\n",
      "Featurizing q: 100%|██████████| 130/130 [00:02<00:00, 60.27it/s]\n"
     ]
    },
    {
     "name": "stdout",
     "output_type": "stream",
     "text": [
      "問題：如何處理通報平台聯絡人異動問題？\n",
      "參考答案：聯絡人若已不在職，可先申請重設密碼後請他人登入，並修改個人資料，以更換新的聯絡人；若在職，可直接請異動之聯絡人修改個人資料。\n",
      "生成答案：通報平台聯絡人異動、新增及刪除問題: 聯絡人若已不在職,可先申請重設密碼後請他人登入,並修改個人資料,以更換新的聯絡人;若在職,可直接請異動之聯絡人修改個人資料。要新增或是刪除聯絡人,必須使用第一或第二聯絡人帳號,在帳號管理裡面做新增或是刪除後面聯絡人的帳號。\n",
      "ROUGE-L：0.59375\n"
     ]
    },
    {
     "name": "stderr",
     "output_type": "stream",
     "text": [
      "Featurizing p: 100%|██████████| 49/49 [00:00<00:00, 54.57it/s]\n",
      "Featurizing q: 100%|██████████| 115/115 [00:01<00:00, 60.30it/s]\n"
     ]
    },
    {
     "name": "stdout",
     "output_type": "stream",
     "text": [
      "問題：如何新增或刪除通報平台的聯絡人？\n",
      "參考答案：要新增或是刪除聯絡人，必須使用第一或第二聯絡人帳號，在帳號管理裡面做新增或是刪除後面聯絡人的帳號。\n",
      "生成答案：要新增或刪除通報平台的聯絡人,必須使用第一或第二聯絡人帳號,在帳號管理裡面做新增或是刪除後面聯絡人的帳號。若聯絡人已不在職,可先申請重設密碼後請他人登入,並修改個人資料,以更換新的聯絡人;若在職,可直接請異動之聯絡人修改個人資料。\n",
      "ROUGE-L：0.5609756097560976\n"
     ]
    },
    {
     "name": "stderr",
     "output_type": "stream",
     "text": [
      "Featurizing p: 100%|██████████| 39/39 [00:00<00:00, 53.01it/s]\n",
      "Featurizing q: 100%|██████████| 47/47 [00:00<00:00, 58.69it/s]\n"
     ]
    },
    {
     "name": "stdout",
     "output_type": "stream",
     "text": [
      "問題：在EWA事件單中，如何處理確實事件？\n",
      "參考答案：確實事件：經查證後為確實事件，須先「自行通報」，並填入自行通報的資安事件編號。\n",
      "生成答案：在EWA事件單中，處理確實事件的方式為：經查證後須「自行通報」，並填入自行通報的資安事件編號。\n",
      "ROUGE-L：0.7441860465116279\n"
     ]
    },
    {
     "name": "stderr",
     "output_type": "stream",
     "text": [
      "Featurizing p: 100%|██████████| 32/32 [00:00<00:00, 68.27it/s]\n",
      "Featurizing q: 100%|██████████| 64/64 [00:01<00:00, 62.91it/s]\n"
     ]
    },
    {
     "name": "stdout",
     "output_type": "stream",
     "text": [
      "問題：在EWA事件單中，如何處理誤判事件？\n",
      "參考答案：誤判：經查證後確認為誤判事件，並於「原因」欄位中，說明誤判原因。\n",
      "生成答案：在EWA事件單中，處理誤判事件的方式是：經查證後確認為誤判，於處理時限內完成事件應變處理並結案。通報與填寫方式與正式事件單相同。\n",
      "ROUGE-L：0.3333333333333333\n",
      "已儲存 755 筆資料到 FAISS\n"
     ]
    }
   ],
   "source": [
    "import os\n",
    "import faiss  \n",
    "import numpy as np\n",
    "import json\n",
    "from rouge_score import rouge_scorer\n",
    "from sentence_transformers import SentenceTransformer\n",
    "from mauve import compute_mauve\n",
    "from langchain_community.llms.ollama import Ollama\n",
    "\n",
    "def calculatge_mauve(reference, candidate):\n",
    "    return compute_mauve(p_text=reference, q_text=candidate, device_id=0).mauve\n",
    "\n",
    "def lcs_length(s1, s2):\n",
    "    m, n = len(s1), len(s2)\n",
    "    dp = [[0] * (n + 1) for _ in range(m + 1)]\n",
    "    \n",
    "    for i in range(1, m + 1):\n",
    "        for j in range(1, n + 1):\n",
    "            if s1[i - 1] == s2[j - 1]:\n",
    "                dp[i][j] = dp[i - 1][j - 1] + 1\n",
    "            else:\n",
    "                dp[i][j] = max(dp[i - 1][j], dp[i][j - 1])\n",
    "    \n",
    "    return dp[m][n]\n",
    "\n",
    "def calculate_rouge_l(candidate, reference):\n",
    "    lcs = lcs_length(candidate, reference)\n",
    "    p = lcs / len(candidate) if candidate else 0\n",
    "    r = lcs / len(reference) if reference else 0\n",
    "    \n",
    "    if p + r == 0:\n",
    "        return 0.0\n",
    "    \n",
    "    f1 = (2 * p * r) / (p + r)\n",
    "    return f1\n",
    "\n",
    "\n",
    "def search_faiss(query_text, top_k=3):\n",
    "    \"\"\"搜尋最相近的前 top_k 筆資料\"\"\"\n",
    "    query_embedding = embed_model.encode(query_text).astype(np.float32)\n",
    "    query_embedding = np.expand_dims(query_embedding, axis=0)  # FAISS 需要的 2D 陣列\n",
    "\n",
    "    # 查詢 FAISS\n",
    "    _, indices = index.search(query_embedding, top_k)\n",
    "\n",
    "    results = []\n",
    "    for idx in indices[0]:\n",
    "        if str(idx) in faiss_metadata:\n",
    "            results.append(faiss_metadata[str(idx)])\n",
    "    return results\n",
    "\n",
    "\n",
    "llm = Ollama(model=\"jcai/llama-3-taiwan-8b-instruct:q4_k_m\", temperature=0.2)\n",
    "\n",
    "# 儲存 FAISS ID 對應的 metadata\n",
    "\n",
    "# 設定批次大小，避免 OOM\n",
    "result = []\n",
    "chunk_sizes = [64, 128, 256, 512]  # 測試不同 chunk sizes\n",
    "for size in chunk_sizes:\n",
    "    EMBEDDING_DIM = 1024  \n",
    "    index = faiss.IndexFlatL2(EMBEDDING_DIM)  # 建立 L2 距離索引\n",
    "    data = []\n",
    "    faiss_metadata = {}\n",
    "    files_to_delete = ['faiss_metadata.json', 'faiss_index.idx']\n",
    "    for file in files_to_delete:\n",
    "        if os.path.exists(file):\n",
    "            os.remove(file)\n",
    "    for pdf_file in pdf_files:\n",
    "        full_path = os.path.join(folder_path, pdf_file)\n",
    "        content = read_pdf(full_path)\n",
    "        chunks = chunk_text(content, size)\n",
    "        for idx, chunk in enumerate(chunks):\n",
    "            text = chunk[\"content\"]\n",
    "            # 計算 embedding 並存入 cache\n",
    "            embedding = embed_model.encode(text).astype(np.float32)\n",
    "\n",
    "            # 儲存 metadata\n",
    "            data.append({\n",
    "                \"File_Name\": pdf_file,\n",
    "                \"content\": text,\n",
    "                \"Page_Num\": ','.join(str(p) for p in chunk[\"pages\"])\n",
    "            })\n",
    "            index.add(np.array([embedding]))  # 加入 FAISS\n",
    "            faiss_metadata[len(faiss_metadata)] = data[-1]  # FAISS ID 對應 metadata\n",
    "    # 儲存 FAISS 索引\n",
    "    with open('../law_data.json', 'r', encoding='utf-8') as f:\n",
    "        law_data = json.load(f)\n",
    "    for idx, chunk in enumerate(law_data):\n",
    "        text = chunk[\"law_text\"]\n",
    "        # 計算 embedding 並存入 cache\n",
    "        embedding = embed_model.encode(text).astype(np.float32)\n",
    "\n",
    "        # 儲存 metadata\n",
    "        data.append({\n",
    "            \"File_Name\": chunk[\"law_name\"],\n",
    "            \"content\": text,\n",
    "            \"Page_Num\": ''\n",
    "        })\n",
    "        index.add(np.array([embedding]))  # 加入 FAISS\n",
    "        faiss_metadata[len(faiss_metadata)] = data[-1]  # FAISS ID 對應 metadata\n",
    "    faiss.write_index(index, \"faiss_index.idx\")\n",
    "    with open(\"faiss_metadata.json\", \"w\", encoding=\"utf-8\") as f:\n",
    "        json.dump(faiss_metadata, f, ensure_ascii=False, indent=4)\n",
    "    print(f\"已儲存 {len(faiss_metadata)} 筆資料到 FAISS\")\n",
    "    \n",
    "    index = faiss.IndexFlatL2(EMBEDDING_DIM)\n",
    "    index = faiss.read_index(\"faiss_index.idx\")\n",
    "\n",
    "    with open(\"faiss_metadata.json\", \"r\", encoding=\"utf-8\") as f:\n",
    "        faiss_metadata = json.load(f)\n",
    "    with open('pdf_questions.json', 'r', encoding='utf-8') as f:\n",
    "        data = json.load(f)\n",
    "    \n",
    "    win = 0\n",
    "    loss = 0\n",
    "    total_rouge = 0\n",
    "    total_mauve= 0\n",
    "    \n",
    "    for each in data:\n",
    "        res = search_faiss(each['question'])\n",
    "        found = False\n",
    "        \n",
    "        # 整理 Context\n",
    "        context = \" \".join([metadata['content'] for metadata in res])\n",
    "        \n",
    "        # LLM Prompt\n",
    "        prompt = f\"\"\"\n",
    "        你是一個 AI 助理，專門根據官方文件回答資安相關問題。請根據提供的文件內容生成精確且簡潔的答案，不要加入額外資訊或推測性的內容，並確保答案與參考內容高度一致。\n",
    "\n",
    "        **問題：** {each['question']}\n",
    "        **參考內容：** {context}\n",
    "\n",
    "        **答案（請直接從參考內容提取，確保準確性以及符合問題）：**\n",
    "        \"\"\"\n",
    "        \n",
    "        # 生成回答\n",
    "        generated_answer = llm.invoke(prompt).strip()\n",
    "        \n",
    "        # 計算 ROUGE 分數\n",
    "        rouge_score = calculate_rouge_l(each['answer'], generated_answer)\n",
    "        mauve_score = calculatge_mauve(each['answer'], generated_answer)\n",
    "        total_rouge += rouge_score\n",
    "        total_mauve += mauve_score\n",
    "        # 確認是否匹配文件名稱和頁碼\n",
    "        for metadata in res:\n",
    "            if metadata['File_Name'] == each['File_Name'] and str(each['Page_Num']) in metadata['Page_Num']:\n",
    "                win += 1\n",
    "                found = True\n",
    "                break  # 若找到匹配則跳出\n",
    "        if not found:\n",
    "            loss += 1\n",
    "    \n",
    "    accuracy = win / (win + loss) if (win + loss) > 0 else 0\n",
    "    result.append({\n",
    "        'chunk_size': size,\n",
    "        'total_chunk': len(faiss_metadata),\n",
    "        'accuracy': accuracy,\n",
    "        'rougeL': total_rouge / (win + loss),\n",
    "        'mauve': total_mauve / (win + loss)\n",
    "    })\n",
    "\n",
    "for each in result:\n",
    "    print(each)\n"
   ]
  },
  {
   "cell_type": "markdown",
   "metadata": {},
   "source": [
    "計算 element chunk 的準確度"
   ]
  },
  {
   "cell_type": "code",
   "execution_count": 18,
   "metadata": {},
   "outputs": [
    {
     "ename": "KeyboardInterrupt",
     "evalue": "",
     "output_type": "error",
     "traceback": [
      "\u001b[0;31m---------------------------------------------------------------------------\u001b[0m",
      "\u001b[0;31mKeyboardInterrupt\u001b[0m                         Traceback (most recent call last)",
      "Cell \u001b[0;32mIn[18], line 27\u001b[0m\n\u001b[1;32m     23\u001b[0m \u001b[38;5;66;03m# 生成回答\u001b[39;00m\n\u001b[1;32m     24\u001b[0m \u001b[38;5;66;03m#generated_answer = llm.invoke(prompt).strip()\u001b[39;00m\n\u001b[1;32m     25\u001b[0m \u001b[38;5;66;03m# 計算 BLEU 和 ROUGE 分數\u001b[39;00m\n\u001b[1;32m     26\u001b[0m rough_score \u001b[38;5;241m=\u001b[39m calculate_rouge_l(each[\u001b[38;5;124m'\u001b[39m\u001b[38;5;124manswer\u001b[39m\u001b[38;5;124m'\u001b[39m], generated_answer)\n\u001b[0;32m---> 27\u001b[0m bert_score \u001b[38;5;241m=\u001b[39m \u001b[43mcalculatge_bert_score\u001b[49m\u001b[43m(\u001b[49m\u001b[43meach\u001b[49m\u001b[43m[\u001b[49m\u001b[38;5;124;43m'\u001b[39;49m\u001b[38;5;124;43manswer\u001b[39;49m\u001b[38;5;124;43m'\u001b[39;49m\u001b[43m]\u001b[49m\u001b[43m,\u001b[49m\u001b[43m \u001b[49m\u001b[43mgenerated_answer\u001b[49m\u001b[43m)\u001b[49m    \n\u001b[1;32m     28\u001b[0m res \u001b[38;5;241m=\u001b[39m search_faiss(each[\u001b[38;5;124m'\u001b[39m\u001b[38;5;124mquestion\u001b[39m\u001b[38;5;124m'\u001b[39m])\n\u001b[1;32m     29\u001b[0m found \u001b[38;5;241m=\u001b[39m \u001b[38;5;28;01mFalse\u001b[39;00m\n",
      "Cell \u001b[0;32mIn[13], line 11\u001b[0m, in \u001b[0;36mcalculatge_bert_score\u001b[0;34m(reference, candidate)\u001b[0m\n\u001b[1;32m     10\u001b[0m \u001b[38;5;28;01mdef\u001b[39;00m\u001b[38;5;250m \u001b[39m\u001b[38;5;21mcalculatge_bert_score\u001b[39m(reference, candidate):\n\u001b[0;32m---> 11\u001b[0m     embedding1 \u001b[38;5;241m=\u001b[39m \u001b[43membed_model\u001b[49m\u001b[38;5;241;43m.\u001b[39;49m\u001b[43mencode\u001b[49m\u001b[43m(\u001b[49m\u001b[43mreference\u001b[49m\u001b[43m,\u001b[49m\u001b[43m \u001b[49m\u001b[43mconvert_to_tensor\u001b[49m\u001b[38;5;241;43m=\u001b[39;49m\u001b[38;5;28;43;01mTrue\u001b[39;49;00m\u001b[43m)\u001b[49m\n\u001b[1;32m     12\u001b[0m     embedding2 \u001b[38;5;241m=\u001b[39m embed_model\u001b[38;5;241m.\u001b[39mencode(candidate, convert_to_tensor\u001b[38;5;241m=\u001b[39m\u001b[38;5;28;01mTrue\u001b[39;00m)\n\u001b[1;32m     13\u001b[0m     score \u001b[38;5;241m=\u001b[39m util\u001b[38;5;241m.\u001b[39mpytorch_cos_sim(embedding1, embedding2)\n",
      "File \u001b[0;32m~/Library/Python/3.9/lib/python/site-packages/sentence_transformers/SentenceTransformer.py:623\u001b[0m, in \u001b[0;36mSentenceTransformer.encode\u001b[0;34m(self, sentences, prompt_name, prompt, batch_size, show_progress_bar, output_value, precision, convert_to_numpy, convert_to_tensor, device, normalize_embeddings, **kwargs)\u001b[0m\n\u001b[1;32m    620\u001b[0m features\u001b[38;5;241m.\u001b[39mupdate(extra_features)\n\u001b[1;32m    622\u001b[0m \u001b[38;5;28;01mwith\u001b[39;00m torch\u001b[38;5;241m.\u001b[39mno_grad():\n\u001b[0;32m--> 623\u001b[0m     out_features \u001b[38;5;241m=\u001b[39m \u001b[38;5;28;43mself\u001b[39;49m\u001b[38;5;241;43m.\u001b[39;49m\u001b[43mforward\u001b[49m\u001b[43m(\u001b[49m\u001b[43mfeatures\u001b[49m\u001b[43m,\u001b[49m\u001b[43m \u001b[49m\u001b[38;5;241;43m*\u001b[39;49m\u001b[38;5;241;43m*\u001b[39;49m\u001b[43mkwargs\u001b[49m\u001b[43m)\u001b[49m\n\u001b[1;32m    624\u001b[0m     \u001b[38;5;28;01mif\u001b[39;00m \u001b[38;5;28mself\u001b[39m\u001b[38;5;241m.\u001b[39mdevice\u001b[38;5;241m.\u001b[39mtype \u001b[38;5;241m==\u001b[39m \u001b[38;5;124m\"\u001b[39m\u001b[38;5;124mhpu\u001b[39m\u001b[38;5;124m\"\u001b[39m:\n\u001b[1;32m    625\u001b[0m         out_features \u001b[38;5;241m=\u001b[39m copy\u001b[38;5;241m.\u001b[39mdeepcopy(out_features)\n",
      "File \u001b[0;32m~/Library/Python/3.9/lib/python/site-packages/sentence_transformers/SentenceTransformer.py:690\u001b[0m, in \u001b[0;36mSentenceTransformer.forward\u001b[0;34m(self, input, **kwargs)\u001b[0m\n\u001b[1;32m    688\u001b[0m     module_kwarg_keys \u001b[38;5;241m=\u001b[39m \u001b[38;5;28mself\u001b[39m\u001b[38;5;241m.\u001b[39mmodule_kwargs\u001b[38;5;241m.\u001b[39mget(module_name, [])\n\u001b[1;32m    689\u001b[0m     module_kwargs \u001b[38;5;241m=\u001b[39m {key: value \u001b[38;5;28;01mfor\u001b[39;00m key, value \u001b[38;5;129;01min\u001b[39;00m kwargs\u001b[38;5;241m.\u001b[39mitems() \u001b[38;5;28;01mif\u001b[39;00m key \u001b[38;5;129;01min\u001b[39;00m module_kwarg_keys}\n\u001b[0;32m--> 690\u001b[0m     \u001b[38;5;28minput\u001b[39m \u001b[38;5;241m=\u001b[39m \u001b[43mmodule\u001b[49m\u001b[43m(\u001b[49m\u001b[38;5;28;43minput\u001b[39;49m\u001b[43m,\u001b[49m\u001b[43m \u001b[49m\u001b[38;5;241;43m*\u001b[39;49m\u001b[38;5;241;43m*\u001b[39;49m\u001b[43mmodule_kwargs\u001b[49m\u001b[43m)\u001b[49m\n\u001b[1;32m    691\u001b[0m \u001b[38;5;28;01mreturn\u001b[39;00m \u001b[38;5;28minput\u001b[39m\n",
      "File \u001b[0;32m~/Library/Python/3.9/lib/python/site-packages/torch/nn/modules/module.py:1736\u001b[0m, in \u001b[0;36mModule._wrapped_call_impl\u001b[0;34m(self, *args, **kwargs)\u001b[0m\n\u001b[1;32m   1734\u001b[0m     \u001b[38;5;28;01mreturn\u001b[39;00m \u001b[38;5;28mself\u001b[39m\u001b[38;5;241m.\u001b[39m_compiled_call_impl(\u001b[38;5;241m*\u001b[39margs, \u001b[38;5;241m*\u001b[39m\u001b[38;5;241m*\u001b[39mkwargs)  \u001b[38;5;66;03m# type: ignore[misc]\u001b[39;00m\n\u001b[1;32m   1735\u001b[0m \u001b[38;5;28;01melse\u001b[39;00m:\n\u001b[0;32m-> 1736\u001b[0m     \u001b[38;5;28;01mreturn\u001b[39;00m \u001b[38;5;28;43mself\u001b[39;49m\u001b[38;5;241;43m.\u001b[39;49m\u001b[43m_call_impl\u001b[49m\u001b[43m(\u001b[49m\u001b[38;5;241;43m*\u001b[39;49m\u001b[43margs\u001b[49m\u001b[43m,\u001b[49m\u001b[43m \u001b[49m\u001b[38;5;241;43m*\u001b[39;49m\u001b[38;5;241;43m*\u001b[39;49m\u001b[43mkwargs\u001b[49m\u001b[43m)\u001b[49m\n",
      "File \u001b[0;32m~/Library/Python/3.9/lib/python/site-packages/torch/nn/modules/module.py:1747\u001b[0m, in \u001b[0;36mModule._call_impl\u001b[0;34m(self, *args, **kwargs)\u001b[0m\n\u001b[1;32m   1742\u001b[0m \u001b[38;5;66;03m# If we don't have any hooks, we want to skip the rest of the logic in\u001b[39;00m\n\u001b[1;32m   1743\u001b[0m \u001b[38;5;66;03m# this function, and just call forward.\u001b[39;00m\n\u001b[1;32m   1744\u001b[0m \u001b[38;5;28;01mif\u001b[39;00m \u001b[38;5;129;01mnot\u001b[39;00m (\u001b[38;5;28mself\u001b[39m\u001b[38;5;241m.\u001b[39m_backward_hooks \u001b[38;5;129;01mor\u001b[39;00m \u001b[38;5;28mself\u001b[39m\u001b[38;5;241m.\u001b[39m_backward_pre_hooks \u001b[38;5;129;01mor\u001b[39;00m \u001b[38;5;28mself\u001b[39m\u001b[38;5;241m.\u001b[39m_forward_hooks \u001b[38;5;129;01mor\u001b[39;00m \u001b[38;5;28mself\u001b[39m\u001b[38;5;241m.\u001b[39m_forward_pre_hooks\n\u001b[1;32m   1745\u001b[0m         \u001b[38;5;129;01mor\u001b[39;00m _global_backward_pre_hooks \u001b[38;5;129;01mor\u001b[39;00m _global_backward_hooks\n\u001b[1;32m   1746\u001b[0m         \u001b[38;5;129;01mor\u001b[39;00m _global_forward_hooks \u001b[38;5;129;01mor\u001b[39;00m _global_forward_pre_hooks):\n\u001b[0;32m-> 1747\u001b[0m     \u001b[38;5;28;01mreturn\u001b[39;00m \u001b[43mforward_call\u001b[49m\u001b[43m(\u001b[49m\u001b[38;5;241;43m*\u001b[39;49m\u001b[43margs\u001b[49m\u001b[43m,\u001b[49m\u001b[43m \u001b[49m\u001b[38;5;241;43m*\u001b[39;49m\u001b[38;5;241;43m*\u001b[39;49m\u001b[43mkwargs\u001b[49m\u001b[43m)\u001b[49m\n\u001b[1;32m   1749\u001b[0m result \u001b[38;5;241m=\u001b[39m \u001b[38;5;28;01mNone\u001b[39;00m\n\u001b[1;32m   1750\u001b[0m called_always_called_hooks \u001b[38;5;241m=\u001b[39m \u001b[38;5;28mset\u001b[39m()\n",
      "File \u001b[0;32m~/Library/Python/3.9/lib/python/site-packages/sentence_transformers/models/Transformer.py:442\u001b[0m, in \u001b[0;36mTransformer.forward\u001b[0;34m(self, features, **kwargs)\u001b[0m\n\u001b[1;32m    435\u001b[0m \u001b[38;5;250m\u001b[39m\u001b[38;5;124;03m\"\"\"Returns token_embeddings, cls_token\"\"\"\u001b[39;00m\n\u001b[1;32m    436\u001b[0m trans_features \u001b[38;5;241m=\u001b[39m {\n\u001b[1;32m    437\u001b[0m     key: value\n\u001b[1;32m    438\u001b[0m     \u001b[38;5;28;01mfor\u001b[39;00m key, value \u001b[38;5;129;01min\u001b[39;00m features\u001b[38;5;241m.\u001b[39mitems()\n\u001b[1;32m    439\u001b[0m     \u001b[38;5;28;01mif\u001b[39;00m key \u001b[38;5;129;01min\u001b[39;00m [\u001b[38;5;124m\"\u001b[39m\u001b[38;5;124minput_ids\u001b[39m\u001b[38;5;124m\"\u001b[39m, \u001b[38;5;124m\"\u001b[39m\u001b[38;5;124mattention_mask\u001b[39m\u001b[38;5;124m\"\u001b[39m, \u001b[38;5;124m\"\u001b[39m\u001b[38;5;124mtoken_type_ids\u001b[39m\u001b[38;5;124m\"\u001b[39m, \u001b[38;5;124m\"\u001b[39m\u001b[38;5;124minputs_embeds\u001b[39m\u001b[38;5;124m\"\u001b[39m]\n\u001b[1;32m    440\u001b[0m }\n\u001b[0;32m--> 442\u001b[0m output_states \u001b[38;5;241m=\u001b[39m \u001b[38;5;28;43mself\u001b[39;49m\u001b[38;5;241;43m.\u001b[39;49m\u001b[43mauto_model\u001b[49m\u001b[43m(\u001b[49m\u001b[38;5;241;43m*\u001b[39;49m\u001b[38;5;241;43m*\u001b[39;49m\u001b[43mtrans_features\u001b[49m\u001b[43m,\u001b[49m\u001b[43m \u001b[49m\u001b[38;5;241;43m*\u001b[39;49m\u001b[38;5;241;43m*\u001b[39;49m\u001b[43mkwargs\u001b[49m\u001b[43m,\u001b[49m\u001b[43m \u001b[49m\u001b[43mreturn_dict\u001b[49m\u001b[38;5;241;43m=\u001b[39;49m\u001b[38;5;28;43;01mFalse\u001b[39;49;00m\u001b[43m)\u001b[49m\n\u001b[1;32m    443\u001b[0m output_tokens \u001b[38;5;241m=\u001b[39m output_states[\u001b[38;5;241m0\u001b[39m]\n\u001b[1;32m    445\u001b[0m \u001b[38;5;66;03m# If the AutoModel is wrapped with a PeftModelForFeatureExtraction, then it may have added virtual tokens\u001b[39;00m\n\u001b[1;32m    446\u001b[0m \u001b[38;5;66;03m# We need to extend the attention mask to include these virtual tokens, or the pooling will fail\u001b[39;00m\n",
      "File \u001b[0;32m~/Library/Python/3.9/lib/python/site-packages/torch/nn/modules/module.py:1736\u001b[0m, in \u001b[0;36mModule._wrapped_call_impl\u001b[0;34m(self, *args, **kwargs)\u001b[0m\n\u001b[1;32m   1734\u001b[0m     \u001b[38;5;28;01mreturn\u001b[39;00m \u001b[38;5;28mself\u001b[39m\u001b[38;5;241m.\u001b[39m_compiled_call_impl(\u001b[38;5;241m*\u001b[39margs, \u001b[38;5;241m*\u001b[39m\u001b[38;5;241m*\u001b[39mkwargs)  \u001b[38;5;66;03m# type: ignore[misc]\u001b[39;00m\n\u001b[1;32m   1735\u001b[0m \u001b[38;5;28;01melse\u001b[39;00m:\n\u001b[0;32m-> 1736\u001b[0m     \u001b[38;5;28;01mreturn\u001b[39;00m \u001b[38;5;28;43mself\u001b[39;49m\u001b[38;5;241;43m.\u001b[39;49m\u001b[43m_call_impl\u001b[49m\u001b[43m(\u001b[49m\u001b[38;5;241;43m*\u001b[39;49m\u001b[43margs\u001b[49m\u001b[43m,\u001b[49m\u001b[43m \u001b[49m\u001b[38;5;241;43m*\u001b[39;49m\u001b[38;5;241;43m*\u001b[39;49m\u001b[43mkwargs\u001b[49m\u001b[43m)\u001b[49m\n",
      "File \u001b[0;32m~/Library/Python/3.9/lib/python/site-packages/torch/nn/modules/module.py:1747\u001b[0m, in \u001b[0;36mModule._call_impl\u001b[0;34m(self, *args, **kwargs)\u001b[0m\n\u001b[1;32m   1742\u001b[0m \u001b[38;5;66;03m# If we don't have any hooks, we want to skip the rest of the logic in\u001b[39;00m\n\u001b[1;32m   1743\u001b[0m \u001b[38;5;66;03m# this function, and just call forward.\u001b[39;00m\n\u001b[1;32m   1744\u001b[0m \u001b[38;5;28;01mif\u001b[39;00m \u001b[38;5;129;01mnot\u001b[39;00m (\u001b[38;5;28mself\u001b[39m\u001b[38;5;241m.\u001b[39m_backward_hooks \u001b[38;5;129;01mor\u001b[39;00m \u001b[38;5;28mself\u001b[39m\u001b[38;5;241m.\u001b[39m_backward_pre_hooks \u001b[38;5;129;01mor\u001b[39;00m \u001b[38;5;28mself\u001b[39m\u001b[38;5;241m.\u001b[39m_forward_hooks \u001b[38;5;129;01mor\u001b[39;00m \u001b[38;5;28mself\u001b[39m\u001b[38;5;241m.\u001b[39m_forward_pre_hooks\n\u001b[1;32m   1745\u001b[0m         \u001b[38;5;129;01mor\u001b[39;00m _global_backward_pre_hooks \u001b[38;5;129;01mor\u001b[39;00m _global_backward_hooks\n\u001b[1;32m   1746\u001b[0m         \u001b[38;5;129;01mor\u001b[39;00m _global_forward_hooks \u001b[38;5;129;01mor\u001b[39;00m _global_forward_pre_hooks):\n\u001b[0;32m-> 1747\u001b[0m     \u001b[38;5;28;01mreturn\u001b[39;00m \u001b[43mforward_call\u001b[49m\u001b[43m(\u001b[49m\u001b[38;5;241;43m*\u001b[39;49m\u001b[43margs\u001b[49m\u001b[43m,\u001b[49m\u001b[43m \u001b[49m\u001b[38;5;241;43m*\u001b[39;49m\u001b[38;5;241;43m*\u001b[39;49m\u001b[43mkwargs\u001b[49m\u001b[43m)\u001b[49m\n\u001b[1;32m   1749\u001b[0m result \u001b[38;5;241m=\u001b[39m \u001b[38;5;28;01mNone\u001b[39;00m\n\u001b[1;32m   1750\u001b[0m called_always_called_hooks \u001b[38;5;241m=\u001b[39m \u001b[38;5;28mset\u001b[39m()\n",
      "File \u001b[0;32m~/Library/Python/3.9/lib/python/site-packages/transformers/models/xlm_roberta/modeling_xlm_roberta.py:943\u001b[0m, in \u001b[0;36mXLMRobertaModel.forward\u001b[0;34m(self, input_ids, attention_mask, token_type_ids, position_ids, head_mask, inputs_embeds, encoder_hidden_states, encoder_attention_mask, past_key_values, use_cache, output_attentions, output_hidden_states, return_dict)\u001b[0m\n\u001b[1;32m    936\u001b[0m         extended_attention_mask \u001b[38;5;241m=\u001b[39m _prepare_4d_causal_attention_mask_for_sdpa(\n\u001b[1;32m    937\u001b[0m             attention_mask,\n\u001b[1;32m    938\u001b[0m             input_shape,\n\u001b[1;32m    939\u001b[0m             embedding_output,\n\u001b[1;32m    940\u001b[0m             past_key_values_length,\n\u001b[1;32m    941\u001b[0m         )\n\u001b[1;32m    942\u001b[0m     \u001b[38;5;28;01melse\u001b[39;00m:\n\u001b[0;32m--> 943\u001b[0m         extended_attention_mask \u001b[38;5;241m=\u001b[39m \u001b[43m_prepare_4d_attention_mask_for_sdpa\u001b[49m\u001b[43m(\u001b[49m\n\u001b[1;32m    944\u001b[0m \u001b[43m            \u001b[49m\u001b[43mattention_mask\u001b[49m\u001b[43m,\u001b[49m\u001b[43m \u001b[49m\u001b[43membedding_output\u001b[49m\u001b[38;5;241;43m.\u001b[39;49m\u001b[43mdtype\u001b[49m\u001b[43m,\u001b[49m\u001b[43m \u001b[49m\u001b[43mtgt_len\u001b[49m\u001b[38;5;241;43m=\u001b[39;49m\u001b[43mseq_length\u001b[49m\n\u001b[1;32m    945\u001b[0m \u001b[43m        \u001b[49m\u001b[43m)\u001b[49m\n\u001b[1;32m    946\u001b[0m \u001b[38;5;28;01melse\u001b[39;00m:\n\u001b[1;32m    947\u001b[0m     \u001b[38;5;66;03m# We can provide a self-attention mask of dimensions [batch_size, from_seq_length, to_seq_length]\u001b[39;00m\n\u001b[1;32m    948\u001b[0m     \u001b[38;5;66;03m# ourselves in which case we just need to make it broadcastable to all heads.\u001b[39;00m\n\u001b[1;32m    949\u001b[0m     extended_attention_mask \u001b[38;5;241m=\u001b[39m \u001b[38;5;28mself\u001b[39m\u001b[38;5;241m.\u001b[39mget_extended_attention_mask(attention_mask, input_shape)\n",
      "File \u001b[0;32m~/Library/Python/3.9/lib/python/site-packages/transformers/modeling_attn_mask_utils.py:448\u001b[0m, in \u001b[0;36m_prepare_4d_attention_mask_for_sdpa\u001b[0;34m(mask, dtype, tgt_len)\u001b[0m\n\u001b[1;32m    445\u001b[0m is_tracing \u001b[38;5;241m=\u001b[39m torch\u001b[38;5;241m.\u001b[39mjit\u001b[38;5;241m.\u001b[39mis_tracing() \u001b[38;5;129;01mor\u001b[39;00m \u001b[38;5;28misinstance\u001b[39m(mask, torch\u001b[38;5;241m.\u001b[39mfx\u001b[38;5;241m.\u001b[39mProxy) \u001b[38;5;129;01mor\u001b[39;00m is_torchdynamo_compiling()\n\u001b[1;32m    447\u001b[0m \u001b[38;5;66;03m# torch.jit.trace, symbolic_trace and torchdynamo with fullgraph=True are unable to capture data-dependent controlflows.\u001b[39;00m\n\u001b[0;32m--> 448\u001b[0m \u001b[38;5;28;01mif\u001b[39;00m \u001b[38;5;129;01mnot\u001b[39;00m is_tracing \u001b[38;5;129;01mand\u001b[39;00m torch\u001b[38;5;241m.\u001b[39mall(mask \u001b[38;5;241m==\u001b[39m \u001b[38;5;241m1\u001b[39m):\n\u001b[1;32m    449\u001b[0m     \u001b[38;5;28;01mreturn\u001b[39;00m \u001b[38;5;28;01mNone\u001b[39;00m\n\u001b[1;32m    450\u001b[0m \u001b[38;5;28;01melse\u001b[39;00m:\n",
      "\u001b[0;31mKeyboardInterrupt\u001b[0m: "
     ]
    }
   ],
   "source": [
    "\n",
    "index = faiss.IndexFlatL2(EMBEDDING_DIM)\n",
    "index = faiss.read_index(\"faiss_element_chunk_index.idx\")\n",
    "with open(\"faiss_element_chunk_metadata.json\", \"r\", encoding=\"utf-8\") as f:\n",
    "    faiss_metadata = json.load(f)\n",
    "with open('pdf_questions.json', 'r', encoding='utf-8') as f:\n",
    "    data = json.load(f)\n",
    "total_bert = 0\n",
    "total_rough=0\n",
    "win = 0\n",
    "loss = 0\n",
    "for each in data : \n",
    "        # 整理 Context\n",
    "    context = \" \".join([metadata['content'] for metadata in res])\n",
    "    # LLM Prompt\n",
    "    prompt = f\"\"\"\n",
    "    你是一個 AI 助理，專門根據官方文件回答資安相關問題。請根據提供的文件內容生成精確且簡潔的答案，不要加入額外資訊或推測性的內容，並確保答案與參考內容高度一致。\n",
    "\n",
    "    **問題：** {each['question']}\n",
    "    **參考內容：** {context}\n",
    "\n",
    "    **答案（請直接從參考內容提取，確保準確性以及符合問題）：**\n",
    "    \"\"\"\n",
    "    # 生成回答\n",
    "    #generated_answer = llm.invoke(prompt).strip()\n",
    "    # 計算 BLEU 和 ROUGE 分數\n",
    "    rough_score = calculate_rouge_l(each['answer'], generated_answer)\n",
    "    bert_score = calculatge_bert_score(each['answer'], generated_answer)    \n",
    "    res = search_faiss(each['question'])\n",
    "    found = False\n",
    "    total_bert += bert_score\n",
    "    total_rough += rough_score\n",
    "    for metadata in res:\n",
    "        if metadata['File_Name'] == each['File_Name'] and str(each['Page_Num']) in  metadata['Page_Num']:\n",
    "            win += 1\n",
    "            found = True\n",
    "            break\n",
    "    if not found:\n",
    "        loss += 1\n",
    "\n",
    "accuracy = win / (win + loss) if (win + loss) > 0 else 0\n",
    "average_rough = total_rough / (win + loss) \n",
    "average_bert = total_bert / (win + loss)\n",
    "print(\"Element Chunk\")\n",
    "print(f\"Accuracy: {accuracy:.4f}\")\n",
    "print(f\"total_chunk: {len(faiss_metadata)}\")\n",
    "print(f\"Average bert score: {average_bert:.4f}\")\n",
    "print(f\"Average ROUGE-L score: {average_rough:.4f}\")\n"
   ]
  }
 ],
 "metadata": {
  "kernelspec": {
   "display_name": "Python 3",
   "language": "python",
   "name": "python3"
  },
  "language_info": {
   "codemirror_mode": {
    "name": "ipython",
    "version": 3
   },
   "file_extension": ".py",
   "mimetype": "text/x-python",
   "name": "python",
   "nbconvert_exporter": "python",
   "pygments_lexer": "ipython3",
   "version": "3.8.7"
  }
 },
 "nbformat": 4,
 "nbformat_minor": 2
}
